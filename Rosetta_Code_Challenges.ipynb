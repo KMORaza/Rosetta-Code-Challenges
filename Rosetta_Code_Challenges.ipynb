{
  "nbformat": 4,
  "nbformat_minor": 0,
  "metadata": {
    "colab": {
      "provenance": []
    },
    "kernelspec": {
      "name": "python3",
      "display_name": "Python 3"
    },
    "language_info": {
      "name": "python"
    }
  },
  "cells": [
    {
      "cell_type": "code",
      "source": [
        "# 100 Doors\n",
        "def final_open_doors(num_doors):\n",
        "    doors = [False] * num_doors\n",
        "    for pass_num in range(1, num_doors + 1):\n",
        "        for door_num in range(pass_num - 1, num_doors, pass_num):\n",
        "            doors[door_num] = not doors[door_num]\n",
        "    open_doors = [i + 1 for i, is_open in enumerate(doors) if is_open]\n",
        "    return open_doors\n",
        "num_doors = 100\n",
        "result = final_open_doors(num_doors)\n",
        "print(\"Open doors after the last pass = \", result)"
      ],
      "metadata": {
        "colab": {
          "base_uri": "https://localhost:8080/"
        },
        "id": "BvLMuNUOgMV1",
        "outputId": "a16b07f8-50be-4489-e3e6-6503d08780c5"
      },
      "execution_count": null,
      "outputs": [
        {
          "output_type": "stream",
          "name": "stdout",
          "text": [
            "Open doors after the last pass =  [1, 4, 9, 16, 25, 36, 49, 64, 81, 100]\n"
          ]
        }
      ]
    },
    {
      "cell_type": "code",
      "source": [
        "# 24 Game\n",
        "from itertools import permutations\n",
        "def find_24(nums):\n",
        "    ops = ['+', '-', '*', '/']\n",
        "    def apply_op(a, b, op):\n",
        "        if op == '+':\n",
        "            return a + b\n",
        "        elif op == '-':\n",
        "            return a - b\n",
        "        elif op == '*':\n",
        "            return a * b\n",
        "        elif op == '/':\n",
        "            if b != 0:\n",
        "                return a / b\n",
        "            else:\n",
        "                return None\n",
        "    for perm in permutations(nums):\n",
        "        for op1 in ops:\n",
        "            for op2 in ops:\n",
        "                for op3 in ops:\n",
        "                    a, b, c, d = perm\n",
        "                    res = apply_op(apply_op(apply_op(a, b, op1), c, op2), d, op3)\n",
        "                    if res == 24:\n",
        "                        return f\"({a} {op1} {b}) {op2} {c} {op3} {d}\"\n",
        "                    res = apply_op(apply_op(a, b, op1), apply_op(c, d, op3), op2)\n",
        "                    if res == 24:\n",
        "                        return f\"{a} {op1} {b} {op2} ({c} {op3} {d})\"\n",
        "                    res = apply_op(apply_op(a, apply_op(b, c, op2), op1), d, op3)\n",
        "                    if res == 24:\n",
        "                        return f\"{a} {op1} ({b} {op2} {c}) {op3} {d}\"\n",
        "                    res = apply_op(a, apply_op(apply_op(b, c, op2), d, op3), op1)\n",
        "                    if res == 24:\n",
        "                        return f\"{a} {op1} ({b} {op2} {c} {op3} {d})\"\n",
        "                    res = apply_op(apply_op(a, b, op1), apply_op(c, d, op3), op2)\n",
        "                    if res == 24:\n",
        "                        return f\"({a} {op1} {b}) {op2} ({c} {op3} {d})\"\n",
        "    return \"no solution exists\"\n",
        "print(find_24([1, 2, 3, 4]))"
      ],
      "metadata": {
        "colab": {
          "base_uri": "https://localhost:8080/"
        },
        "id": "8zd-bnMHkz6T",
        "outputId": "121ef579-32ab-4123-b9b2-9985189c044f"
      },
      "execution_count": null,
      "outputs": [
        {
          "output_type": "stream",
          "name": "stdout",
          "text": [
            "(1 + 2) + 3 * 4\n"
          ]
        }
      ]
    },
    {
      "cell_type": "code",
      "source": [
        "# 9 Billion Names\n",
        "def sum_of_nth_row(n):\n",
        "    partitions = [[0] * (n + 1) for _ in range(n + 1)]\n",
        "    for i in range(n + 1):\n",
        "        partitions[0][i] = 1\n",
        "    for i in range(1, n + 1):\n",
        "        for j in range(1, i + 1):\n",
        "            partitions[i][j] = partitions[i - j][j] + partitions[i][j - 1]\n",
        "    return sum(partitions[n])\n",
        "n = 6\n",
        "print(f\"The sum of the {n}ᵗʰ row = {sum_of_nth_row(n)}\")"
      ],
      "metadata": {
        "colab": {
          "base_uri": "https://localhost:8080/"
        },
        "id": "ZJNKX31OlRS9",
        "outputId": "e8f27e31-1832-47ec-80bd-b84d85421f00"
      },
      "execution_count": null,
      "outputs": [
        {
          "output_type": "stream",
          "name": "stdout",
          "text": [
            "The sum of the 6ᵗʰ row = 30\n"
          ]
        }
      ]
    },
    {
      "cell_type": "code",
      "source": [
        "# ABC Problem\n",
        "def can_spell_with_blocks(word, blocks):\n",
        "    word = word.upper()\n",
        "    used_blocks = set()\n",
        "    for letter in word:\n",
        "        found_block = False\n",
        "        for block in blocks:\n",
        "            if letter in block and block not in used_blocks:\n",
        "                used_blocks.add(block)\n",
        "                found_block = True\n",
        "                break\n",
        "        if not found_block:\n",
        "            return False\n",
        "    return True\n",
        "blocks = [\n",
        "    ('B', 'O'), ('X', 'K'), ('D', 'Q'), ('C', 'P'), ('N', 'A'),\n",
        "    ('G', 'T'), ('R', 'E'), ('T', 'G'), ('Q', 'D'), ('F', 'S'),\n",
        "    ('J', 'W'), ('H', 'U'), ('V', 'I'), ('A', 'N'), ('O', 'B'),\n",
        "    ('E', 'R'), ('F', 'S'), ('L', 'Y'), ('P', 'C'), ('Z', 'M')\n",
        "]\n",
        "print(can_spell_with_blocks(\"Cat\", blocks))\n",
        "print(can_spell_with_blocks(\"Book\", blocks))"
      ],
      "metadata": {
        "colab": {
          "base_uri": "https://localhost:8080/"
        },
        "id": "d7Im0s6h4lJe",
        "outputId": "ec3b47f8-892c-44bf-b38a-881ef36b8fd4"
      },
      "execution_count": null,
      "outputs": [
        {
          "output_type": "stream",
          "name": "stdout",
          "text": [
            "True\n",
            "False\n"
          ]
        }
      ]
    },
    {
      "cell_type": "code",
      "source": [
        "# Abundant, deficient and perfect number classifications\n",
        "def classify_integers(num):\n",
        "    def sum_of_divisors(n):\n",
        "        divisors_sum = 0\n",
        "        for i in range(1, n):\n",
        "            if n % i == 0:\n",
        "                divisors_sum += i\n",
        "        return divisors_sum\n",
        "    deficient_count = 0\n",
        "    perfect_count = 0\n",
        "    abundant_count = 0\n",
        "    for i in range(1, num + 1):\n",
        "        div_sum = sum_of_divisors(i)\n",
        "        if div_sum < i:\n",
        "            deficient_count += 1\n",
        "        elif div_sum == i:\n",
        "            perfect_count += 1\n",
        "        else:\n",
        "            abundant_count += 1\n",
        "    return [deficient_count, perfect_count, abundant_count]\n",
        "num = 20\n",
        "result = classify_integers(num)\n",
        "print(result)"
      ],
      "metadata": {
        "colab": {
          "base_uri": "https://localhost:8080/"
        },
        "id": "8ck6i7oW5SxW",
        "outputId": "2852409e-d65b-4f1d-bc70-676853688184"
      },
      "execution_count": null,
      "outputs": [
        {
          "output_type": "stream",
          "name": "stdout",
          "text": [
            "[16, 1, 3]\n"
          ]
        }
      ]
    },
    {
      "cell_type": "code",
      "source": [
        "# Accumulator Factory\n",
        "def accumulator_factory(n):\n",
        "    def accumulator(x):\n",
        "        accumulator.total += x\n",
        "        return accumulator.total\n",
        "    accumulator.total = n\n",
        "    return accumulator\n",
        "acc1 = accumulator_factory(5)\n",
        "print(acc1(3))\n",
        "print(acc1(7))\n",
        "acc2 = accumulator_factory(10)\n",
        "print(acc2(2))\n",
        "print(acc2(4))"
      ],
      "metadata": {
        "colab": {
          "base_uri": "https://localhost:8080/"
        },
        "id": "x8P0JXrW6ii_",
        "outputId": "e3924315-2439-4db4-a000-bfd1d0afdac9"
      },
      "execution_count": null,
      "outputs": [
        {
          "output_type": "stream",
          "name": "stdout",
          "text": [
            "8\n",
            "15\n",
            "12\n",
            "16\n"
          ]
        }
      ]
    },
    {
      "cell_type": "code",
      "source": [
        "# Ackermann Function\n",
        "def ackermann(m, n):\n",
        "    if m == 0:\n",
        "        return n + 1\n",
        "    elif m > 0 and n == 0:\n",
        "        return ackermann(m - 1, 1)\n",
        "    elif m > 0 and n > 0:\n",
        "        return ackermann(m - 1, ackermann(m, n - 1))\n",
        "result = ackermann(3, 4)\n",
        "print(\"Ackermann(3, 4) =\", result)"
      ],
      "metadata": {
        "colab": {
          "base_uri": "https://localhost:8080/"
        },
        "id": "AyhGXq1N711Z",
        "outputId": "261d55de-f253-45fd-ea44-0175dfecfea7"
      },
      "execution_count": null,
      "outputs": [
        {
          "output_type": "stream",
          "name": "stdout",
          "text": [
            "Ackermann(3, 4) = 125\n"
          ]
        }
      ]
    },
    {
      "cell_type": "code",
      "source": [
        "# Align Columns\n",
        "def align_columns(text, alignment):\n",
        "    column_widths = [0] * max(len(line.split('$')) for line in text)\n",
        "    for line in text:\n",
        "        words = line.split('$')\n",
        "        for i, word in enumerate(words):\n",
        "            column_widths[i] = max(column_widths[i], len(word))\n",
        "    aligned_lines = []\n",
        "    for line in text:\n",
        "        words = line.split('$')\n",
        "        aligned_words = []\n",
        "        for i, word in enumerate(words):\n",
        "            width_diff = column_widths[i] - len(word)\n",
        "            if alignment == 'right':\n",
        "                aligned_word = ' ' * width_diff + word\n",
        "            elif alignment == 'center':\n",
        "                left_spaces = ' ' * (width_diff // 2)\n",
        "                right_spaces = ' ' * (width_diff - width_diff // 2)\n",
        "                aligned_word = left_spaces + word + right_spaces\n",
        "            else:\n",
        "                aligned_word = word + ' ' * width_diff\n",
        "            aligned_words.append(aligned_word)\n",
        "        aligned_lines.append(' '.join(aligned_words))\n",
        "    return '\\n'.join(aligned_lines)\n",
        "test_text = [\n",
        "    'Given$a$text$file$of$many$lines',\n",
        "    'where$fields$within$a$line$',\n",
        "    'are$delineated$by$a$single$\"dollar\"$character',\n",
        "    'write$a$program',\n",
        "    'that$aligns$each$column$of$fields',\n",
        "    'by$ensuring$that$words$in$each$',\n",
        "    'column$are$separated$by$at$least$one$space.',\n",
        "    'Further,$allow$for$each$word$in$a$column$to$be$either$left$',\n",
        "    'justified,$right$justified',\n",
        "    'or$center$justified$within$its$column.'\n",
        "]\n",
        "aligned_text = align_columns(test_text, 'right')\n",
        "print(aligned_text)"
      ],
      "metadata": {
        "colab": {
          "base_uri": "https://localhost:8080/"
        },
        "id": "RwmYC-KF8rhE",
        "outputId": "5e3e8c1c-9763-4eb7-a49d-ab8eb337ea60"
      },
      "execution_count": null,
      "outputs": [
        {
          "output_type": "stream",
          "name": "stdout",
          "text": [
            "     Given          a      text   file     of     many     lines\n",
            "     where     fields    within      a   line         \n",
            "       are delineated        by      a single \"dollar\" character\n",
            "     write          a   program\n",
            "      that     aligns      each column     of   fields\n",
            "        by   ensuring      that  words     in     each          \n",
            "    column        are separated     by     at    least       one space.\n",
            "  Further,      allow       for   each   word       in         a column to be either left \n",
            "justified,      right justified\n",
            "        or     center justified within    its  column.\n"
          ]
        }
      ]
    },
    {
      "cell_type": "code",
      "source": [
        "# Amicable Pairs\n",
        "def sum_of_divisors(n):\n",
        "    divisors_sum = 1\n",
        "    for i in range(2, int(n**0.5) + 1):\n",
        "        if n % i == 0:\n",
        "            divisors_sum += i\n",
        "            if i != n // i:\n",
        "                divisors_sum += n // i\n",
        "    return divisors_sum\n",
        "def find_amicable_pairs(limit):\n",
        "    amicable_pairs = []\n",
        "    for num in range(2, limit):\n",
        "        sum_divisors = sum_of_divisors(num)\n",
        "        if sum_divisors != num and sum_of_divisors(sum_divisors) == num:\n",
        "            amicable_pairs.append((num, sum_divisors))\n",
        "    return amicable_pairs\n",
        "amicable_pairs = find_amicable_pairs(20000)\n",
        "print(\"Amicable pairs below 20,000:\")\n",
        "for pair in amicable_pairs:\n",
        "    print(pair)"
      ],
      "metadata": {
        "colab": {
          "base_uri": "https://localhost:8080/"
        },
        "id": "r5x9HxWH9ipr",
        "outputId": "4d1ab552-da9d-41cf-a5cc-24cbe082d1f5"
      },
      "execution_count": null,
      "outputs": [
        {
          "output_type": "stream",
          "name": "stdout",
          "text": [
            "Amicable pairs below 20,000:\n",
            "(220, 284)\n",
            "(284, 220)\n",
            "(1184, 1210)\n",
            "(1210, 1184)\n",
            "(2620, 2924)\n",
            "(2924, 2620)\n",
            "(5020, 5564)\n",
            "(5564, 5020)\n",
            "(6232, 6368)\n",
            "(6368, 6232)\n",
            "(10744, 10856)\n",
            "(10856, 10744)\n",
            "(12285, 14595)\n",
            "(14595, 12285)\n",
            "(17296, 18416)\n",
            "(18416, 17296)\n"
          ]
        }
      ]
    },
    {
      "cell_type": "code",
      "source": [
        "# Mode\n",
        "def mode(arr):\n",
        "    if not arr:\n",
        "        return None\n",
        "    frequency = {}\n",
        "    max_frequency = 0\n",
        "    modes = []\n",
        "    for num in arr:\n",
        "        if num in frequency:\n",
        "            frequency[num] += 1\n",
        "        else:\n",
        "            frequency[num] = 1\n",
        "        max_frequency = max(max_frequency, frequency[num])\n",
        "    for key, value in frequency.items():\n",
        "        if value == max_frequency:\n",
        "            modes.append(key)\n",
        "    return modes\n",
        "arr = [1, 2, 2, 3, 3, 3, 4, 4, 4, 4]\n",
        "print(\"Mode(s) of the array = \", mode(arr))"
      ],
      "metadata": {
        "colab": {
          "base_uri": "https://localhost:8080/"
        },
        "id": "sfCgFCOc95kO",
        "outputId": "c9b6643d-2fe6-41fc-b820-8f02cd3db453"
      },
      "execution_count": null,
      "outputs": [
        {
          "output_type": "stream",
          "name": "stdout",
          "text": [
            "Mode(s) of the array =  [4]\n"
          ]
        }
      ]
    },
    {
      "cell_type": "code",
      "source": [
        "# Pythagorean Means\n",
        "from math import prod\n",
        "def arithmetic_mean(arr):\n",
        "    return sum(arr) / len(arr)\n",
        "def geometric_mean(arr):\n",
        "    return prod(arr) ** (1 / len(arr))\n",
        "def harmonic_mean(arr):\n",
        "    return len(arr) / sum(1 / num for num in arr)\n",
        "def compute_means(arr):\n",
        "    A = arithmetic_mean(arr)\n",
        "    G = geometric_mean(arr)\n",
        "    H = harmonic_mean(arr)\n",
        "    means = {\n",
        "        \"values\": {\n",
        "            \"Arithmetic\": A,\n",
        "            \"Geometric\": G,\n",
        "            \"Harmonic\": H\n",
        "        },\n",
        "        \"test\": \"yes\" if A >= G >= H else \"no\"\n",
        "    }\n",
        "    return means\n",
        "arr = list(range(1, 11))\n",
        "result = compute_means(arr)\n",
        "print(result)"
      ],
      "metadata": {
        "colab": {
          "base_uri": "https://localhost:8080/"
        },
        "id": "lDGi1czm_Ikg",
        "outputId": "251254d3-3f7c-4a57-938a-e923f53c23f6"
      },
      "execution_count": null,
      "outputs": [
        {
          "output_type": "stream",
          "name": "stdout",
          "text": [
            "{'values': {'Arithmetic': 5.5, 'Geometric': 4.528728688116765, 'Harmonic': 3.414171521474055}, 'test': 'yes'}\n"
          ]
        }
      ]
    },
    {
      "cell_type": "code",
      "source": [
        "# Root Mean Square\n",
        "import math\n",
        "def calculate_rms(numbers):\n",
        "    sum_of_squares = sum(num ** 2 for num in numbers)\n",
        "    mean_of_squares = sum_of_squares / len(numbers)\n",
        "    rms = math.sqrt(mean_of_squares)\n",
        "    return rms\n",
        "numbers = list(range(1, 11))\n",
        "rms = calculate_rms(numbers)\n",
        "print(\"RMS = \", rms)"
      ],
      "metadata": {
        "colab": {
          "base_uri": "https://localhost:8080/"
        },
        "id": "4RvSEO60_oHb",
        "outputId": "899366b8-4b20-4541-ddcc-5b132b501001"
      },
      "execution_count": null,
      "outputs": [
        {
          "output_type": "stream",
          "name": "stdout",
          "text": [
            "RMS =  6.2048368229954285\n"
          ]
        }
      ]
    },
    {
      "cell_type": "code",
      "source": [
        "# Babbage Problem\n",
        "def babbage_problem():\n",
        "    for i in range(1, 1000000):\n",
        "        square = i * i\n",
        "        if str(square)[-6:] == \"269696\":\n",
        "            return i\n",
        "    return None\n",
        "result = babbage_problem()\n",
        "if result is not None:\n",
        "    print(f\"The smallest positive integer whose square ends in the digits 269,696 is: {result}\")\n",
        "else:\n",
        "    print(\"No such integer found within the given range.\")"
      ],
      "metadata": {
        "colab": {
          "base_uri": "https://localhost:8080/"
        },
        "id": "RMgNGt-QAPIz",
        "outputId": "3f592e34-38e7-4369-8d11-934dbbb14c6a"
      },
      "execution_count": null,
      "outputs": [
        {
          "output_type": "stream",
          "name": "stdout",
          "text": [
            "The smallest positive integer whose square ends in the digits 269,696 is: 25264\n"
          ]
        }
      ]
    },
    {
      "cell_type": "code",
      "source": [
        "# Balanced Brackets\n",
        "def is_balanced(string):\n",
        "    stack = []\n",
        "    bracket_pairs = {']': '[', '}': '{', ')': '('}\n",
        "    for char in string:\n",
        "        if char in bracket_pairs.values():\n",
        "            stack.append(char)\n",
        "        elif char in bracket_pairs.keys():\n",
        "            if not stack or stack[-1] != bracket_pairs[char]:\n",
        "                return False\n",
        "            stack.pop()\n",
        "    return not stack\n",
        "test_cases = [\"[]\", \"][\", \"[][]\", \"][\", \"[]][[]\", \"[[[[]]]]\"]\n",
        "for test_case in test_cases:\n",
        "    print(test_case, \"->\", is_balanced(test_case))"
      ],
      "metadata": {
        "colab": {
          "base_uri": "https://localhost:8080/"
        },
        "id": "ljkvjg7wA30k",
        "outputId": "cb5eb8a5-0a55-476f-a7d6-43f791bbd093"
      },
      "execution_count": null,
      "outputs": [
        {
          "output_type": "stream",
          "name": "stdout",
          "text": [
            "[] -> True\n",
            "][ -> False\n",
            "[][] -> True\n",
            "][ -> False\n",
            "[]][[] -> False\n",
            "[[[[]]]] -> True\n"
          ]
        }
      ]
    },
    {
      "cell_type": "code",
      "source": [
        "# Circles of given radius through two points\n",
        "import math\n",
        "def circles_through_points(p1, p2, r):\n",
        "    p1 = tuple(p1)\n",
        "    p2 = tuple(p2)\n",
        "    distance = math.sqrt((p2[0] - p1[0])**2 + (p2[1] - p1[1])**2)\n",
        "    if distance > 2*r:\n",
        "        return \"No intersection. Points further apart than circle diameter\"\n",
        "    elif p1 == p2:\n",
        "        if r == 0:\n",
        "            return \"Radius Zero\"\n",
        "        else:\n",
        "            return \"Coincident point. Infinite solutions\"\n",
        "    elif distance == 2*r:\n",
        "        x = round((p1[0] + p2[0]) / 2, 4)\n",
        "        y = round((p1[1] + p2[1]) / 2, 4)\n",
        "        return [[x, y]]\n",
        "    else:\n",
        "        mid_x = (p1[0] + p2[0]) / 2\n",
        "        mid_y = (p1[1] + p2[1]) / 2\n",
        "        slope = (p2[1] - p1[1]) / (p2[0] - p1[0])\n",
        "        perp_slope = -1 / slope if slope != 0 else math.inf\n",
        "        perp_intercept = mid_y - perp_slope * mid_x\n",
        "        d = math.sqrt(r**2 / (1 + perp_slope**2))\n",
        "        center1_x = mid_x + d\n",
        "        center1_y = perp_slope * center1_x + perp_intercept\n",
        "        center2_x = mid_x - d\n",
        "        center2_y = perp_slope * center2_x + perp_intercept\n",
        "        return [[round(center1_x, 4), round(center1_y, 4)], [round(center2_x, 4), round(center2_y, 4)]]\n",
        "inputs = [\n",
        "    ((0.1234, 0.9876), (0.8765, 0.2345), 2.0),\n",
        "    ((0.0000, 2.0000), (0.0000, 0.0000), 1.0),\n",
        "    ((0.1234, 0.9876), (0.1234, 0.9876), 2.0),\n",
        "    ((0.1234, 0.9876), (0.8765, 0.2345), 0.5),\n",
        "    ((0.1234, 0.9876), (0.1234, 0.9876), 0.0)\n",
        "]\n",
        "for p1, p2, r in inputs:\n",
        "    print(\"Input:\", p1, p2, r)\n",
        "    print(\"Output:\", circles_through_points(p1, p2, r))\n",
        "    print()"
      ],
      "metadata": {
        "colab": {
          "base_uri": "https://localhost:8080/"
        },
        "id": "yyO70Hl8CCYG",
        "outputId": "6a2a8df0-2a36-4e67-906c-509a3984521a"
      },
      "execution_count": null,
      "outputs": [
        {
          "output_type": "stream",
          "name": "stdout",
          "text": [
            "Input: (0.1234, 0.9876) (0.8765, 0.2345) 2.0\n",
            "Output: [[1.9142, 2.0253], [-0.9143, -0.8032]]\n",
            "\n",
            "Input: (0.0, 2.0) (0.0, 0.0) 1.0\n",
            "Output: [[0.0, 1.0]]\n",
            "\n",
            "Input: (0.1234, 0.9876) (0.1234, 0.9876) 2.0\n",
            "Output: Coincident point. Infinite solutions\n",
            "\n",
            "Input: (0.1234, 0.9876) (0.8765, 0.2345) 0.5\n",
            "Output: No intersection. Points further apart than circle diameter\n",
            "\n",
            "Input: (0.1234, 0.9876) (0.1234, 0.9876) 0.0\n",
            "Output: Radius Zero\n",
            "\n"
          ]
        }
      ]
    },
    {
      "cell_type": "code",
      "source": [
        "# Closest Pair Problem\n",
        "import math\n",
        "class Point:\n",
        "    def __init__(self, x, y):\n",
        "        self.x = x\n",
        "        self.y = y\n",
        "    def __str__(self):\n",
        "        return f\"({self.x}, {self.y})\"\n",
        "def get_closest_pair(points):\n",
        "    def brute_force_closest_pair(points):\n",
        "        min_distance = float('inf')\n",
        "        pair = []\n",
        "        for i in range(len(points) - 1):\n",
        "            for j in range(i + 1, len(points)):\n",
        "                distance = math.sqrt((points[i].x - points[j].x) ** 2 + (points[i].y - points[j].y) ** 2)\n",
        "                if distance < min_distance:\n",
        "                    min_distance = distance\n",
        "                    pair = [points[i], points[j]]\n",
        "        return {'distance': min_distance, 'pair': pair}\n",
        "    def closest_pair(xP, yP):\n",
        "        N = len(xP)\n",
        "        if N <= 3:\n",
        "            return brute_force_closest_pair(xP)\n",
        "        xL = xP[:N // 2]\n",
        "        xR = xP[N // 2:]\n",
        "        xm = xP[N // 2 - 1].x\n",
        "        yL = [point for point in yP if point.x <= xm]\n",
        "        yR = [point for point in yP if point.x > xm]\n",
        "        dL, pairL = closest_pair(xL, yL)\n",
        "        dR, pairR = closest_pair(xR, yR)\n",
        "        dmin, closest_pair = (dL, pairL) if dL < dR else (dR, pairR)\n",
        "        yS = [point for point in yP if abs(point.x - xm) < dmin]\n",
        "        for i in range(len(yS) - 1):\n",
        "            for k in range(i + 1, min(i + 8, len(yS))):\n",
        "                distance = math.sqrt((yS[i].x - yS[k].x) ** 2 + (yS[i].y - yS[k].y) ** 2)\n",
        "                if distance < dmin:\n",
        "                    dmin = distance\n",
        "                    closest_pair = [yS[i], yS[k]]\n",
        "        return {'distance': dmin, 'pair': closest_pair}\n",
        "    sorted_by_x = sorted(points, key=lambda p: p.x)\n",
        "    sorted_by_y = sorted(points, key=lambda p: p.y)\n",
        "    return closest_pair(sorted_by_x, sorted_by_y)\n",
        "points = [\n",
        "    Point(1, 2),\n",
        "    Point(3, 3),\n",
        "    Point(2, 2)\n",
        "]\n",
        "result = get_closest_pair(points)\n",
        "print({'distance': result['distance'], 'pair': [str(point) for point in result['pair']]})"
      ],
      "metadata": {
        "colab": {
          "base_uri": "https://localhost:8080/"
        },
        "id": "vmEvgQMgDioT",
        "outputId": "94c0b4f7-4bb1-4382-f12a-b15acc9a0bcc"
      },
      "execution_count": null,
      "outputs": [
        {
          "output_type": "stream",
          "name": "stdout",
          "text": [
            "{'distance': 1.0, 'pair': ['(1, 2)', '(2, 2)']}\n"
          ]
        }
      ]
    },
    {
      "cell_type": "code",
      "source": [
        "# Combinations\n",
        "def generate_combinations(m, n):\n",
        "    def backtrack(start, comb):\n",
        "        if len(comb) == m:\n",
        "            result.append(comb[:])\n",
        "            return\n",
        "        for i in range(start, n):\n",
        "            comb.append(i)\n",
        "            backtrack(i + 1, comb)\n",
        "            comb.pop()\n",
        "    result = []\n",
        "    backtrack(0, [])\n",
        "    return result\n",
        "m = 3\n",
        "n = 5\n",
        "combinations = generate_combinations(m, n)\n",
        "for comb in combinations:\n",
        "    print(' '.join(str(num) for num in comb))"
      ],
      "metadata": {
        "colab": {
          "base_uri": "https://localhost:8080/"
        },
        "id": "CHrtVGu9EFFJ",
        "outputId": "445fe40d-e3a5-42d5-f657-fdedc1bbd694"
      },
      "execution_count": null,
      "outputs": [
        {
          "output_type": "stream",
          "name": "stdout",
          "text": [
            "0 1 2\n",
            "0 1 3\n",
            "0 1 4\n",
            "0 2 3\n",
            "0 2 4\n",
            "0 3 4\n",
            "1 2 3\n",
            "1 2 4\n",
            "1 3 4\n",
            "2 3 4\n"
          ]
        }
      ]
    },
    {
      "cell_type": "code",
      "source": [
        "# Comma quibbling\n",
        "def generate_output(words):\n",
        "    if not words:\n",
        "        return \"{}\"\n",
        "    elif len(words) == 1:\n",
        "        return \"{\" + words[0] + \"}\"\n",
        "    elif len(words) == 2:\n",
        "        return \"{\" + \" and \".join(words) + \"}\"\n",
        "    else:\n",
        "        all_but_last = \", \".join(words[:-1])\n",
        "        last = \" and \" + words[-1]\n",
        "        return \"{\" + all_but_last + last + \"}\"\n",
        "test_cases = [\n",
        "    [],\n",
        "    [\"ABC\"],\n",
        "    [\"ABC\", \"DEF\"],\n",
        "    [\"ABC\", \"DEF\", \"G\", \"H\"]\n",
        "]\n",
        "for case in test_cases:\n",
        "    print(generate_output(case))"
      ],
      "metadata": {
        "colab": {
          "base_uri": "https://localhost:8080/"
        },
        "id": "h8jakujKFKgb",
        "outputId": "d92f7848-e28c-420c-afe0-2dd1792dc8fe"
      },
      "execution_count": null,
      "outputs": [
        {
          "output_type": "stream",
          "name": "stdout",
          "text": [
            "{}\n",
            "{ABC}\n",
            "{ABC and DEF}\n",
            "{ABC, DEF, G and H}\n"
          ]
        }
      ]
    },
    {
      "cell_type": "code",
      "source": [
        "# Compare a list of strings\n",
        "def are_all_strings_equal(lst):\n",
        "    if len(lst) == 0:\n",
        "        return True\n",
        "    first_string = lst[0]\n",
        "    return all(string == first_string for string in lst)\n",
        "def is_strictly_ascending(lst):\n",
        "    for i in range(len(lst) - 1):\n",
        "        if lst[i] >= lst[i + 1]:\n",
        "            return False\n",
        "    return True\n",
        "lst = [['AA', 'BB', 'CC'], ['DD', 'EE', 'FF'], ['GG', 'HH', 'II']]\n",
        "print(\"Are all strings lexically equal?\", are_all_strings_equal(lst))\n",
        "print(\"Is the list in strict ascending order?\", is_strictly_ascending([item for sublist in lst for item in sublist]))"
      ],
      "metadata": {
        "colab": {
          "base_uri": "https://localhost:8080/"
        },
        "id": "ErKKYk70F6Ul",
        "outputId": "156cebaf-d1a8-4a71-87a2-1ba8b724f21d"
      },
      "execution_count": null,
      "outputs": [
        {
          "output_type": "stream",
          "name": "stdout",
          "text": [
            "Are all strings lexically equal? False\n",
            "Is the list in strict ascending order? True\n"
          ]
        }
      ]
    },
    {
      "cell_type": "code",
      "source": [
        "# Convert seconds to compound duration\n",
        "def format_duration(seconds):\n",
        "    if seconds == 0:\n",
        "        return \"0 sec\"\n",
        "    weeks = seconds // (7 * 24 * 3600)\n",
        "    seconds %= (7 * 24 * 3600)\n",
        "    days = seconds // (24 * 3600)\n",
        "    seconds %= (24 * 3600)\n",
        "    hours = seconds // 3600\n",
        "    seconds %= 3600\n",
        "    minutes = seconds // 60\n",
        "    seconds %= 60\n",
        "    duration_parts = []\n",
        "    if weeks:\n",
        "        duration_parts.append(f\"{weeks} week\" if weeks == 1 else f\"{weeks} weeks\")\n",
        "    if days:\n",
        "        duration_parts.append(f\"{days} day\" if days == 1 else f\"{days} days\")\n",
        "    if hours:\n",
        "        duration_parts.append(f\"{hours} hour\" if hours == 1 else f\"{hours} hours\")\n",
        "    if minutes:\n",
        "        duration_parts.append(f\"{minutes} min\" if minutes == 1 else f\"{minutes} mins\")\n",
        "    if seconds:\n",
        "        duration_parts.append(f\"{seconds} sec\" if seconds == 1 else f\"{seconds} secs\")\n",
        "    return ', '.join(duration_parts)\n",
        "print(format_duration(100))"
      ],
      "metadata": {
        "colab": {
          "base_uri": "https://localhost:8080/"
        },
        "id": "5x5DIAfNGxtk",
        "outputId": "6963646c-5c06-4425-f40b-fcfa5317181c"
      },
      "execution_count": null,
      "outputs": [
        {
          "output_type": "stream",
          "name": "stdout",
          "text": [
            "1 min, 40 secs\n"
          ]
        }
      ]
    },
    {
      "cell_type": "code",
      "source": [
        "# Count occurrences of a substring\n",
        "import re\n",
        "def count_non_overlapping_substring(string, substring):\n",
        "    pattern = re.compile(substring)\n",
        "    matches = pattern.findall(string)\n",
        "    return len(matches)\n",
        "string = \"abababab\"\n",
        "substring = \"ab\"\n",
        "print(count_non_overlapping_substring(string, substring))"
      ],
      "metadata": {
        "colab": {
          "base_uri": "https://localhost:8080/"
        },
        "id": "FZzXQXWJHsMQ",
        "outputId": "5dab151d-6c40-4cb3-e876-6aeafe5d51d5"
      },
      "execution_count": null,
      "outputs": [
        {
          "output_type": "stream",
          "name": "stdout",
          "text": [
            "4\n"
          ]
        }
      ]
    },
    {
      "cell_type": "code",
      "source": [
        "# Count the coins\n",
        "def make_change_ways(cents):\n",
        "    coins = [25, 10, 5, 1]\n",
        "    def count_ways(cents, index):\n",
        "        if cents == 0:\n",
        "            return 1\n",
        "        if cents < 0 or index >= len(coins):\n",
        "            return 0\n",
        "        include_current_coin = count_ways(cents - coins[index], index)\n",
        "        exclude_current_coin = count_ways(cents, index + 1)\n",
        "        return include_current_coin + exclude_current_coin\n",
        "    return count_ways(cents, 0)\n",
        "print(make_change_ways(15))"
      ],
      "metadata": {
        "colab": {
          "base_uri": "https://localhost:8080/"
        },
        "id": "ZUfaRNeZIe3H",
        "outputId": "d8960616-f297-45b0-a88d-7a35739469d9"
      },
      "execution_count": null,
      "outputs": [
        {
          "output_type": "stream",
          "name": "stdout",
          "text": [
            "6\n"
          ]
        }
      ]
    },
    {
      "cell_type": "code",
      "source": [
        "# Cramer's rule\n",
        "import numpy as np\n",
        "def solve_system_cramers(A, b):\n",
        "    n = A.shape[0]\n",
        "    det_A = np.linalg.det(A)\n",
        "    if det_A == 0:\n",
        "        raise ValueError(\"The determinant of the coefficient matrix is zero, Cramer's rule cannot be applied.\")\n",
        "    solutions = []\n",
        "    for i in range(n):\n",
        "        Ai = A.copy()\n",
        "        Ai[:, i] = b\n",
        "        det_Ai = np.linalg.det(Ai)\n",
        "        xi = det_Ai / det_A\n",
        "        solutions.append(xi)\n",
        "    return np.array(solutions)\n",
        "A = np.array([[2, -1, 5, 1],\n",
        "              [3, 2, 2, -6],\n",
        "              [1, 3, 3, -1],\n",
        "              [5, -2, -3, 3]])\n",
        "b = np.array([-3, -32, -47, 49])\n",
        "solution = solve_system_cramers(A, b)\n",
        "print(\"Solution for w, x, y, z:\", solution)"
      ],
      "metadata": {
        "colab": {
          "base_uri": "https://localhost:8080/"
        },
        "id": "y8HhGm36JaVw",
        "outputId": "1a44a8c2-de9a-4868-91ac-b61a1407f43a"
      },
      "execution_count": null,
      "outputs": [
        {
          "output_type": "stream",
          "name": "stdout",
          "text": [
            "Solution for w, x, y, z: [  2. -12.  -4.   1.]\n"
          ]
        }
      ]
    },
    {
      "cell_type": "code",
      "source": [
        "# Cumulative standard deviation\n",
        "import math\n",
        "def calculate_standard_deviation(data):\n",
        "    mean = sum(data) / len(data)\n",
        "    squared_deviations = [(x - mean) ** 2 for x in data]\n",
        "    variance = sum(squared_deviations) / len(data)\n",
        "    standard_deviation = math.sqrt(variance)\n",
        "    return standard_deviation\n",
        "data = [2, 4, 4, 4, 5, 5, 7, 9]\n",
        "print(\"σ =\", calculate_standard_deviation(data))"
      ],
      "metadata": {
        "colab": {
          "base_uri": "https://localhost:8080/"
        },
        "id": "WNac6jkQjoAZ",
        "outputId": "a2453042-fb99-4ff4-a5b1-7e5303ffaca5"
      },
      "execution_count": null,
      "outputs": [
        {
          "output_type": "stream",
          "name": "stdout",
          "text": [
            "σ = 2.0\n"
          ]
        }
      ]
    },
    {
      "cell_type": "code",
      "source": [
        "# CUSIP\n",
        "import re\n",
        "def is_valid_cusip(cusip):\n",
        "    pattern = r'^[a-zA-Z0-9]{6}[0-9]{1}[a-zA-Z0-9]{2}$'\n",
        "    if re.match(pattern, cusip):\n",
        "        return True\n",
        "    else:\n",
        "        return False\n",
        "cusip = \"037833100\"\n",
        "print(is_valid_cusip(cusip))\n",
        "cusip = \"03783310\"\n",
        "print(is_valid_cusip(cusip))"
      ],
      "metadata": {
        "colab": {
          "base_uri": "https://localhost:8080/"
        },
        "id": "qs11Ukq_lGPc",
        "outputId": "60205599-22b0-45fc-ba38-e3433396809d"
      },
      "execution_count": null,
      "outputs": [
        {
          "output_type": "stream",
          "name": "stdout",
          "text": [
            "True\n",
            "False\n"
          ]
        }
      ]
    },
    {
      "cell_type": "code",
      "source": [
        "# Date format\n",
        "from datetime import datetime\n",
        "def format_date_strings():\n",
        "    today = datetime.today()\n",
        "    first_string = today.strftime('%Y-%-m-%-d')\n",
        "    second_string = today.strftime('%A, %B %-d, %Y')\n",
        "    return [first_string, second_string]\n",
        "print(format_date_strings())"
      ],
      "metadata": {
        "colab": {
          "base_uri": "https://localhost:8080/"
        },
        "id": "8qoA_qtAnIgk",
        "outputId": "31682f32-5dcd-4859-9340-0e39d5998f64"
      },
      "execution_count": null,
      "outputs": [
        {
          "output_type": "stream",
          "name": "stdout",
          "text": [
            "['2024-3-29', 'Friday, March 29, 2024']\n"
          ]
        }
      ]
    },
    {
      "cell_type": "code",
      "source": [
        "# Date manipulation\n",
        "from datetime import datetime, timedelta\n",
        "import pytz\n",
        "def add_12_hours_to_est_date(date_str):\n",
        "    est = pytz.timezone('US/Eastern')\n",
        "    date_format = \"%B %d %Y %I:%M%p\"\n",
        "    est_dt = datetime.strptime(date_str[:-4], date_format)\n",
        "    est_dt = est.localize(est_dt)\n",
        "    est_dt += timedelta(hours=12)\n",
        "    updated_date_str = est_dt.strftime(date_format + \" %Z\")\n",
        "    return updated_date_str\n",
        "input_date = \"March 6 2009 7:30pm EST\"\n",
        "output_date = add_12_hours_to_est_date(input_date)\n",
        "print(\"Input:\", input_date)\n",
        "print(\"Output:\", output_date)"
      ],
      "metadata": {
        "colab": {
          "base_uri": "https://localhost:8080/"
        },
        "id": "lCPD-P-Ynvrg",
        "outputId": "be974061-07ed-4729-a411-49d482e9ee33"
      },
      "execution_count": null,
      "outputs": [
        {
          "output_type": "stream",
          "name": "stdout",
          "text": [
            "Input: March 6 2009 7:30pm EST\n",
            "Output: March 07 2009 07:30AM EST\n"
          ]
        }
      ]
    },
    {
      "cell_type": "code",
      "source": [
        "# Day of the week\n",
        "import datetime\n",
        "def xmas_sundays(start_year, end_year):\n",
        "    xmas_sunday_years = []\n",
        "    for year in range(start_year, end_year + 1):\n",
        "        xmas_date = datetime.date(year, 12, 25)\n",
        "        if xmas_date.weekday() == 6:\n",
        "            xmas_sunday_years.append(year)\n",
        "    return xmas_sunday_years\n",
        "start_year = 2022\n",
        "end_year = 2030\n",
        "print(xmas_sundays(start_year, end_year))"
      ],
      "metadata": {
        "colab": {
          "base_uri": "https://localhost:8080/"
        },
        "id": "8YN0GaG0oMO2",
        "outputId": "6babac3f-a59a-46db-a159-506755aad61b"
      },
      "execution_count": null,
      "outputs": [
        {
          "output_type": "stream",
          "name": "stdout",
          "text": [
            "[2022]\n"
          ]
        }
      ]
    },
    {
      "cell_type": "code",
      "source": [
        "# Deal cards for FreeCell\n",
        "def deal_freecell(deal_number):\n",
        "    state = deal_number\n",
        "    deck = ['AC', 'AD', 'AH', 'AS', '2C', '2D', '2H', '2S', '3C', '3D', '3H', '3S',\n",
        "            '4C', '4D', '4H', '4S', '5C', '5D', '5H', '5S', '6C', '6D', '6H', '6S',\n",
        "            '7C', '7D', '7H', '7S', '8C', '8D', '8H', '8S', '9C', '9D', '9H', '9S',\n",
        "            'TC', 'TD', 'TH', 'TS', 'JC', 'JD', 'JH', 'JS', 'QC', 'QD', 'QH', 'QS',\n",
        "            'KC', 'KD', 'KH', 'KS']\n",
        "    freecell_board = [[] for _ in range(8)]\n",
        "    for i in range(52):\n",
        "        state = (214013 * state + 2531011) % (2**31)\n",
        "        index = (state >> 16) % len(deck)\n",
        "        card = deck[index]\n",
        "        deck[index], deck[-1] = deck[-1], deck[index]\n",
        "        freecell_board[i % 8].append(card)\n",
        "        deck.pop()\n",
        "    return freecell_board\n",
        "deal_number = 617\n",
        "print(\"Game #{}:\".format(deal_number))\n",
        "game_board = deal_freecell(deal_number)\n",
        "for i, column in enumerate(game_board):\n",
        "    print(\"Column {}: {}\".format(i + 1, column))"
      ],
      "metadata": {
        "colab": {
          "base_uri": "https://localhost:8080/"
        },
        "id": "_mZ8AxEzpnPi",
        "outputId": "71427438-925d-4d0a-9a29-ce46a83841e2"
      },
      "execution_count": null,
      "outputs": [
        {
          "output_type": "stream",
          "name": "stdout",
          "text": [
            "Game #617:\n",
            "Column 1: ['7D', 'TD', 'TH', 'KD', '4C', '4S', 'JD']\n",
            "Column 2: ['AD', '7S', 'QC', '5H', 'QS', 'TS', 'KS']\n",
            "Column 3: ['5C', 'QD', '3H', '9S', '9C', '2H', 'KC']\n",
            "Column 4: ['3S', 'AC', '9D', '3C', '9H', '5D', '4H']\n",
            "Column 5: ['5S', '6D', '6S', '8S', '7C', 'JC']\n",
            "Column 6: ['8C', '8H', '8D', '7H', '6H', '6C']\n",
            "Column 7: ['2D', 'AS', '3D', '4D', '2C', 'JH']\n",
            "Column 8: ['AH', 'KH', 'TC', 'JS', '2S', 'QH']\n"
          ]
        }
      ]
    },
    {
      "cell_type": "code",
      "source": [
        "# Deepcopy\n",
        "def deep_copy(obj):\n",
        "    if isinstance(obj, dict):\n",
        "        copied_dict = {}\n",
        "        for key, value in obj.items():\n",
        "            copied_dict[key] = deep_copy(value)\n",
        "        return copied_dict\n",
        "    elif isinstance(obj, list):\n",
        "        copied_list = []\n",
        "        for item in obj:\n",
        "            copied_list.append(deep_copy(item))\n",
        "        return copied_list\n",
        "    elif isinstance(obj, tuple):\n",
        "        copied_tuple = tuple(deep_copy(item) for item in obj)\n",
        "        return copied_tuple\n",
        "    else:\n",
        "        return obj\n",
        "original = {\n",
        "    'a': 1,\n",
        "    'b': [2, 3, 4],\n",
        "    'c': {'d': 5, 'e': [6, 7]}\n",
        "}\n",
        "copied = deep_copy(original)\n",
        "print(\"Original:\", original)\n",
        "print(\"Deep copy:\", copied)\n",
        "copied['a'] = 100\n",
        "copied['b'].append(999)\n",
        "copied['c']['e'].append(888)\n",
        "print(\"\\nModified deep copy:\")\n",
        "print(\"Original:\", original)\n",
        "print(\"Deep copy:\", copied)"
      ],
      "metadata": {
        "colab": {
          "base_uri": "https://localhost:8080/"
        },
        "id": "ZrV8GmAxqdmf",
        "outputId": "57872f07-c1cc-437a-8eb4-55cbdb6f8ac0"
      },
      "execution_count": null,
      "outputs": [
        {
          "output_type": "stream",
          "name": "stdout",
          "text": [
            "Original: {'a': 1, 'b': [2, 3, 4], 'c': {'d': 5, 'e': [6, 7]}}\n",
            "Deep copy: {'a': 1, 'b': [2, 3, 4], 'c': {'d': 5, 'e': [6, 7]}}\n",
            "\n",
            "Modified deep copy:\n",
            "Original: {'a': 1, 'b': [2, 3, 4], 'c': {'d': 5, 'e': [6, 7]}}\n",
            "Deep copy: {'a': 100, 'b': [2, 3, 4, 999], 'c': {'d': 5, 'e': [6, 7, 888]}}\n"
          ]
        }
      ]
    },
    {
      "cell_type": "code",
      "source": [
        "# Define a primitive data type\n",
        "class Num:\n",
        "    def __init__(self, value):\n",
        "        if not isinstance(value, (int, float)):\n",
        "            raise TypeError('Not a Number')\n",
        "        if value < 1 or value > 10:\n",
        "            raise TypeError('Out of range')\n",
        "        self.value = value\n",
        "    def __repr__(self):\n",
        "        return str(self.value)\n",
        "    def __str__(self):\n",
        "        return str(self.value)\n",
        "    def __int__(self):\n",
        "        return int(self.value)\n",
        "    def __float__(self):\n",
        "        return float(self.value)\n",
        "    def __add__(self, other):\n",
        "        result = self.value + other\n",
        "        if result < 1 or result > 10:\n",
        "            raise TypeError('Out of range')\n",
        "        return Num(result)\n",
        "    def __radd__(self, other):\n",
        "        return self.__add__(other)\n",
        "    def __sub__(self, other):\n",
        "        result = self.value - other\n",
        "        if result < 1 or result > 10:\n",
        "            raise TypeError('Out of range')\n",
        "        return Num(result)\n",
        "    def __rsub__(self, other):\n",
        "        return self.__sub__(other)\n",
        "try:\n",
        "    num1 = Num(5)\n",
        "    print(num1)\n",
        "    num2 = Num(11)\n",
        "except TypeError as e:\n",
        "    print(e)\n",
        "try:\n",
        "    num3 = Num('a')\n",
        "except TypeError as e:\n",
        "    print(e)\n",
        "try:\n",
        "    result = num1 + 3\n",
        "    print(result)\n",
        "    result = num1 + 6\n",
        "except TypeError as e:\n",
        "    print(e)"
      ],
      "metadata": {
        "colab": {
          "base_uri": "https://localhost:8080/"
        },
        "id": "_gb6JEQVq9c4",
        "outputId": "9b45ea01-1977-4b55-9260-b3012532fa2d"
      },
      "execution_count": null,
      "outputs": [
        {
          "output_type": "stream",
          "name": "stdout",
          "text": [
            "5\n",
            "Out of range\n",
            "Not a Number\n",
            "8\n",
            "Out of range\n"
          ]
        }
      ]
    },
    {
      "cell_type": "code",
      "source": [
        "# Department Numbers\n",
        "def generate_department_combinations():\n",
        "    combinations = []\n",
        "    for police in range(2, 8, 2):\n",
        "        for sanitation in range(1, 8):\n",
        "            for fire in range(1, 8):\n",
        "                if police != sanitation and police != fire and sanitation != fire and police + sanitation + fire == 12:\n",
        "                    combinations.append([police, sanitation, fire])\n",
        "    return combinations\n",
        "valid_combinations = generate_department_combinations()\n",
        "for combination in valid_combinations:\n",
        "    print(combination)"
      ],
      "metadata": {
        "colab": {
          "base_uri": "https://localhost:8080/"
        },
        "id": "GSaEkAnvr5Bm",
        "outputId": "421ac341-1a85-4541-b8d3-950ec6f33a3a"
      },
      "execution_count": null,
      "outputs": [
        {
          "output_type": "stream",
          "name": "stdout",
          "text": [
            "[2, 3, 7]\n",
            "[2, 4, 6]\n",
            "[2, 6, 4]\n",
            "[2, 7, 3]\n",
            "[4, 1, 7]\n",
            "[4, 2, 6]\n",
            "[4, 3, 5]\n",
            "[4, 5, 3]\n",
            "[4, 6, 2]\n",
            "[4, 7, 1]\n",
            "[6, 1, 5]\n",
            "[6, 2, 4]\n",
            "[6, 4, 2]\n",
            "[6, 5, 1]\n"
          ]
        }
      ]
    },
    {
      "cell_type": "code",
      "source": [
        "# Discordian date\n",
        "import datetime\n",
        "def gregorian_to_discordian(gregorian_date):\n",
        "    discordian_epoch = datetime.date(2022, 1, 1)\n",
        "    delta_days = (gregorian_date - discordian_epoch).days\n",
        "    leap_years = sum(1 for year in range(discordian_epoch.year, gregorian_date.year + 1) if year % 4 == 0 and (year % 100 != 0 or year % 400 == 0))\n",
        "    delta_days -= leap_years\n",
        "    discordian_year = 3188 + (delta_days // 365)\n",
        "    day_of_year = delta_days % 365\n",
        "    is_leap_year = (gregorian_date.year % 4 == 0 and (gregorian_date.year % 100 != 0 or gregorian_date.year % 400 == 0))\n",
        "    if day_of_year >= 59 and is_leap_year:\n",
        "        day_of_year += 1\n",
        "    discordian_month = day_of_year // 73\n",
        "    discordian_day = day_of_year % 73\n",
        "    discordian_months = ['Chaos', 'Discord', 'Confusion', 'Bureaucracy', 'The Aftermath']\n",
        "    discordian_weekdays = ['Sweetmorn', 'Boomtime', 'Pungenday', 'Prickle-Prickle', 'Setting Orange']\n",
        "    discordian_apostles = ['Mungday', 'Mojoday', 'Syaday', 'Zaraday', 'Maladay']\n",
        "    discordian_holidays = ['Chaoflux', 'Discoflux', 'Confuflux', 'Bureflux', 'Afflux']\n",
        "    discordian_date = \"{} {}, {} YOLD\".format(discordian_months[discordian_month], discordian_day + 1, discordian_year)\n",
        "    discordian_weekday = discordian_weekdays[(day_of_year % 5)]\n",
        "    discordian_apostle = discordian_apostles[(day_of_year % 5)]\n",
        "    discordian_holiday = discordian_holidays[(day_of_year % 5)]\n",
        "    return discordian_date, discordian_weekday, discordian_apostle, discordian_holiday\n",
        "gregorian_date = datetime.date(2024, 3, 29)  # Enter the Gregorian date here\n",
        "discordian_date, discordian_weekday, discordian_apostle, discordian_holiday = gregorian_to_discordian(gregorian_date)\n",
        "print(\"Gregorian Date:\", gregorian_date.strftime(\"%Y-%m-%d\"))\n",
        "print(\"Discordian Date:\", discordian_date)\n",
        "print(\"Discordian Weekday:\", discordian_weekday)\n",
        "print(\"Discordian Apostle:\", discordian_apostle)\n",
        "print(\"Discordian Holiday:\", discordian_holiday)"
      ],
      "metadata": {
        "colab": {
          "base_uri": "https://localhost:8080/"
        },
        "id": "MYs5b27asdp6",
        "outputId": "74353b66-8981-475c-c6f3-2a9b91c1ba9d"
      },
      "execution_count": null,
      "outputs": [
        {
          "output_type": "stream",
          "name": "stdout",
          "text": [
            "Gregorian Date: 2024-03-29\n",
            "Discordian Date: Discord 16, 3190 YOLD\n",
            "Discordian Weekday: Prickle-Prickle\n",
            "Discordian Apostle: Zaraday\n",
            "Discordian Holiday: Bureflux\n"
          ]
        }
      ]
    },
    {
      "cell_type": "code",
      "source": [
        "# Dot product\n",
        "def dot_product(vector1, vector2):\n",
        "    if len(vector1) != len(vector2):\n",
        "        raise ValueError(\"Vectors must have the same length\")\n",
        "    result = 0\n",
        "    for i in range(len(vector1)):\n",
        "        result += vector1[i] * vector2[i]\n",
        "    return result\n",
        "vector1 = [1, 2, 3]\n",
        "vector2 = [4, 5, 6]\n",
        "print(\"Dot product = \", dot_product(vector1, vector2))"
      ],
      "metadata": {
        "colab": {
          "base_uri": "https://localhost:8080/"
        },
        "id": "aZDPzlfmtR8b",
        "outputId": "058f1687-50ab-446a-f31d-6e194016098b"
      },
      "execution_count": null,
      "outputs": [
        {
          "output_type": "stream",
          "name": "stdout",
          "text": [
            "Dot product =  32\n"
          ]
        }
      ]
    },
    {
      "cell_type": "code",
      "source": [
        "# Element-wise operations\n",
        "import numpy as np\n",
        "def m_add(matrix1, matrix2):\n",
        "    return np.add(matrix1, matrix2)\n",
        "def m_sub(matrix1, matrix2):\n",
        "    return np.subtract(matrix1, matrix2)\n",
        "def m_mul(matrix1, matrix2):\n",
        "    return np.matmul(matrix1, matrix2)\n",
        "def m_div(matrix1, matrix2):\n",
        "    return np.divide(matrix1, matrix2)\n",
        "def m_exp(matrix, exponent):\n",
        "    return np.power(matrix, exponent)\n",
        "def s_add(scalar, matrix):\n",
        "    return scalar + matrix\n",
        "def s_sub(scalar, matrix):\n",
        "    return scalar - matrix\n",
        "def s_mul(scalar, matrix):\n",
        "    return scalar * matrix\n",
        "def s_div(scalar, matrix):\n",
        "    return scalar / matrix\n",
        "def s_exp(scalar, matrix):\n",
        "    return np.power(scalar, matrix)\n",
        "matrix1 = np.array([[1, 2], [3, 4]])\n",
        "matrix2 = np.array([[5, 6], [7, 8]])\n",
        "scalar = 2\n",
        "print(\"Matrix Addition:\")\n",
        "print(m_add(matrix1, matrix2))\n",
        "print(\"\\nMatrix Subtraction:\")\n",
        "print(m_sub(matrix1, matrix2))\n",
        "print(\"\\nMatrix Multiplication:\")\n",
        "print(m_mul(matrix1, matrix2))\n",
        "print(\"\\nMatrix Division:\")\n",
        "print(m_div(matrix1, matrix2))\n",
        "print(\"\\nMatrix Exponentiation:\")\n",
        "print(m_exp(matrix1, 2))\n",
        "print(\"\\nScalar Addition:\")\n",
        "print(s_add(scalar, matrix1))\n",
        "print(\"\\nScalar Subtraction:\")\n",
        "print(s_sub(scalar, matrix1))\n",
        "print(\"\\nScalar Multiplication:\")\n",
        "print(s_mul(scalar, matrix1))\n",
        "print(\"\\nScalar Division:\")\n",
        "print(s_div(scalar, matrix1))\n",
        "print(\"\\nScalar Exponentiation:\")\n",
        "print(s_exp(scalar, matrix1))"
      ],
      "metadata": {
        "colab": {
          "base_uri": "https://localhost:8080/"
        },
        "id": "nEJvO4_Ktuvd",
        "outputId": "10245fd9-389f-41d0-c375-495d4f41d2eb"
      },
      "execution_count": null,
      "outputs": [
        {
          "output_type": "stream",
          "name": "stdout",
          "text": [
            "Matrix Addition:\n",
            "[[ 6  8]\n",
            " [10 12]]\n",
            "\n",
            "Matrix Subtraction:\n",
            "[[-4 -4]\n",
            " [-4 -4]]\n",
            "\n",
            "Matrix Multiplication:\n",
            "[[19 22]\n",
            " [43 50]]\n",
            "\n",
            "Matrix Division:\n",
            "[[0.2        0.33333333]\n",
            " [0.42857143 0.5       ]]\n",
            "\n",
            "Matrix Exponentiation:\n",
            "[[ 1  4]\n",
            " [ 9 16]]\n",
            "\n",
            "Scalar Addition:\n",
            "[[3 4]\n",
            " [5 6]]\n",
            "\n",
            "Scalar Subtraction:\n",
            "[[ 1  0]\n",
            " [-1 -2]]\n",
            "\n",
            "Scalar Multiplication:\n",
            "[[2 4]\n",
            " [6 8]]\n",
            "\n",
            "Scalar Division:\n",
            "[[2.         1.        ]\n",
            " [0.66666667 0.5       ]]\n",
            "\n",
            "Scalar Exponentiation:\n",
            "[[ 2  4]\n",
            " [ 8 16]]\n"
          ]
        }
      ]
    },
    {
      "cell_type": "code",
      "source": [
        "# Emirp primes\n",
        "def is_prime(num):\n",
        "    if num <= 1:\n",
        "        return False\n",
        "    for i in range(2, int(num**0.5) + 1):\n",
        "        if num % i == 0:\n",
        "            return False\n",
        "    return True\n",
        "def reverse_num(num):\n",
        "    return int(str(num)[::-1])\n",
        "def find_emirps(n, return_array=True):\n",
        "    emirps = []\n",
        "    count = 0\n",
        "    num = 2\n",
        "    while count < n:\n",
        "        if is_prime(num):\n",
        "            reversed_num = reverse_num(num)\n",
        "            if num != reversed_num and is_prime(reversed_num):\n",
        "                count += 1\n",
        "                if return_array:\n",
        "                    emirps.append(num)\n",
        "                else:\n",
        "                    if count == n:\n",
        "                        return num\n",
        "        num += 1\n",
        "    if return_array:\n",
        "        return emirps\n",
        "    else:\n",
        "        return count\n",
        "def emirps_in_range(range_arr, return_array=True):\n",
        "    start, end = range_arr\n",
        "    emirps = []\n",
        "    count = 0\n",
        "    for num in range(start, end + 1):\n",
        "        if is_prime(num):\n",
        "            reversed_num = reverse_num(num)\n",
        "            if num != reversed_num and is_prime(reversed_num):\n",
        "                count += 1\n",
        "                if return_array:\n",
        "                    emirps.append(num)\n",
        "    if return_array:\n",
        "        return emirps\n",
        "    else:\n",
        "        return count\n",
        "def nth_emirp(n):\n",
        "    return find_emirps(n, return_array=False)\n",
        "print(\"First 10 emirps = \", find_emirps(10))\n",
        "print(\"Emirps in range [100, 200] = \", emirps_in_range([100, 200]))\n",
        "print(\"Number of emirps in range [100, 200] = \", emirps_in_range([100, 200], return_array=False))\n",
        "print(\"3rd emirp = \", nth_emirp(3))"
      ],
      "metadata": {
        "colab": {
          "base_uri": "https://localhost:8080/"
        },
        "id": "gQb0bC2Wu8Ch",
        "outputId": "7680cc3d-77ef-4b47-c310-27ddcd580351"
      },
      "execution_count": null,
      "outputs": [
        {
          "output_type": "stream",
          "name": "stdout",
          "text": [
            "First 10 emirps =  [13, 17, 31, 37, 71, 73, 79, 97, 107, 113]\n",
            "Emirps in range [100, 200] =  [107, 113, 149, 157, 167, 179, 199]\n",
            "Number of emirps in range [100, 200] =  7\n",
            "3rd emirp =  31\n"
          ]
        }
      ]
    },
    {
      "cell_type": "code",
      "source": [
        "# Entropy\n",
        "import math\n",
        "from collections import Counter\n",
        "def shannon_entropy(input_string):\n",
        "    char_counts = Counter(input_string)\n",
        "    total_chars = len(input_string)\n",
        "    probabilities = {char: count / total_chars for char, count in char_counts.items()}\n",
        "    entropy = -sum(prob * math.log2(prob) for prob in probabilities.values())\n",
        "    return entropy\n",
        "input_string = \"abbcccdddd\"\n",
        "entropy = shannon_entropy(input_string)\n",
        "print(\"Shannon Entropy = \", entropy)"
      ],
      "metadata": {
        "colab": {
          "base_uri": "https://localhost:8080/"
        },
        "id": "594lYE0Fwn6Y",
        "outputId": "bc4429a5-d84f-44f7-a512-1644715e353d"
      },
      "execution_count": null,
      "outputs": [
        {
          "output_type": "stream",
          "name": "stdout",
          "text": [
            "Shannon Entropy =  1.8464393446710154\n"
          ]
        }
      ]
    },
    {
      "cell_type": "code",
      "source": [
        "# Equilibrium index\n",
        "def equilibrium_indices(sequence):\n",
        "    n = len(sequence)\n",
        "    equilibrium_indexes = []\n",
        "    total_sum = sum(sequence)\n",
        "    left_sum = 0\n",
        "    for i in range(n):\n",
        "        total_sum -= sequence[i]\n",
        "        if left_sum == total_sum:\n",
        "            equilibrium_indexes.append(i)\n",
        "        left_sum += sequence[i]\n",
        "    return equilibrium_indexes\n",
        "sequence = [-7, 1, 5, 2, -4, 3, 0]\n",
        "print(\"Equilibrium indices = \", equilibrium_indices(sequence))"
      ],
      "metadata": {
        "colab": {
          "base_uri": "https://localhost:8080/"
        },
        "id": "viq89zeKxUPX",
        "outputId": "7f0c3488-fae8-49e8-f47b-42ce7c19e506"
      },
      "execution_count": null,
      "outputs": [
        {
          "output_type": "stream",
          "name": "stdout",
          "text": [
            "Equilibrium indices =  [3, 6]\n"
          ]
        }
      ]
    },
    {
      "cell_type": "code",
      "source": [
        "# Ethiopian multiplication\n",
        "def halve_integer(n):\n",
        "    return n // 2\n",
        "def double_integer(n):\n",
        "    return n * 2\n",
        "def is_even(n):\n",
        "    return n % 2 == 0\n",
        "def ethiopian_multiplication(a, b):\n",
        "    result = 0\n",
        "    while a > 0:\n",
        "        if not is_even(a):\n",
        "            result += b\n",
        "        a = halve_integer(a)\n",
        "        b = double_integer(b)\n",
        "    return result\n",
        "print(ethiopian_multiplication(17, 34))"
      ],
      "metadata": {
        "colab": {
          "base_uri": "https://localhost:8080/"
        },
        "id": "cFkL6A1OzHAg",
        "outputId": "d3399af9-01a0-4eb1-8d1e-43025fd342eb"
      },
      "execution_count": null,
      "outputs": [
        {
          "output_type": "stream",
          "name": "stdout",
          "text": [
            "578\n"
          ]
        }
      ]
    },
    {
      "cell_type": "code",
      "source": [
        "# Euler method\n",
        "import numpy as np\n",
        "def euler_method(initial_time, initial_temperature, elapsed_time, step_size):\n",
        "    room_temperature = 20\n",
        "    cooling_constant = 0.07\n",
        "    num_steps = int(elapsed_time / step_size)\n",
        "    time = np.zeros(num_steps + 1)\n",
        "    temperature = np.zeros(num_steps + 1)\n",
        "    time[0] = initial_time\n",
        "    temperature[0] = initial_temperature\n",
        "    for i in range(num_steps):\n",
        "        time[i + 1] = time[i] + step_size\n",
        "        temperature[i + 1] = temperature[i] - cooling_constant * (temperature[i] - room_temperature) * step_size\n",
        "    return time, temperature\n",
        "initial_time = 0\n",
        "initial_temperature = 100\n",
        "elapsed_time = 100\n",
        "step_sizes = [2, 5, 10]\n",
        "for step_size in step_sizes:\n",
        "    time, temperature = euler_method(initial_time, initial_temperature, elapsed_time, step_size)\n",
        "    print(f\"Step Size: {step_size} s\")\n",
        "    print(\"Time (s)\\tTemperature (°C)\")\n",
        "    for t, T in zip(time, temperature):\n",
        "        print(f\"{t:.2f}\\t\\t{T:.2f}\")\n",
        "    print()"
      ],
      "metadata": {
        "colab": {
          "base_uri": "https://localhost:8080/"
        },
        "id": "zyD4ggzN0ias",
        "outputId": "d65295d6-8c01-4aab-ed2f-b7e279d5ee79"
      },
      "execution_count": null,
      "outputs": [
        {
          "output_type": "stream",
          "name": "stdout",
          "text": [
            "Step Size: 2 s\n",
            "Time (s)\tTemperature (°C)\n",
            "0.00\t\t100.00\n",
            "2.00\t\t88.80\n",
            "4.00\t\t79.17\n",
            "6.00\t\t70.88\n",
            "8.00\t\t63.76\n",
            "10.00\t\t57.63\n",
            "12.00\t\t52.37\n",
            "14.00\t\t47.83\n",
            "16.00\t\t43.94\n",
            "18.00\t\t40.59\n",
            "20.00\t\t37.70\n",
            "22.00\t\t35.23\n",
            "24.00\t\t33.09\n",
            "26.00\t\t31.26\n",
            "28.00\t\t29.68\n",
            "30.00\t\t28.33\n",
            "32.00\t\t27.16\n",
            "34.00\t\t26.16\n",
            "36.00\t\t25.30\n",
            "38.00\t\t24.56\n",
            "40.00\t\t23.92\n",
            "42.00\t\t23.37\n",
            "44.00\t\t22.90\n",
            "46.00\t\t22.49\n",
            "48.00\t\t22.14\n",
            "50.00\t\t21.84\n",
            "52.00\t\t21.59\n",
            "54.00\t\t21.36\n",
            "56.00\t\t21.17\n",
            "58.00\t\t21.01\n",
            "60.00\t\t20.87\n",
            "62.00\t\t20.75\n",
            "64.00\t\t20.64\n",
            "66.00\t\t20.55\n",
            "68.00\t\t20.47\n",
            "70.00\t\t20.41\n",
            "72.00\t\t20.35\n",
            "74.00\t\t20.30\n",
            "76.00\t\t20.26\n",
            "78.00\t\t20.22\n",
            "80.00\t\t20.19\n",
            "82.00\t\t20.17\n",
            "84.00\t\t20.14\n",
            "86.00\t\t20.12\n",
            "88.00\t\t20.10\n",
            "90.00\t\t20.09\n",
            "92.00\t\t20.08\n",
            "94.00\t\t20.07\n",
            "96.00\t\t20.06\n",
            "98.00\t\t20.05\n",
            "100.00\t\t20.04\n",
            "\n",
            "Step Size: 5 s\n",
            "Time (s)\tTemperature (°C)\n",
            "0.00\t\t100.00\n",
            "5.00\t\t72.00\n",
            "10.00\t\t53.80\n",
            "15.00\t\t41.97\n",
            "20.00\t\t34.28\n",
            "25.00\t\t29.28\n",
            "30.00\t\t26.03\n",
            "35.00\t\t23.92\n",
            "40.00\t\t22.55\n",
            "45.00\t\t21.66\n",
            "50.00\t\t21.08\n",
            "55.00\t\t20.70\n",
            "60.00\t\t20.46\n",
            "65.00\t\t20.30\n",
            "70.00\t\t20.19\n",
            "75.00\t\t20.12\n",
            "80.00\t\t20.08\n",
            "85.00\t\t20.05\n",
            "90.00\t\t20.03\n",
            "95.00\t\t20.02\n",
            "100.00\t\t20.01\n",
            "\n",
            "Step Size: 10 s\n",
            "Time (s)\tTemperature (°C)\n",
            "0.00\t\t100.00\n",
            "10.00\t\t44.00\n",
            "20.00\t\t27.20\n",
            "30.00\t\t22.16\n",
            "40.00\t\t20.65\n",
            "50.00\t\t20.19\n",
            "60.00\t\t20.06\n",
            "70.00\t\t20.02\n",
            "80.00\t\t20.01\n",
            "90.00\t\t20.00\n",
            "100.00\t\t20.00\n",
            "\n"
          ]
        }
      ]
    },
    {
      "cell_type": "code",
      "source": [
        "# Evaluate binomial coefficients\n",
        "def factorial(n):\n",
        "    if n == 0:\n",
        "        return 1\n",
        "    else:\n",
        "        return n * factorial(n - 1)\n",
        "def binomial_coefficient(n, k):\n",
        "    if k > n:\n",
        "        return 0\n",
        "    else:\n",
        "        return factorial(n) // (factorial(n - k) * factorial(k))\n",
        "n = 5\n",
        "k = 2\n",
        "result = binomial_coefficient(n, k)\n",
        "print(f\"C({n}, {k}) = {result}\")"
      ],
      "metadata": {
        "colab": {
          "base_uri": "https://localhost:8080/"
        },
        "id": "3SAAU_Ew1h8p",
        "outputId": "f4fca32c-cf93-46c8-99a9-058b2f1348b2"
      },
      "execution_count": null,
      "outputs": [
        {
          "output_type": "stream",
          "name": "stdout",
          "text": [
            "C(5, 2) = 10\n"
          ]
        }
      ]
    },
    {
      "cell_type": "code",
      "source": [
        "# Execute a Markov algorithm\n",
        "import re\n",
        "rules=[\n",
        "    [\n",
        "    \"A -> apple\",\"B -> bag\",\"S -> shop\",\"T -> the\",\n",
        "    \"the shop -> my brother\",\"a never used -> .terminating rule\"\n",
        "    ],\n",
        "    [\n",
        "     \"A -> apple\",\"B -> bag\",\"S -> .shop\",\"T -> the\",\n",
        "     \"the shop -> my brother\",\"a never used -> .terminating rule\"\n",
        "    ],\n",
        "    [\n",
        "     \"A -> apple\",\"WWWW -> with\",\"Bgage -> ->.*\",\"B -> bag\",\n",
        "     \"->.* -> money\",\"W -> WW\",\"S -> .shop\",\"T -> the\",\n",
        "     \"the shop -> my brother\",\"a never used -> .terminating rule\"\n",
        "    ],\n",
        "    [\n",
        "     \"_+1 -> _1+\",\"1+1 -> 11+\",\"1! -> !1\",\",! -> !+\",\"_! -> _\",\"1*1 -> x,@y\",\"1x -> xX\",\n",
        "     \"X, -> 1,1\",\"X1 -> 1X\",\"_x -> _X\",\",x -> ,X\",\"y1 -> 1y\",\"y_ -> _\",\"1@1 -> x,@y\",\n",
        "     \"1@_ -> @_\",\",@_ -> !_\",\"++ -> +\",\"_1 -> 1\",\"1+_ -> 1\",\"_+_ -> \"\n",
        "    ],\n",
        "    [\n",
        "    \"A0 -> 1B\",\"0A1 -> C01\",\"1A1 -> C11\",\"0B0 -> A01\",\"1B0 -> A11\",\n",
        "    \"B1 -> 1B\",\"0C0 -> B01\",\"1C0 -> B11\",\"0C1 -> H01\",\"1C1 -> H11\"\n",
        "    ]\n",
        "]\n",
        "data=[\n",
        "    \"I bought a B of As from T S.\",\n",
        "    \"I bought a B of As from T S.\",\n",
        "    \"I bought a B of As W my Bgage from T S.\",\n",
        "    \"_1111*11111_\",\n",
        "    \"000000A000000\"\n",
        "]\n",
        "outputs=[\n",
        "    \"I bought a bag of apples from my brother.\",\n",
        "    \"I bought a bag of apples from T shop.\",\n",
        "    \"I bought a bag of apples with my money from T shop.\",\n",
        "    \"11111111111111111111\",\n",
        "    \"00011H1111000\"\n",
        "]\n",
        "def apply_rules(input_str, rule_set):\n",
        "    output = input_str\n",
        "    for rule in rule_set:\n",
        "        find, replace = rule.split(\" -> \")\n",
        "        output = re.sub(re.escape(find), replace, output)\n",
        "    return output\n",
        "for i in range(len(data)):\n",
        "    transformed = apply_rules(data[i], rules[i])\n",
        "    print(\"Transformed output for data entry\", i + 1, \":\", transformed)\n",
        "    print(\"Expected output:\", outputs[i])\n",
        "    print(\"---------------------------------------------\")"
      ],
      "metadata": {
        "colab": {
          "base_uri": "https://localhost:8080/"
        },
        "id": "fJrJM4Q42TCO",
        "outputId": "419a6720-a3bc-43e8-ffd3-db929d2b5c3d"
      },
      "execution_count": null,
      "outputs": [
        {
          "output_type": "stream",
          "name": "stdout",
          "text": [
            "Transformed output for data entry 1 : I bought a bag of apples from my brother.\n",
            "Expected output: I bought a bag of apples from my brother.\n",
            "---------------------------------------------\n",
            "Transformed output for data entry 2 : I bought a bag of apples from the .shop.\n",
            "Expected output: I bought a bag of apples from T shop.\n",
            "---------------------------------------------\n",
            "Transformed output for data entry 3 : I bought a bag of apples WW my money from the .shop.\n",
            "Expected output: I bought a bag of apples with my money from T shop.\n",
            "---------------------------------------------\n",
            "Transformed output for data entry 4 : 11x1,x,@yy111_\n",
            "Expected output: 11111111111111111111\n",
            "---------------------------------------------\n",
            "Transformed output for data entry 5 : 000000A110000\n",
            "Expected output: 00011H1111000\n",
            "---------------------------------------------\n"
          ]
        }
      ]
    },
    {
      "cell_type": "code",
      "source": [
        "# Extensible prime generator\n",
        "def is_prime(num):\n",
        "    if num <= 1:\n",
        "        return False\n",
        "    elif num <= 3:\n",
        "        return True\n",
        "    elif num % 2 == 0 or num % 3 == 0:\n",
        "        return False\n",
        "    i = 5\n",
        "    while i * i <= num:\n",
        "        if num % i == 0 or num % (i + 2) == 0:\n",
        "            return False\n",
        "        i += 6\n",
        "    return True\n",
        "def generate_primes(input_range, return_as_array=True):\n",
        "    primes = []\n",
        "    if isinstance(input_range, int):\n",
        "        n = input_range\n",
        "        num = 2\n",
        "        while len(primes) < n:\n",
        "            if is_prime(num):\n",
        "                primes.append(num)\n",
        "            num += 1\n",
        "    elif isinstance(input_range, (list, tuple)):\n",
        "        start, end = input_range\n",
        "        for num in range(start, end + 1):\n",
        "            if is_prime(num):\n",
        "                primes.append(num)\n",
        "    else:\n",
        "        n = input_range\n",
        "        num = 2\n",
        "        while len(primes) < n:\n",
        "            if is_prime(num):\n",
        "                primes.append(num)\n",
        "            num += 1\n",
        "    if return_as_array:\n",
        "        return primes\n",
        "    else:\n",
        "        return len(primes)\n",
        "print(generate_primes(10, return_as_array=True))\n",
        "print(generate_primes((10, 50), return_as_array=True))\n",
        "print(generate_primes((10, 50), return_as_array=False))\n",
        "print(generate_primes(100, return_as_array=False))"
      ],
      "metadata": {
        "colab": {
          "base_uri": "https://localhost:8080/"
        },
        "id": "7vGZ96u33LkH",
        "outputId": "dce01417-775f-4ddb-f1c1-dc1ccd51cf3b"
      },
      "execution_count": null,
      "outputs": [
        {
          "output_type": "stream",
          "name": "stdout",
          "text": [
            "[2, 3, 5, 7, 11, 13, 17, 19, 23, 29]\n",
            "[11, 13, 17, 19, 23, 29, 31, 37, 41, 43, 47]\n",
            "11\n",
            "100\n"
          ]
        }
      ]
    },
    {
      "cell_type": "code",
      "source": [
        "# Factorial\n",
        "def factorial(n):\n",
        "    if n == 0 or n == 1:\n",
        "        return 1\n",
        "    else:\n",
        "        return n * factorial(n - 1)\n",
        "number = 5\n",
        "print(\"Factorial of\", number, \"=\", factorial(number))"
      ],
      "metadata": {
        "colab": {
          "base_uri": "https://localhost:8080/"
        },
        "id": "s5W8pyWZ342u",
        "outputId": "0da79168-5f15-472d-bb3b-c3c65cb9ca19"
      },
      "execution_count": null,
      "outputs": [
        {
          "output_type": "stream",
          "name": "stdout",
          "text": [
            "Factorial of 5 = 120\n"
          ]
        }
      ]
    },
    {
      "cell_type": "code",
      "source": [
        "# Factors of a Mersenne number\n",
        "def mod_pow(base, exponent, modulus):\n",
        "    result = 1\n",
        "    base = base % modulus\n",
        "    while exponent > 0:\n",
        "        if exponent % 2 == 1:\n",
        "            result = (result * base) % modulus\n",
        "        exponent = exponent >> 1\n",
        "        base = (base * base) % modulus\n",
        "    return result\n",
        "def find_factor_of_mersenne_prime(P):\n",
        "    exponent = P\n",
        "    modulus = 2 ** P - 1\n",
        "    for k in range(1, P):\n",
        "        potential_factor = 2 * k * P + 1\n",
        "        if mod_pow(2, exponent, potential_factor) == 1:\n",
        "            return potential_factor\n",
        "    return None\n",
        "P = 23\n",
        "factor = find_factor_of_mersenne_prime(P)\n",
        "if factor:\n",
        "    print(f\"A factor of 2^{P} - 1 = {factor}\")\n",
        "else:\n",
        "    print(f\"No factor found for 2^{P} - 1\")"
      ],
      "metadata": {
        "colab": {
          "base_uri": "https://localhost:8080/"
        },
        "id": "KKQD0Zkn4Je5",
        "outputId": "8c146eab-0c2f-4787-b153-9e0b280334c0"
      },
      "execution_count": null,
      "outputs": [
        {
          "output_type": "stream",
          "name": "stdout",
          "text": [
            "A factor of 2^23 - 1 = 47\n"
          ]
        }
      ]
    },
    {
      "cell_type": "code",
      "source": [
        "# Factors of an integer\n",
        "def find_factors(n):\n",
        "    factors = []\n",
        "    for i in range(1, n + 1):\n",
        "        if n % i == 0:\n",
        "            factors.append(i)\n",
        "    return factors\n",
        "number = 144\n",
        "print(\"Factors of\", number, \"=\", find_factors(number))"
      ],
      "metadata": {
        "colab": {
          "base_uri": "https://localhost:8080/"
        },
        "id": "yZomY7YYBgO3",
        "outputId": "9ba4a256-e9b3-4d8a-a128-43043984144f"
      },
      "execution_count": null,
      "outputs": [
        {
          "output_type": "stream",
          "name": "stdout",
          "text": [
            "Factors of 144 = [1, 2, 3, 4, 6, 8, 9, 12, 16, 18, 24, 36, 48, 72, 144]\n"
          ]
        }
      ]
    },
    {
      "cell_type": "code",
      "source": [
        "# Farey sequence\n",
        "def farey_sequence(n):\n",
        "    sequence = [(0, 1)]\n",
        "    a, b, c, d = 0, 1, 1, n\n",
        "    while c <= n:\n",
        "        k = (n + b) // d\n",
        "        a, b, c, d = c, d, k*c - a, k*d - b\n",
        "        sequence.append((a, b))\n",
        "    return sequence\n",
        "n = 20\n",
        "farey_seq = farey_sequence(n)\n",
        "for fraction in farey_seq:\n",
        "    print(f\"{fraction[0]}/{fraction[1]}\")"
      ],
      "metadata": {
        "colab": {
          "base_uri": "https://localhost:8080/"
        },
        "id": "ZpmHq94GCeEa",
        "outputId": "13b3ff84-e00e-49fd-bb58-aeb5dad65e9e"
      },
      "execution_count": null,
      "outputs": [
        {
          "output_type": "stream",
          "name": "stdout",
          "text": [
            "0/1\n",
            "1/20\n",
            "1/19\n",
            "1/18\n",
            "1/17\n",
            "1/16\n",
            "1/15\n",
            "1/14\n",
            "1/13\n",
            "1/12\n",
            "1/11\n",
            "1/10\n",
            "2/19\n",
            "1/9\n",
            "2/17\n",
            "1/8\n",
            "2/15\n",
            "1/7\n",
            "3/20\n",
            "2/13\n",
            "3/19\n",
            "1/6\n",
            "3/17\n",
            "2/11\n",
            "3/16\n",
            "1/5\n",
            "4/19\n",
            "3/14\n",
            "2/9\n",
            "3/13\n",
            "4/17\n",
            "1/4\n",
            "5/19\n",
            "4/15\n",
            "3/11\n",
            "5/18\n",
            "2/7\n",
            "5/17\n",
            "3/10\n",
            "4/13\n",
            "5/16\n",
            "6/19\n",
            "1/3\n",
            "7/20\n",
            "6/17\n",
            "5/14\n",
            "4/11\n",
            "7/19\n",
            "3/8\n",
            "5/13\n",
            "7/18\n",
            "2/5\n",
            "7/17\n",
            "5/12\n",
            "8/19\n",
            "3/7\n",
            "7/16\n",
            "4/9\n",
            "9/20\n",
            "5/11\n",
            "6/13\n",
            "7/15\n",
            "8/17\n",
            "9/19\n",
            "1/2\n",
            "10/19\n",
            "9/17\n",
            "8/15\n",
            "7/13\n",
            "6/11\n",
            "11/20\n",
            "5/9\n",
            "9/16\n",
            "4/7\n",
            "11/19\n",
            "7/12\n",
            "10/17\n",
            "3/5\n",
            "11/18\n",
            "8/13\n",
            "5/8\n",
            "12/19\n",
            "7/11\n",
            "9/14\n",
            "11/17\n",
            "13/20\n",
            "2/3\n",
            "13/19\n",
            "11/16\n",
            "9/13\n",
            "7/10\n",
            "12/17\n",
            "5/7\n",
            "13/18\n",
            "8/11\n",
            "11/15\n",
            "14/19\n",
            "3/4\n",
            "13/17\n",
            "10/13\n",
            "7/9\n",
            "11/14\n",
            "15/19\n",
            "4/5\n",
            "13/16\n",
            "9/11\n",
            "14/17\n",
            "5/6\n",
            "16/19\n",
            "11/13\n",
            "17/20\n",
            "6/7\n",
            "13/15\n",
            "7/8\n",
            "15/17\n",
            "8/9\n",
            "17/19\n",
            "9/10\n",
            "10/11\n",
            "11/12\n",
            "12/13\n",
            "13/14\n",
            "14/15\n",
            "15/16\n",
            "16/17\n",
            "17/18\n",
            "18/19\n",
            "19/20\n",
            "1/1\n"
          ]
        }
      ]
    },
    {
      "cell_type": "code",
      "source": [
        "# Fibonacci n-step number sequences\n",
        "def fibonacci_lucas_sequence(n, num_elements, sequence_type):\n",
        "    sequence = []\n",
        "    if sequence_type == \"f\":\n",
        "        a, b = 0, 1\n",
        "        for _ in range(num_elements):\n",
        "            sequence.append(a)\n",
        "            a, b = b, a + b\n",
        "    elif sequence_type == \"l\":\n",
        "        a, b = 2, 1\n",
        "        for _ in range(num_elements):\n",
        "            sequence.append(a)\n",
        "            a, b = b, a + b\n",
        "    else:\n",
        "        print(\"Invalid sequence type. Choose 'f' for Fibonacci or 'l' for Lucas.\")\n",
        "        return None\n",
        "    return sequence\n",
        "fibonacci_result = fibonacci_lucas_sequence(2, 10, \"f\")\n",
        "print(\"Fibonacci Sequence:\", fibonacci_result)\n",
        "lucas_result = fibonacci_lucas_sequence(2, 10, \"l\")\n",
        "print(\"Lucas Sequence:\", lucas_result)"
      ],
      "metadata": {
        "colab": {
          "base_uri": "https://localhost:8080/"
        },
        "id": "fG0VrL5FC8ZP",
        "outputId": "1e2d91e3-82a4-4a24-b532-77834ca0c227"
      },
      "execution_count": null,
      "outputs": [
        {
          "output_type": "stream",
          "name": "stdout",
          "text": [
            "Fibonacci Sequence: [0, 1, 1, 2, 3, 5, 8, 13, 21, 34]\n",
            "Lucas Sequence: [2, 1, 3, 4, 7, 11, 18, 29, 47, 76]\n"
          ]
        }
      ]
    },
    {
      "cell_type": "code",
      "source": [
        "def fibonacci(n):\n",
        "    if n <= 0:\n",
        "        return \"Invalid input. n must be a positive integer.\"\n",
        "    elif n == 1:\n",
        "        return 0\n",
        "    elif n == 2:\n",
        "        return 1\n",
        "    else:\n",
        "        return fibonacci(n - 1) + fibonacci(n - 2)\n",
        "n = 7\n",
        "print(f\"The {n}th Fibonacci number = \", fibonacci(n))"
      ],
      "metadata": {
        "colab": {
          "base_uri": "https://localhost:8080/"
        },
        "id": "_NhJlhgcDkGb",
        "outputId": "57947b1e-b3d0-4614-b24c-e8ba2d656a13"
      },
      "execution_count": null,
      "outputs": [
        {
          "output_type": "stream",
          "name": "stdout",
          "text": [
            "The 7th Fibonacci number =  8\n"
          ]
        }
      ]
    },
    {
      "cell_type": "code",
      "source": [
        "# Fibonacci word\n",
        "import math\n",
        "def fibonacci_words(n):\n",
        "    fib_words = []\n",
        "    def fibonacci_word(index):\n",
        "        if index == 1:\n",
        "            return '1'\n",
        "        elif index == 2:\n",
        "            return '0'\n",
        "        else:\n",
        "            fib_minus_1 = '1'\n",
        "            fib_minus_2 = '0'\n",
        "            fib_word = ''\n",
        "            for _ in range(index - 2):\n",
        "                fib_word = fib_minus_1 + fib_minus_2\n",
        "                fib_minus_2 = fib_minus_1\n",
        "                fib_minus_1 = fib_word\n",
        "            return fib_word\n",
        "    for i in range(1, n + 1):\n",
        "        word = fibonacci_word(i)\n",
        "        length = len(word)\n",
        "        entropy = round(-sum((word.count(c)/length) * math.log2(word.count(c)/length) for c in set(word)), 8)\n",
        "        fib_words.append({'N': i, 'Length': length, 'Entropy': entropy, 'Word': word})\n",
        "    return fib_words\n",
        "print(fibonacci_words(5))"
      ],
      "metadata": {
        "colab": {
          "base_uri": "https://localhost:8080/"
        },
        "id": "n8s6F3HeEB-3",
        "outputId": "08fd5f57-f03c-49d7-f92e-410e6f8b20a5"
      },
      "execution_count": null,
      "outputs": [
        {
          "output_type": "stream",
          "name": "stdout",
          "text": [
            "[{'N': 1, 'Length': 1, 'Entropy': -0.0, 'Word': '1'}, {'N': 2, 'Length': 1, 'Entropy': -0.0, 'Word': '0'}, {'N': 3, 'Length': 2, 'Entropy': 1.0, 'Word': '10'}, {'N': 4, 'Length': 3, 'Entropy': 0.91829583, 'Word': '101'}, {'N': 5, 'Length': 5, 'Entropy': 0.97095059, 'Word': '10110'}]\n"
          ]
        }
      ]
    },
    {
      "cell_type": "code",
      "source": [
        "# FizzBuzz\n",
        "def fizz_buzz():\n",
        "    result = []\n",
        "    for i in range(1, 101):\n",
        "        if i % 3 == 0 and i % 5 == 0:\n",
        "            result.append(\"FizzBuzz\")\n",
        "        elif i % 3 == 0:\n",
        "            result.append(\"Fizz\")\n",
        "        elif i % 5 == 0:\n",
        "            result.append(\"Buzz\")\n",
        "        else:\n",
        "            result.append(i)\n",
        "    return result\n",
        "print(fizz_buzz())"
      ],
      "metadata": {
        "colab": {
          "base_uri": "https://localhost:8080/"
        },
        "id": "RXnbM4xCEc7U",
        "outputId": "0afbc973-3913-4ddc-810f-aa828ca8121e"
      },
      "execution_count": null,
      "outputs": [
        {
          "output_type": "stream",
          "name": "stdout",
          "text": [
            "[1, 2, 'Fizz', 4, 'Buzz', 'Fizz', 7, 8, 'Fizz', 'Buzz', 11, 'Fizz', 13, 14, 'FizzBuzz', 16, 17, 'Fizz', 19, 'Buzz', 'Fizz', 22, 23, 'Fizz', 'Buzz', 26, 'Fizz', 28, 29, 'FizzBuzz', 31, 32, 'Fizz', 34, 'Buzz', 'Fizz', 37, 38, 'Fizz', 'Buzz', 41, 'Fizz', 43, 44, 'FizzBuzz', 46, 47, 'Fizz', 49, 'Buzz', 'Fizz', 52, 53, 'Fizz', 'Buzz', 56, 'Fizz', 58, 59, 'FizzBuzz', 61, 62, 'Fizz', 64, 'Buzz', 'Fizz', 67, 68, 'Fizz', 'Buzz', 71, 'Fizz', 73, 74, 'FizzBuzz', 76, 77, 'Fizz', 79, 'Buzz', 'Fizz', 82, 83, 'Fizz', 'Buzz', 86, 'Fizz', 88, 89, 'FizzBuzz', 91, 92, 'Fizz', 94, 'Buzz', 'Fizz', 97, 98, 'Fizz', 'Buzz']\n"
          ]
        }
      ]
    },
    {
      "cell_type": "code",
      "source": [
        "# Fractran\n",
        "def fractran_first_10(program):\n",
        "    fractions = [tuple(map(int, frac.split('/'))) for frac in program.split(',')]\n",
        "    primes = []\n",
        "    n = 2\n",
        "    while len(primes) < 10:\n",
        "        found = False\n",
        "        for frac in fractions:\n",
        "            if n * frac[0] % frac[1] == 0:\n",
        "                n = n * frac[0] // frac[1]\n",
        "                if n != 1:\n",
        "                    primes.append(n)\n",
        "                found = True\n",
        "                break\n",
        "        if not found:\n",
        "            break\n",
        "    return primes\n",
        "program = \"17/91,78/85,19/51,23/38,29/33,77/29,95/23,77/19,1/17,11/13,13/11,15/14,15/2,55/1\"\n",
        "print(fractran_first_10(program))"
      ],
      "metadata": {
        "colab": {
          "base_uri": "https://localhost:8080/"
        },
        "id": "kvAXYQLuGFP6",
        "outputId": "c6505f77-210f-4deb-fda5-9724b2ca27bd"
      },
      "execution_count": null,
      "outputs": [
        {
          "output_type": "stream",
          "name": "stdout",
          "text": [
            "[15, 825, 725, 1925, 2275, 425, 390, 330, 290, 770]\n"
          ]
        }
      ]
    },
    {
      "cell_type": "code",
      "source": [
        "# Gamme function\n",
        "import numpy as np\n",
        "def gamma_function(x, num_points=100):\n",
        "    xi, wi = np.polynomial.legendre.leggauss(num_points)\n",
        "    t = (xi + 1) / 2\n",
        "    integrand = t**(x - 1) * np.exp(-t)\n",
        "    integral = np.sum(integrand * wi) * 0.5\n",
        "    return integral\n",
        "x = 3.5\n",
        "result = gamma_function(x)\n",
        "print(\" Γ({}) ≈ {:.8f}\".format(x, result))"
      ],
      "metadata": {
        "colab": {
          "base_uri": "https://localhost:8080/"
        },
        "id": "n6AILCiSGvi1",
        "outputId": "5c16b9a7-e944-42ac-9cba-273d8713bffc"
      },
      "execution_count": null,
      "outputs": [
        {
          "output_type": "stream",
          "name": "stdout",
          "text": [
            " Γ(3.5) ≈ 0.13346455\n"
          ]
        }
      ]
    },
    {
      "cell_type": "code",
      "source": [
        "# Gaussian elimination\n",
        "import numpy as np\n",
        "def gaussian_elimination(A, b):\n",
        "    n = len(b)\n",
        "    s = np.max(np.abs(A), axis=1)\n",
        "    Ab = np.column_stack((A.astype(np.float64), b.astype(np.float64)))\n",
        "    for i in range(n):\n",
        "        pivot_row = np.argmax(np.abs(Ab[i:, i]) / s[i]) + i\n",
        "        Ab[[i, pivot_row]] = Ab[[pivot_row, i]]\n",
        "        for j in range(i+1, n):\n",
        "            factor = Ab[j, i] / Ab[i, i]\n",
        "            Ab[j, i:] -= factor * Ab[i, i:]\n",
        "    x = np.zeros(n)\n",
        "    for i in range(n-1, -1, -1):\n",
        "        x[i] = (Ab[i, -1] - np.dot(Ab[i, i+1:n], x[i+1:])) / Ab[i, i]\n",
        "    return x\n",
        "A = np.array([[2, 1, -1],\n",
        "              [-3, -1, 2],\n",
        "              [-2, 1, 2]])\n",
        "b = np.array([8, -11, -3])\n",
        "x = gaussian_elimination(A, b)\n",
        "print(\"Solution x:\", x)"
      ],
      "metadata": {
        "colab": {
          "base_uri": "https://localhost:8080/"
        },
        "id": "Wnab_z-uHuAF",
        "outputId": "7886f084-62c6-46f5-c5d9-9b318fae74a8"
      },
      "execution_count": null,
      "outputs": [
        {
          "output_type": "stream",
          "name": "stdout",
          "text": [
            "Solution x: [ 2.  3. -1.]\n"
          ]
        }
      ]
    },
    {
      "cell_type": "code",
      "source": [
        "# General FizzBuzz\n",
        "def generalized_fizzbuzz(rules, num):\n",
        "    output = \"\"\n",
        "    for rule in rules:\n",
        "        if num % rule[0] == 0:\n",
        "            output += rule[1]\n",
        "    if output == \"\":\n",
        "        output = str(num)\n",
        "    return output\n",
        "rules = [[3, \"Fizz\"], [5, \"Buzz\"]]\n",
        "for i in range(1, 21):\n",
        "    print(generalized_fizzbuzz(rules, i))"
      ],
      "metadata": {
        "colab": {
          "base_uri": "https://localhost:8080/"
        },
        "id": "HS8IYKnhIVqn",
        "outputId": "abb5db94-2939-47d0-ff04-f72f87b04347"
      },
      "execution_count": null,
      "outputs": [
        {
          "output_type": "stream",
          "name": "stdout",
          "text": [
            "1\n",
            "2\n",
            "Fizz\n",
            "4\n",
            "Buzz\n",
            "Fizz\n",
            "7\n",
            "8\n",
            "Fizz\n",
            "Buzz\n",
            "11\n",
            "Fizz\n",
            "13\n",
            "14\n",
            "FizzBuzz\n",
            "16\n",
            "17\n",
            "Fizz\n",
            "19\n",
            "Buzz\n"
          ]
        }
      ]
    },
    {
      "cell_type": "code",
      "source": [
        "# Generate lower case ASCII alphabet\n",
        "def generate_lower_ascii_range(start_char, end_char):\n",
        "    start_ascii = ord(start_char)\n",
        "    end_ascii = ord(end_char)\n",
        "    if start_ascii > end_ascii:\n",
        "        return []\n",
        "    result = [chr(i) for i in range(start_ascii, end_ascii + 1)]\n",
        "    return result\n",
        "range_start = 'a'\n",
        "range_end = 'f'\n",
        "result = generate_lower_ascii_range(range_start, range_end)\n",
        "print(result)"
      ],
      "metadata": {
        "colab": {
          "base_uri": "https://localhost:8080/"
        },
        "id": "wIwKe0leKLRr",
        "outputId": "f3c02aa3-3e88-4513-811d-eeb143cb2622"
      },
      "execution_count": null,
      "outputs": [
        {
          "output_type": "stream",
          "name": "stdout",
          "text": [
            "['a', 'b', 'c', 'd', 'e', 'f']\n"
          ]
        }
      ]
    },
    {
      "cell_type": "code",
      "source": [
        "# Generator/Exponential\n",
        "def squares():\n",
        "    n = 1\n",
        "    while True:\n",
        "        yield n * n\n",
        "        n += 1\n",
        "def cubes():\n",
        "    n = 1\n",
        "    while True:\n",
        "        yield n * n * n\n",
        "        n += 1\n",
        "def filter_cubes(generator):\n",
        "    for value in generator:\n",
        "        if value % (value ** (1/3)) != 0:\n",
        "            yield value\n",
        "def nth_filtered_value(n):\n",
        "    filtered_generator = filter_cubes(squares())\n",
        "    for _ in range(n - 1):\n",
        "        next(filtered_generator)\n",
        "    return next(filtered_generator)\n",
        "n = 7\n",
        "result = nth_filtered_value(n)\n",
        "print(f\"The {n}th value of the filtered generator = {result}.\")"
      ],
      "metadata": {
        "colab": {
          "base_uri": "https://localhost:8080/"
        },
        "id": "GM33hX_mK1nH",
        "outputId": "0863b99f-d69e-4db7-a041-d5aca0786a3b"
      },
      "execution_count": null,
      "outputs": [
        {
          "output_type": "stream",
          "name": "stdout",
          "text": [
            "The 7th value of the filtered generator = 64.\n"
          ]
        }
      ]
    },
    {
      "cell_type": "code",
      "source": [
        "# Gray code\n",
        "def gray_encode_decode(encode, num):\n",
        "    if encode:\n",
        "        gray = num ^ (num >> 1)\n",
        "        return gray\n",
        "    else:\n",
        "        binary = 0\n",
        "        while num:\n",
        "            binary ^= num\n",
        "            num >>= 1\n",
        "        return binary\n",
        "def display_binary_gray_decoded():\n",
        "    print(\"Decimal\\tBinary\\t\\tGray Code\\tDecoded Gray\")\n",
        "    for num in range(32):\n",
        "        binary = bin(num)[2:].zfill(5)\n",
        "        gray = bin(gray_encode_decode(True, num))[2:].zfill(5)\n",
        "        decoded_gray = gray_encode_decode(False, int(gray, 2))\n",
        "        print(f\"{num}\\t{binary}\\t\\t{gray}\\t\\t{decoded_gray}\")\n",
        "display_binary_gray_decoded()"
      ],
      "metadata": {
        "colab": {
          "base_uri": "https://localhost:8080/"
        },
        "id": "emJFqkbkLhdl",
        "outputId": "6b3bbac3-639d-4015-df9f-1cf4df767a01"
      },
      "execution_count": null,
      "outputs": [
        {
          "output_type": "stream",
          "name": "stdout",
          "text": [
            "Decimal\tBinary\t\tGray Code\tDecoded Gray\n",
            "0\t00000\t\t00000\t\t0\n",
            "1\t00001\t\t00001\t\t1\n",
            "2\t00010\t\t00011\t\t2\n",
            "3\t00011\t\t00010\t\t3\n",
            "4\t00100\t\t00110\t\t4\n",
            "5\t00101\t\t00111\t\t5\n",
            "6\t00110\t\t00101\t\t6\n",
            "7\t00111\t\t00100\t\t7\n",
            "8\t01000\t\t01100\t\t8\n",
            "9\t01001\t\t01101\t\t9\n",
            "10\t01010\t\t01111\t\t10\n",
            "11\t01011\t\t01110\t\t11\n",
            "12\t01100\t\t01010\t\t12\n",
            "13\t01101\t\t01011\t\t13\n",
            "14\t01110\t\t01001\t\t14\n",
            "15\t01111\t\t01000\t\t15\n",
            "16\t10000\t\t11000\t\t16\n",
            "17\t10001\t\t11001\t\t17\n",
            "18\t10010\t\t11011\t\t18\n",
            "19\t10011\t\t11010\t\t19\n",
            "20\t10100\t\t11110\t\t20\n",
            "21\t10101\t\t11111\t\t21\n",
            "22\t10110\t\t11101\t\t22\n",
            "23\t10111\t\t11100\t\t23\n",
            "24\t11000\t\t10100\t\t24\n",
            "25\t11001\t\t10101\t\t25\n",
            "26\t11010\t\t10111\t\t26\n",
            "27\t11011\t\t10110\t\t27\n",
            "28\t11100\t\t10010\t\t28\n",
            "29\t11101\t\t10011\t\t29\n",
            "30\t11110\t\t10001\t\t30\n",
            "31\t11111\t\t10000\t\t31\n"
          ]
        }
      ]
    },
    {
      "cell_type": "code",
      "source": [
        "# Greatest common divisor\n",
        "def gcd(a, b):\n",
        "    while b:\n",
        "        a, b = b, a % b\n",
        "    return abs(a)\n",
        "num1 = 48\n",
        "num2 = 18\n",
        "print(\"GCD of\", num1, \"and\", num2, \"=\", gcd(num1, num2))"
      ],
      "metadata": {
        "colab": {
          "base_uri": "https://localhost:8080/"
        },
        "id": "5YWW-ao-L07R",
        "outputId": "09d55447-6951-4a9a-84fd-8919627731a5"
      },
      "execution_count": null,
      "outputs": [
        {
          "output_type": "stream",
          "name": "stdout",
          "text": [
            "GCD of 48 and 18 = 6\n"
          ]
        }
      ]
    },
    {
      "cell_type": "code",
      "source": [
        "# Greatest subsequential sum\n",
        "def max_subsequence_sum(arr):\n",
        "    if not arr:\n",
        "        return 0\n",
        "    max_sum = current_sum = arr[0]\n",
        "    start_index = end_index = temp_index = 0\n",
        "    for i in range(1, len(arr)):\n",
        "        if arr[i] > current_sum + arr[i]:\n",
        "            current_sum = arr[i]\n",
        "            temp_index = i\n",
        "        else:\n",
        "            current_sum += arr[i]\n",
        "        if current_sum > max_sum:\n",
        "            max_sum = current_sum\n",
        "            start_index = temp_index\n",
        "            end_index = i\n",
        "    return max_sum, arr[start_index:end_index + 1]\n",
        "sequence = [-2, 1, -3, 4, -1, 2, 1, -5, 4]\n",
        "max_sum, subsequence = max_subsequence_sum(sequence)\n",
        "print(\"Maximum subsequence sum:\", max_sum)\n",
        "print(\"Subsequence with maximum sum:\", subsequence)"
      ],
      "metadata": {
        "colab": {
          "base_uri": "https://localhost:8080/"
        },
        "id": "FeYRGVnVPM3s",
        "outputId": "e2e50abb-2444-4113-e083-66262d0b5d9d"
      },
      "execution_count": null,
      "outputs": [
        {
          "output_type": "stream",
          "name": "stdout",
          "text": [
            "Maximum subsequence sum: 6\n",
            "Subsequence with maximum sum: [4, -1, 2, 1]\n"
          ]
        }
      ]
    },
    {
      "cell_type": "code",
      "source": [
        "# Hailstone sequence\n",
        "def hailstone_sequence(n):\n",
        "    sequence = [n]\n",
        "    while n != 1:\n",
        "        if n % 2 == 0:\n",
        "            n = n // 2\n",
        "        else:\n",
        "            n = 3 * n + 1\n",
        "        sequence.append(n)\n",
        "    return sequence\n",
        "def longest_sequence_below_limit(limit):\n",
        "    max_length = 0\n",
        "    number_with_longest_sequence = 0\n",
        "    for i in range(1, limit):\n",
        "        length = len(hailstone_sequence(i))\n",
        "        if length > max_length:\n",
        "            max_length = length\n",
        "            number_with_longest_sequence = i\n",
        "    return number_with_longest_sequence, max_length\n",
        "limit = 1000\n",
        "result = longest_sequence_below_limit(limit)\n",
        "print(\"Number with the longest hailstone sequence below\", limit, \":\", result[0])\n",
        "print(\"Length of the sequence:\", result[1])"
      ],
      "metadata": {
        "colab": {
          "base_uri": "https://localhost:8080/"
        },
        "id": "y8Qkc4uAP0Yi",
        "outputId": "2a86be8a-3812-4e01-86b0-789adc9438ba"
      },
      "execution_count": null,
      "outputs": [
        {
          "output_type": "stream",
          "name": "stdout",
          "text": [
            "Number with the longest hailstone sequence below 1000 : 871\n",
            "Length of the sequence: 179\n"
          ]
        }
      ]
    },
    {
      "cell_type": "code",
      "source": [
        "# Happy numbers\n",
        "def is_happy_number(n):\n",
        "    seen = set()\n",
        "    while n != 1:\n",
        "        n = sum(int(digit) ** 2 for digit in str(n))\n",
        "        if n in seen:\n",
        "            return False\n",
        "        seen.add(n)\n",
        "    return True\n",
        "print(is_happy_number(19))\n",
        "print(is_happy_number(4))"
      ],
      "metadata": {
        "colab": {
          "base_uri": "https://localhost:8080/"
        },
        "id": "fs-1hnFsQMIc",
        "outputId": "b97c3cd4-bb38-42b6-fc15-0222e73a50f9"
      },
      "execution_count": null,
      "outputs": [
        {
          "output_type": "stream",
          "name": "stdout",
          "text": [
            "True\n",
            "False\n"
          ]
        }
      ]
    },
    {
      "cell_type": "code",
      "source": [
        "# Harshad or Niven series\n",
        "def is_harshad(n):\n",
        "    return n % sum(int(digit) for digit in str(n)) == 0\n",
        "def next_harshad(n):\n",
        "    n += 1\n",
        "    while True:\n",
        "        if is_harshad(n):\n",
        "            return n\n",
        "        n += 1\n",
        "def generate_harshad_sequence(starting_number, count):\n",
        "    harshad_sequence = []\n",
        "    current_number = starting_number\n",
        "    while len(harshad_sequence) < count:\n",
        "        current_number = next_harshad(current_number)\n",
        "        harshad_sequence.append(current_number)\n",
        "    return harshad_sequence\n",
        "starting_number = 42\n",
        "count = 10\n",
        "harshad_sequence = generate_harshad_sequence(starting_number, count)\n",
        "print(harshad_sequence)"
      ],
      "metadata": {
        "colab": {
          "base_uri": "https://localhost:8080/"
        },
        "id": "A34I0TErQqVw",
        "outputId": "e73f5c49-9230-4d7b-d9b7-dcbce04cb888"
      },
      "execution_count": null,
      "outputs": [
        {
          "output_type": "stream",
          "name": "stdout",
          "text": [
            "[45, 48, 50, 54, 60, 63, 70, 72, 80, 81]\n"
          ]
        }
      ]
    },
    {
      "cell_type": "code",
      "source": [
        "# Hash from two arrays\n",
        "def arr_to_obj(keys, values):\n",
        "    if len(keys) != len(values):\n",
        "        raise ValueError(\"Arrays must be of equal length\")\n",
        "    hash_obj = {keys[i]: values[i] for i in range(len(keys))}\n",
        "    return hash_obj\n",
        "first_arr = [1, 2, 3]\n",
        "second_arr = [\"a\", \"b\", \"c\"]\n",
        "hash_obj = arr_to_obj(first_arr, second_arr)\n",
        "print(hash_obj)"
      ],
      "metadata": {
        "colab": {
          "base_uri": "https://localhost:8080/"
        },
        "id": "TORXHo9jRJum",
        "outputId": "ac0973d8-f786-4dc3-d22b-e00311201bdb"
      },
      "execution_count": null,
      "outputs": [
        {
          "output_type": "stream",
          "name": "stdout",
          "text": [
            "{1: 'a', 2: 'b', 3: 'c'}\n"
          ]
        }
      ]
    },
    {
      "cell_type": "code",
      "source": [
        "# Hash join\n",
        "def hash_join(A, B, jA, jB):\n",
        "    MB = {}\n",
        "    for b in B:\n",
        "        key = b[jB]\n",
        "        if key not in MB:\n",
        "            MB[key] = []\n",
        "        MB[key].append(b)\n",
        "    C = []\n",
        "    for a in A:\n",
        "        key = a[jA]\n",
        "        if key in MB:\n",
        "            for b in MB[key]:\n",
        "                c = {**a, **b}\n",
        "                C.append(c)\n",
        "    return C\n",
        "A = [\n",
        "    {\"Age\": 27, \"Name\": \"Jonah\"},\n",
        "    {\"Age\": 18, \"Name\": \"Alan\"},\n",
        "    {\"Age\": 28, \"Name\": \"Glory\"},\n",
        "    {\"Age\": 18, \"Name\": \"Popeye\"},\n",
        "    {\"Age\": 28, \"Name\": \"Alan\"}\n",
        "]\n",
        "B = [\n",
        "    {\"Character\": \"Jonah\", \"Nemesis\": \"Whales\"},\n",
        "    {\"Character\": \"Jonah\", \"Nemesis\": \"Spiders\"},\n",
        "    {\"Character\": \"Alan\", \"Nemesis\": \"Ghosts\"},\n",
        "    {\"Character\": \"Alan\", \"Nemesis\": \"Zombies\"},\n",
        "    {\"Character\": \"Glory\", \"Nemesis\": \"Buffy\"}\n",
        "]\n",
        "jA = \"Name\"\n",
        "jB = \"Character\"\n",
        "output = hash_join(A, B, jA, jB)\n",
        "for row in output:\n",
        "    print(row)"
      ],
      "metadata": {
        "colab": {
          "base_uri": "https://localhost:8080/"
        },
        "id": "VY8ZBeBiRrsp",
        "outputId": "1af48256-71f7-4b19-e7a9-8bd38ccd57de"
      },
      "execution_count": null,
      "outputs": [
        {
          "output_type": "stream",
          "name": "stdout",
          "text": [
            "{'Age': 27, 'Name': 'Jonah', 'Character': 'Jonah', 'Nemesis': 'Whales'}\n",
            "{'Age': 27, 'Name': 'Jonah', 'Character': 'Jonah', 'Nemesis': 'Spiders'}\n",
            "{'Age': 18, 'Name': 'Alan', 'Character': 'Alan', 'Nemesis': 'Ghosts'}\n",
            "{'Age': 18, 'Name': 'Alan', 'Character': 'Alan', 'Nemesis': 'Zombies'}\n",
            "{'Age': 28, 'Name': 'Glory', 'Character': 'Glory', 'Nemesis': 'Buffy'}\n",
            "{'Age': 28, 'Name': 'Alan', 'Character': 'Alan', 'Nemesis': 'Ghosts'}\n",
            "{'Age': 28, 'Name': 'Alan', 'Character': 'Alan', 'Nemesis': 'Zombies'}\n"
          ]
        }
      ]
    },
    {
      "cell_type": "code",
      "source": [
        "# Heronian triangles\n",
        "import math\n",
        "def triangle_area(a, b, c):\n",
        "    s = (a + b + c) / 2\n",
        "    return math.sqrt(s * (s - a) * (s - b) * (s - c))\n",
        "def ordered_triangles(triangles, n):\n",
        "    if n <= 0:\n",
        "        return []\n",
        "    def triangle_sort_key(triangle):\n",
        "        return triangle_area(*triangle)\n",
        "    sorted_triangles = sorted(triangles, key=triangle_sort_key)\n",
        "    return sorted_triangles[:n]\n",
        "triangles = [[3, 4, 5], [5, 12, 13], [6, 8, 10], [7, 24, 25]]\n",
        "n = 3\n",
        "ordered = ordered_triangles(triangles, n)\n",
        "print(\"First\", n, \"ordered triangles:\")\n",
        "for triangle in ordered:\n",
        "    print(triangle)"
      ],
      "metadata": {
        "colab": {
          "base_uri": "https://localhost:8080/"
        },
        "id": "5Y09UVqASG30",
        "outputId": "4acda8fc-b8ad-44ca-9181-beb9724bfc9b"
      },
      "execution_count": null,
      "outputs": [
        {
          "output_type": "stream",
          "name": "stdout",
          "text": [
            "First 3 ordered triangles:\n",
            "[3, 4, 5]\n",
            "[6, 8, 10]\n",
            "[5, 12, 13]\n"
          ]
        }
      ]
    },
    {
      "cell_type": "code",
      "source": [
        "# Hofstadter Figure-Figure sequences\n",
        "def ffr(n):\n",
        "    R = [0] * (n + 1)\n",
        "    R[1] = 1\n",
        "    for i in range(2, n + 1):\n",
        "        R[i] = R[i - 1] + ffs(i - 1)\n",
        "    return R[n]\n",
        "def ffs(n):\n",
        "    S = [0] * (n + 1)\n",
        "    S[1] = 2\n",
        "    for i in range(2, n + 1):\n",
        "        if i not in S:\n",
        "            S[i] = i\n",
        "        else:\n",
        "            S[i] = i + 1\n",
        "    return S[n]\n",
        "print(\"R(1) =\", ffr(1))\n",
        "print(\"R(5) =\", ffr(5))\n",
        "print(\"S(1) =\", ffs(1))\n",
        "print(\"S(5) =\", ffs(5))"
      ],
      "metadata": {
        "colab": {
          "base_uri": "https://localhost:8080/"
        },
        "id": "LaGiuzXXS7af",
        "outputId": "05716efe-4c72-49cf-cb12-4dd93e19a2ea"
      },
      "execution_count": null,
      "outputs": [
        {
          "output_type": "stream",
          "name": "stdout",
          "text": [
            "R(1) = 1\n",
            "R(5) = 15\n",
            "S(1) = 2\n",
            "S(5) = 6\n"
          ]
        }
      ]
    },
    {
      "cell_type": "code",
      "source": [
        "# Hofstadter Q Sequence\n",
        "def hofstadter_Q(n):\n",
        "    if n <= 2:\n",
        "        return 1\n",
        "    else:\n",
        "        q = [0] * (n + 1)\n",
        "        q[1] = q[2] = 1\n",
        "        for i in range(3, n + 1):\n",
        "            q[i] = q[i - q[i - 1]] + q[i - q[i - 2]]\n",
        "        return q[n]\n",
        "print(hofstadter_Q(1))\n",
        "print(hofstadter_Q(2))\n",
        "print(hofstadter_Q(10))"
      ],
      "metadata": {
        "colab": {
          "base_uri": "https://localhost:8080/"
        },
        "id": "qy0C0RNITbIw",
        "outputId": "29cc36b5-5a08-47ab-dd2e-ba50f00b864c"
      },
      "execution_count": null,
      "outputs": [
        {
          "output_type": "stream",
          "name": "stdout",
          "text": [
            "1\n",
            "1\n",
            "6\n"
          ]
        }
      ]
    },
    {
      "cell_type": "code",
      "source": [
        "# I before E except after C\n",
        "def follows_ie_rule(word):\n",
        "    if 'cie' in word:\n",
        "        return False\n",
        "    if 'cei' in word or 'ei' in word and 'cei' not in word:\n",
        "        return True\n",
        "    return False\n",
        "words = [\"believe\", \"ceiling\", \"receive\", \"science\", \"weird\", \"receipt\"]\n",
        "for word in words:\n",
        "    print(f\"{word}: {follows_ie_rule(word)}\")"
      ],
      "metadata": {
        "colab": {
          "base_uri": "https://localhost:8080/"
        },
        "id": "2lHnHNhZbw96",
        "outputId": "f140cd9a-031c-41ee-9f6e-022deb06000b"
      },
      "execution_count": null,
      "outputs": [
        {
          "output_type": "stream",
          "name": "stdout",
          "text": [
            "believe: False\n",
            "ceiling: True\n",
            "receive: True\n",
            "science: False\n",
            "weird: True\n",
            "receipt: True\n"
          ]
        }
      ]
    },
    {
      "cell_type": "code",
      "source": [
        "# IBAN\n",
        "def validate_IBAN(IBAN):\n",
        "    IBAN = IBAN.replace(\" \", \"\").upper()\n",
        "    if len(IBAN) < 5 or len(IBAN) > 34:\n",
        "        return False\n",
        "    if not IBAN[:2].isalpha():\n",
        "        return False\n",
        "    if not IBAN[2:].isalnum():\n",
        "        return False\n",
        "    IBAN = IBAN[4:] + IBAN[:4]\n",
        "    IBAN_digits = \"\"\n",
        "    for char in IBAN:\n",
        "        if char.isdigit():\n",
        "            IBAN_digits += char\n",
        "        else:\n",
        "            IBAN_digits += str(ord(char) - 55)\n",
        "    IBAN_number = int(IBAN_digits)\n",
        "    if IBAN_number % 97 == 1:\n",
        "        return True\n",
        "    else:\n",
        "        return False\n",
        "IBAN = \"GB82 WEST 1234 5698 7654 32\"\n",
        "print(validate_IBAN(IBAN))"
      ],
      "metadata": {
        "colab": {
          "base_uri": "https://localhost:8080/"
        },
        "id": "tetcW0lnc2GI",
        "outputId": "2d77a50a-d7b1-4d9e-bb28-554a2a1d1be3"
      },
      "execution_count": null,
      "outputs": [
        {
          "output_type": "stream",
          "name": "stdout",
          "text": [
            "True\n"
          ]
        }
      ]
    },
    {
      "cell_type": "code",
      "source": [
        "# Identity matrix\n",
        "def identity_matrix(n):\n",
        "    if n <= 0:\n",
        "        return \"Invalid input: n must be a positive integer\"\n",
        "    else:\n",
        "        identity = [[0] * n for _ in range(n)]\n",
        "        for i in range(n):\n",
        "            identity[i][i] = 1\n",
        "        return identity\n",
        "n = 5\n",
        "print(identity_matrix(n))"
      ],
      "metadata": {
        "colab": {
          "base_uri": "https://localhost:8080/"
        },
        "id": "y9Av8MxZda8C",
        "outputId": "f897ac7f-9992-4b81-b3b0-1e7a8d3deb4b"
      },
      "execution_count": null,
      "outputs": [
        {
          "output_type": "stream",
          "name": "stdout",
          "text": [
            "[[1, 0, 0, 0, 0], [0, 1, 0, 0, 0], [0, 0, 1, 0, 0], [0, 0, 0, 1, 0], [0, 0, 0, 0, 1]]\n"
          ]
        }
      ]
    },
    {
      "cell_type": "code",
      "source": [
        "# Iterated digits squaring\n",
        "def square_of_digits(num):\n",
        "    total = 0\n",
        "    while num > 0:\n",
        "        digit = num % 10\n",
        "        total += digit * digit\n",
        "        num //= 10\n",
        "    return total\n",
        "def process_number(num):\n",
        "    while num != 1 and num != 89:\n",
        "        num = square_of_digits(num)\n",
        "    return num\n",
        "number = int(input(\"Enter a natural number: \"))\n",
        "result = process_number(number)\n",
        "print(f\"The process ends in: {result}\")"
      ],
      "metadata": {
        "colab": {
          "base_uri": "https://localhost:8080/"
        },
        "id": "yovfQsmkdzkG",
        "outputId": "48fd5647-dbce-4cb7-a9c9-2026e27e68cf"
      },
      "execution_count": null,
      "outputs": [
        {
          "output_type": "stream",
          "name": "stdout",
          "text": [
            "Enter a natural number: 54\n",
            "The process ends in: 89\n"
          ]
        }
      ]
    },
    {
      "cell_type": "code",
      "source": [
        "# Jaro distance\n",
        "def jaro_distance(s1, s2):\n",
        "    len_s1 = len(s1)\n",
        "    len_s2 = len(s2)\n",
        "    max_dist = max(len_s1, len_s2) // 2 - 1\n",
        "    matches_s1 = [False] * len_s1\n",
        "    matches_s2 = [False] * len_s2\n",
        "    matches = 0\n",
        "    transpositions = 0\n",
        "    for i in range(len_s1):\n",
        "        start = max(0, i - max_dist)\n",
        "        end = min(i + max_dist + 1, len_s2)\n",
        "        for j in range(start, end):\n",
        "            if not matches_s2[j] and s1[i] == s2[j]:\n",
        "                matches_s1[i] = True\n",
        "                matches_s2[j] = True\n",
        "                matches += 1\n",
        "                break\n",
        "    if matches == 0:\n",
        "        return 0.0\n",
        "    k = 0\n",
        "    for i in range(len_s1):\n",
        "        if matches_s1[i]:\n",
        "            while not matches_s2[k]:\n",
        "                k += 1\n",
        "            if s1[i] != s2[k]:\n",
        "                transpositions += 1\n",
        "            k += 1\n",
        "    transpositions = transpositions // 2\n",
        "    jaro_sim = (matches / len_s1 + matches / len_s2 + (matches - transpositions) / matches) / 3\n",
        "    return jaro_sim\n",
        "string1 = \"MARTHA\"\n",
        "string2 = \"MARHTA\"\n",
        "print(\"Jaro distance =\", jaro_distance(string1, string2))"
      ],
      "metadata": {
        "colab": {
          "base_uri": "https://localhost:8080/"
        },
        "id": "fKlFUEwQesRs",
        "outputId": "139f6e73-f0dc-4f87-9dd6-832a33774b86"
      },
      "execution_count": null,
      "outputs": [
        {
          "output_type": "stream",
          "name": "stdout",
          "text": [
            "Jaro distance = 0.9444444444444445\n"
          ]
        }
      ]
    },
    {
      "cell_type": "code",
      "source": [
        "# JortSort\n",
        "def jortSort(arr):\n",
        "    original_arr = arr.copy()\n",
        "    arr.sort()\n",
        "    for i in range(len(arr)):\n",
        "        if arr[i] != original_arr[i]:\n",
        "            return False\n",
        "    return True\n",
        "array1 = [3, 1, 4, 1, 5, 9, 2, 6, 5, 3, 5]\n",
        "array2 = [1, 2, 3, 4, 5, 6, 7, 8, 9, 10]\n",
        "print(jortSort(array1))\n",
        "print(jortSort(array2))"
      ],
      "metadata": {
        "colab": {
          "base_uri": "https://localhost:8080/"
        },
        "id": "yws3qMRJfYvR",
        "outputId": "7edc7874-ab99-45ae-eed9-dc89a1eb1b21"
      },
      "execution_count": null,
      "outputs": [
        {
          "output_type": "stream",
          "name": "stdout",
          "text": [
            "False\n",
            "True\n"
          ]
        }
      ]
    },
    {
      "cell_type": "code",
      "source": [
        "# Josephus problem\n",
        "def josephus(n, k):\n",
        "    if n == 1:\n",
        "        return 0\n",
        "    return (josephus(n - 1, k) + k) % n\n",
        "n = 41\n",
        "k = 3\n",
        "survivor = josephus(n, k)\n",
        "print(\"The survivor is prisoner #\", survivor + 1)"
      ],
      "metadata": {
        "id": "N53kCDssf4Qf",
        "outputId": "ec1541f6-a0fe-4aa4-9728-0b220bcb3e7a",
        "colab": {
          "base_uri": "https://localhost:8080/"
        }
      },
      "execution_count": null,
      "outputs": [
        {
          "output_type": "stream",
          "name": "stdout",
          "text": [
            "The survivor is prisoner # 31\n"
          ]
        }
      ]
    },
    {
      "cell_type": "code",
      "source": [
        "# K-d tree\n",
        "import numpy as np\n",
        "class Node:\n",
        "    def __init__(self, point, axis, left=None, right=None):\n",
        "        self.point = point\n",
        "        self.axis = axis\n",
        "        self.left = left\n",
        "        self.right = right\n",
        "def build_kd_tree(points, depth=0):\n",
        "    if len(points) == 0:\n",
        "        return None\n",
        "    k = len(points[0])\n",
        "    axis = depth % k\n",
        "    points.sort(key=lambda x: x[axis])\n",
        "    median = len(points) // 2\n",
        "    return Node(\n",
        "        point=points[median],\n",
        "        axis=axis,\n",
        "        left=build_kd_tree(points[:median], depth + 1),\n",
        "        right=build_kd_tree(points[median + 1:], depth + 1)\n",
        "    )\n",
        "def distance(point1, point2):\n",
        "    return np.linalg.norm(np.array(point1) - np.array(point2))\n",
        "def nearest_neighbor_search(root, target, best=None):\n",
        "    if root is None:\n",
        "        return best\n",
        "    if best is None or distance(target, root.point) < distance(target, best):\n",
        "        best = root.point\n",
        "    next_branch = None\n",
        "    opposite_branch = None\n",
        "    if target[root.axis] < root.point[root.axis]:\n",
        "        next_branch = root.left\n",
        "        opposite_branch = root.right\n",
        "    else:\n",
        "        next_branch = root.right\n",
        "        opposite_branch = root.left\n",
        "    best = nearest_neighbor_search(next_branch, target, best)\n",
        "    if opposite_branch is not None:\n",
        "        if (abs(target[root.axis] - root.point[root.axis]) < distance(target, best)):\n",
        "            best = nearest_neighbor_search(opposite_branch, target, best)\n",
        "    return best\n",
        "points = [[2,3], [5,4], [9,6], [4,7], [8,1], [7,2]]\n",
        "target_point = [5, 5]\n",
        "kd_tree = build_kd_tree(points)\n",
        "nearest_neighbor = nearest_neighbor_search(kd_tree, target_point)\n",
        "print(\"Nearest neighbor to\", target_point, \"is\", nearest_neighbor)"
      ],
      "metadata": {
        "id": "I2p8l9dYhdHN",
        "colab": {
          "base_uri": "https://localhost:8080/"
        },
        "outputId": "a5c7a42e-9907-4770-a31b-e69a01e23944"
      },
      "execution_count": null,
      "outputs": [
        {
          "output_type": "stream",
          "name": "stdout",
          "text": [
            "Nearest neighbor to [5, 5] is [5, 4]\n"
          ]
        }
      ]
    },
    {
      "cell_type": "code",
      "source": [
        "# Kaprekar numbers\n",
        "def is_kaprekar_number(n, bs):\n",
        "    def split_number(num, base):\n",
        "        num_str = str(num)\n",
        "        num_len = len(num_str)\n",
        "        split_index = 1\n",
        "        while split_index < num_len:\n",
        "            left_part = int(num_str[:split_index], base)\n",
        "            right_part = int(num_str[split_index:], base)\n",
        "            if left_part + right_part == n and left_part != 0 and right_part != 0:\n",
        "                return True\n",
        "            split_index += 1\n",
        "        return False\n",
        "    square = n * n\n",
        "    return split_number(square, bs)\n",
        "print(is_kaprekar_number(2223, 10))\n",
        "print(is_kaprekar_number(9, 10))\n",
        "print(is_kaprekar_number(45, 10))\n",
        "print(is_kaprekar_number(55, 10))\n",
        "print(is_kaprekar_number(5, 10))"
      ],
      "metadata": {
        "colab": {
          "base_uri": "https://localhost:8080/"
        },
        "id": "JqWfVNGpojte",
        "outputId": "d9886ca0-5011-4e3e-a20f-e7f54a998549"
      },
      "execution_count": null,
      "outputs": [
        {
          "output_type": "stream",
          "name": "stdout",
          "text": [
            "True\n",
            "True\n",
            "True\n",
            "True\n",
            "False\n"
          ]
        }
      ]
    },
    {
      "cell_type": "code",
      "source": [
        "# Knapsack problem/0-1\n",
        "def knapsack(items, max_weight):\n",
        "    dp = [[0] * (max_weight + 1) for _ in range(len(items) + 1)]\n",
        "    for i in range(1, len(items) + 1):\n",
        "        for w in range(1, max_weight + 1):\n",
        "            item_weight = items[i - 1][\"weight\"]\n",
        "            item_value = items[i - 1][\"value\"]\n",
        "            if item_weight <= w:\n",
        "                dp[i][w] = max(dp[i - 1][w], dp[i - 1][w - item_weight] + item_value)\n",
        "            else:\n",
        "                dp[i][w] = dp[i - 1][w]\n",
        "    return dp[len(items)][max_weight]\n",
        "items = [\n",
        "    {\"name\": \"item1\", \"weight\": 2, \"value\": 3},\n",
        "    {\"name\": \"item2\", \"weight\": 3, \"value\": 4},\n",
        "    {\"name\": \"item3\", \"weight\": 4, \"value\": 5},\n",
        "    {\"name\": \"item4\", \"weight\": 5, \"value\": 6}\n",
        "]\n",
        "max_weight = 5\n",
        "print(knapsack(items, max_weight))"
      ],
      "metadata": {
        "colab": {
          "base_uri": "https://localhost:8080/"
        },
        "id": "QFVmX3LGo8ku",
        "outputId": "608c8ea2-02b4-429f-c873-98471411aca1"
      },
      "execution_count": null,
      "outputs": [
        {
          "output_type": "stream",
          "name": "stdout",
          "text": [
            "7\n"
          ]
        }
      ]
    },
    {
      "cell_type": "code",
      "source": [
        "# Knapsack problem/Bounded\n",
        "def knapsack_bounded(items, max_weight):\n",
        "    table = [0] * (max_weight + 1)\n",
        "    for item in items:\n",
        "        for count in range(1, item['pieces'] + 1):\n",
        "            for weight in range(max_weight, item['weight'] - 1, -1):\n",
        "                table[weight] = max(table[weight], table[weight - item['weight']] + item['value'])\n",
        "    return table[max_weight]\n",
        "items = [\n",
        "    {'name': 'item1', 'pieces': 2, 'weight': 3, 'value': 6},\n",
        "    {'name': 'item2', 'pieces': 1, 'weight': 2, 'value': 4},\n",
        "    {'name': 'item3', 'pieces': 3, 'weight': 5, 'value': 10}\n",
        "]\n",
        "max_weight = 8\n",
        "print(knapsack_bounded(items, max_weight))"
      ],
      "metadata": {
        "colab": {
          "base_uri": "https://localhost:8080/"
        },
        "id": "wxGtFPTbpebN",
        "outputId": "a85b3d0a-73db-41f5-d4a4-c31f1f488d8e"
      },
      "execution_count": null,
      "outputs": [
        {
          "output_type": "stream",
          "name": "stdout",
          "text": [
            "16\n"
          ]
        }
      ]
    },
    {
      "cell_type": "code",
      "source": [
        "# Knapsack problem/Continuous\n",
        "def knapsack_max_value(items, max_weight):\n",
        "    items.sort(key=lambda x: x['value'] / x['weight'], reverse=True)\n",
        "    total_value = 0\n",
        "    total_weight = 0\n",
        "    for item in items:\n",
        "        if total_weight + item['weight'] <= max_weight:\n",
        "            total_value += item['value']\n",
        "            total_weight += item['weight']\n",
        "        else:\n",
        "            remaining_weight = max_weight - total_weight\n",
        "            fraction = remaining_weight / item['weight']\n",
        "            total_value += fraction * item['value']\n",
        "            total_weight += fraction * item['weight']\n",
        "            break\n",
        "    return total_value, total_weight\n",
        "items = [\n",
        "    {'name': 'Steak', 'weight': 5, 'value': 100},\n",
        "    {'name': 'Chicken', 'weight': 3, 'value': 50},\n",
        "    {'name': 'Pork', 'weight': 2, 'value': 30},\n",
        "    {'name': 'Bacon', 'weight': 1, 'value': 20}\n",
        "]\n",
        "max_weight = 7\n",
        "max_value, total_weight = knapsack_max_value(items, max_weight)\n",
        "print(\"Maximum value =\", max_value)\n",
        "print(\"Total weight of selected items =\", total_weight)"
      ],
      "metadata": {
        "colab": {
          "base_uri": "https://localhost:8080/"
        },
        "id": "KhseQiHa7I_s",
        "outputId": "66bdf059-2fa2-4d31-9680-58043cd8ed1c"
      },
      "execution_count": null,
      "outputs": [
        {
          "output_type": "stream",
          "name": "stdout",
          "text": [
            "Maximum value = 136.66666666666666\n",
            "Total weight of selected items = 7.0\n"
          ]
        }
      ]
    },
    {
      "cell_type": "code",
      "source": [
        "# Knapsack problem/Unbounded\n",
        "def max_value_knapsack(items, max_weight, max_volume):\n",
        "    dp = [[0] * (max_volume + 1) for _ in range(max_weight + 1)]\n",
        "    for i in range(len(items)):\n",
        "        for w in range(items[i]['weight'], max_weight + 1):\n",
        "            for v in range(items[i]['volume'], max_volume + 1):\n",
        "                dp[w][v] = max(dp[w][v], dp[w - items[i]['weight']][v - items[i]['volume']] + items[i]['value'])\n",
        "    return dp[max_weight][max_volume]\n",
        "items = [\n",
        "    {'name': 'item1', 'value': 10, 'weight': 2, 'volume': 3},\n",
        "    {'name': 'item2', 'value': 20, 'weight': 3, 'volume': 4},\n",
        "    {'name': 'item3', 'value': 30, 'weight': 4, 'volume': 5}\n",
        "]\n",
        "max_weight = 5\n",
        "max_volume = 7\n",
        "print(max_value_knapsack(items, max_weight, max_volume))"
      ],
      "metadata": {
        "colab": {
          "base_uri": "https://localhost:8080/"
        },
        "id": "N-gannRD7_eA",
        "outputId": "7a165396-bcf0-462a-ef89-e88500e579fb"
      },
      "execution_count": null,
      "outputs": [
        {
          "output_type": "stream",
          "name": "stdout",
          "text": [
            "30\n"
          ]
        }
      ]
    },
    {
      "cell_type": "code",
      "source": [
        "# Largest int from concatenated ints\n",
        "from functools import cmp_to_key\n",
        "def largest_number(nums):\n",
        "    def compare(x, y):\n",
        "        xy = int(str(x) + str(y))\n",
        "        yx = int(str(y) + str(x))\n",
        "        if xy < yx:\n",
        "            return 1\n",
        "        elif xy > yx:\n",
        "            return -1\n",
        "        else:\n",
        "            return 0\n",
        "    sorted_nums = sorted(nums, key=cmp_to_key(compare))\n",
        "    return int(''.join(map(str, sorted_nums)))\n",
        "nums = [3, 30, 34, 5, 9]\n",
        "print(largest_number(nums))"
      ],
      "metadata": {
        "colab": {
          "base_uri": "https://localhost:8080/"
        },
        "id": "v5p94XNU_V4K",
        "outputId": "f0e8c5fc-7146-43df-ec4c-05d1da889172"
      },
      "execution_count": null,
      "outputs": [
        {
          "output_type": "stream",
          "name": "stdout",
          "text": [
            "9534330\n"
          ]
        }
      ]
    },
    {
      "cell_type": "code",
      "source": [
        "# Last letter-first letter\n",
        "def find_max_sequence(words):\n",
        "    def find_sequence(word, remaining_words, memo):\n",
        "        if word in memo:\n",
        "            return memo[word]\n",
        "        max_seq = []\n",
        "        for next_word in remaining_words:\n",
        "            if next_word[0] == word[-1]:\n",
        "                new_remaining = remaining_words.copy()\n",
        "                new_remaining.remove(next_word)\n",
        "                seq = find_sequence(next_word, new_remaining, memo)\n",
        "                if len(seq) > len(max_seq):\n",
        "                    max_seq = seq\n",
        "        max_seq = [word] + max_seq\n",
        "        memo[word] = max_seq\n",
        "        return max_seq\n",
        "    max_sequence = []\n",
        "    memo = {}\n",
        "    for word in words:\n",
        "        seq = find_sequence(word, words.copy(), memo)\n",
        "        if len(seq) > len(max_sequence):\n",
        "            max_sequence = seq\n",
        "    return max_sequence\n",
        "input_words = [\"apple\", \"elephant\", \"tiger\", \"rabbit\", \"lion\", \"newt\", \"turtle\", \"eagle\"]\n",
        "print(find_max_sequence(input_words))"
      ],
      "metadata": {
        "colab": {
          "base_uri": "https://localhost:8080/"
        },
        "id": "0r3OY3_5AkG7",
        "outputId": "25bff75d-af36-404c-e082-c45efaf2d976"
      },
      "execution_count": null,
      "outputs": [
        {
          "output_type": "stream",
          "name": "stdout",
          "text": [
            "['apple', 'elephant', 'tiger', 'rabbit', 'turtle', 'eagle']\n"
          ]
        }
      ]
    },
    {
      "cell_type": "code",
      "source": [
        "# Last Friday of each month\n",
        "import calendar\n",
        "def last_friday_of_month(year, month):\n",
        "    last_day = calendar.monthrange(year, month)[1]\n",
        "    last_day_of_month = datetime.date(year, month, last_day)\n",
        "    while last_day_of_month.weekday() != 4:\n",
        "        last_day_of_month -= datetime.timedelta(days=1)\n",
        "    return last_day_of_month\n",
        "year = 2022\n",
        "month = 10\n",
        "print(\"📆 Last Friday:\", last_friday_of_month(year, month))"
      ],
      "metadata": {
        "colab": {
          "base_uri": "https://localhost:8080/"
        },
        "id": "NnqI1sFbBXod",
        "outputId": "d3510dce-86af-4567-f783-e0406593bfb4"
      },
      "execution_count": null,
      "outputs": [
        {
          "output_type": "stream",
          "name": "stdout",
          "text": [
            "📆 Last Friday: 2022-10-28\n"
          ]
        }
      ]
    },
    {
      "cell_type": "code",
      "source": [
        "# Leap year\n",
        "def is_leap_year(year):\n",
        "    if year % 4 == 0:\n",
        "        if year % 100 == 0:\n",
        "            if year % 400 == 0:\n",
        "                return True\n",
        "            else:\n",
        "                return False\n",
        "        else:\n",
        "            return True\n",
        "    else:\n",
        "        return False\n",
        "year1 = 2022\n",
        "if is_leap_year(year1):\n",
        "    print(f\"{year1} is a leap year.\")\n",
        "else:\n",
        "    print(f\"{year1} is not a leap year.\")\n",
        "year2 = 2023\n",
        "if is_leap_year(year2):\n",
        "    print(f\"{year2} is a leap year.\")\n",
        "else:\n",
        "    print(f\"{year2} is not a leap year.\")\n",
        "year3 = 2024\n",
        "if is_leap_year(year3):\n",
        "    print(f\"{year3} is a leap year.\")\n",
        "else:\n",
        "    print(f\"{year3} is not a leap year.\")"
      ],
      "metadata": {
        "colab": {
          "base_uri": "https://localhost:8080/"
        },
        "id": "9M7mRsNeCZs8",
        "outputId": "8c36faed-f773-4891-98da-c147aac670db"
      },
      "execution_count": null,
      "outputs": [
        {
          "output_type": "stream",
          "name": "stdout",
          "text": [
            "2022 is not a leap year.\n",
            "2023 is not a leap year.\n",
            "2024 is a leap year.\n"
          ]
        }
      ]
    },
    {
      "cell_type": "code",
      "source": [
        "# Least common multiple\n",
        "def gcd(a, b):\n",
        "    while b:\n",
        "        a, b = b, a % b\n",
        "    return a\n",
        "def lcm(a, b):\n",
        "    return (a * b) // gcd(a, b)\n",
        "def lcm_array(arr):\n",
        "    if len(arr) == 0:\n",
        "        return None\n",
        "    elif len(arr) == 1:\n",
        "        return arr[0]\n",
        "    lcm_result = arr[0]\n",
        "    for i in range(1, len(arr)):\n",
        "        lcm_result = lcm(lcm_result, arr[i])\n",
        "    return lcm_result\n",
        "array = [4, 6, 8, 10]\n",
        "print(\"LCM of\", array, \"=\", lcm_array(array))"
      ],
      "metadata": {
        "colab": {
          "base_uri": "https://localhost:8080/"
        },
        "id": "JHv5ULDwDdeF",
        "outputId": "ece8e0ac-001f-4023-8ac0-bab3012877e8"
      },
      "execution_count": null,
      "outputs": [
        {
          "output_type": "stream",
          "name": "stdout",
          "text": [
            "LCM of [4, 6, 8, 10] = 120\n"
          ]
        }
      ]
    },
    {
      "cell_type": "code",
      "source": [
        "# Left factorials\n",
        "def factorial(n):\n",
        "    if n == 0:\n",
        "        return 1\n",
        "    else:\n",
        "        return n * factorial(n - 1)\n",
        "def left_factorial(n):\n",
        "    left_fact_sum = 0\n",
        "    for i in range(1, n + 1):\n",
        "        left_fact_sum += factorial(i)\n",
        "    return left_fact_sum\n",
        "number = 5\n",
        "print(\"Left factorial of\", number, \"=\", left_factorial(number))"
      ],
      "metadata": {
        "colab": {
          "base_uri": "https://localhost:8080/"
        },
        "id": "A4ovItGcD7bq",
        "outputId": "2cf790a6-d7f5-4bb5-ed86-9da0d2a54fd1"
      },
      "execution_count": null,
      "outputs": [
        {
          "output_type": "stream",
          "name": "stdout",
          "text": [
            "Left factorial of 5 = 153\n"
          ]
        }
      ]
    },
    {
      "cell_type": "code",
      "source": [
        "# Letter frequency\n",
        "def count_characters(string):\n",
        "    char_freq = {}\n",
        "    for char in string:\n",
        "        if char in char_freq:\n",
        "            char_freq[char] += 1\n",
        "        else:\n",
        "            char_freq[char] = 1\n",
        "    result = [[char, freq] for char, freq in char_freq.items()]\n",
        "    return result\n",
        "string = \"ab\"\n",
        "print(count_characters(string))"
      ],
      "metadata": {
        "colab": {
          "base_uri": "https://localhost:8080/"
        },
        "id": "yIWI055AESqu",
        "outputId": "4fef53a1-96ad-4747-aeb5-1b297fe7bfca"
      },
      "execution_count": null,
      "outputs": [
        {
          "output_type": "stream",
          "name": "stdout",
          "text": [
            "[['a', 1], ['b', 1]]\n"
          ]
        }
      ]
    },
    {
      "cell_type": "code",
      "source": [
        "# Levenshtein distance\n",
        "def levenshtein_distance(s1, s2):\n",
        "    matrix = [[0] * (len(s2) + 1) for _ in range(len(s1) + 1)]\n",
        "    for i in range(len(s1) + 1):\n",
        "        matrix[i][0] = i\n",
        "    for j in range(len(s2) + 1):\n",
        "        matrix[0][j] = j\n",
        "    for i in range(1, len(s1) + 1):\n",
        "        for j in range(1, len(s2) + 1):\n",
        "            cost = 0 if s1[i - 1] == s2[j - 1] else 1\n",
        "            matrix[i][j] = min(matrix[i - 1][j] + 1,\n",
        "                               matrix[i][j - 1] + 1,\n",
        "                               matrix[i - 1][j - 1] + cost)\n",
        "    return matrix[len(s1)][len(s2)]\n",
        "print(levenshtein_distance(\"kangaroo\", \"koala\"))\n",
        "print(levenshtein_distance(\"python\", \"javascript\"))"
      ],
      "metadata": {
        "colab": {
          "base_uri": "https://localhost:8080/"
        },
        "id": "cDDFXbOFFA2D",
        "outputId": "54df48ed-1d2d-47ae-b52e-cadc347a64c5"
      },
      "execution_count": null,
      "outputs": [
        {
          "output_type": "stream",
          "name": "stdout",
          "text": [
            "6\n",
            "10\n"
          ]
        }
      ]
    },
    {
      "cell_type": "code",
      "source": [
        "# Linear Congruential Generator\n",
        "def linear_congruential_generator(r0, a, c, m, n):\n",
        "    rn = r0\n",
        "    for _ in range(n):\n",
        "        rn = (a * rn + c) % m\n",
        "    return rn\n",
        "r0 = 5\n",
        "a = 7\n",
        "c = 3\n",
        "m = 11\n",
        "n = 5\n",
        "result = linear_congruential_generator(r0, a, c, m, n)\n",
        "print(\"Result:\", result)"
      ],
      "metadata": {
        "colab": {
          "base_uri": "https://localhost:8080/"
        },
        "id": "MgrHQErvF800",
        "outputId": "b24aa0c3-982f-47d6-fbe9-2c41ea8e2f07"
      },
      "execution_count": null,
      "outputs": [
        {
          "output_type": "stream",
          "name": "stdout",
          "text": [
            "Result: 5\n"
          ]
        }
      ]
    },
    {
      "cell_type": "code",
      "source": [
        "# Long multiplication\n",
        "def long_multiplication(num1, num2):\n",
        "    num1 = [int(digit) for digit in reversed(num1)]\n",
        "    num2 = [int(digit) for digit in reversed(num2)]\n",
        "    result = [0] * (len(num1) + len(num2))\n",
        "    for i in range(len(num1)):\n",
        "        for j in range(len(num2)):\n",
        "            result[i + j] += num1[i] * num2[j]\n",
        "            result[i + j + 1] += result[i + j] // 10\n",
        "            result[i + j] %= 10\n",
        "    while len(result) > 1 and result[-1] == 0:\n",
        "        result.pop()\n",
        "    return ''.join(map(str, reversed(result)))\n",
        "num1 = \"12345678901234567890\"\n",
        "num2 = \"98765432109876543210\"\n",
        "print(long_multiplication(num1, num2))"
      ],
      "metadata": {
        "colab": {
          "base_uri": "https://localhost:8080/"
        },
        "id": "DQhlxx8FGsm5",
        "outputId": "56329a42-8511-4498-ddf2-c62d8687ee2b"
      },
      "execution_count": null,
      "outputs": [
        {
          "output_type": "stream",
          "name": "stdout",
          "text": [
            "1219326311370217952237463801111263526900\n"
          ]
        }
      ]
    },
    {
      "cell_type": "code",
      "source": [
        "# Longest common subsequence\n",
        "def lcs_case_sensitive(str1, str2):\n",
        "    def lcs_helper(s1, s2, m, n):\n",
        "        if m == 0 or n == 0:\n",
        "            return ''\n",
        "        elif s1[m - 1] == s2[n - 1]:\n",
        "            return lcs_helper(s1, s2, m - 1, n - 1) + s1[m - 1]\n",
        "        else:\n",
        "            lcs1 = lcs_helper(s1, s2, m, n - 1)\n",
        "            lcs2 = lcs_helper(s1, s2, m - 1, n)\n",
        "            return lcs1 if len(lcs1) > len(lcs2) else lcs2\n",
        "    return lcs_helper(str1, str2, len(str1), len(str2))\n",
        "str1 = \"ABCD\"\n",
        "str2 = \"BD\"\n",
        "print(\"Longest Common Subsequence:\", lcs_case_sensitive(str1, str2))"
      ],
      "metadata": {
        "colab": {
          "base_uri": "https://localhost:8080/"
        },
        "id": "yMtXHwAAJRqO",
        "outputId": "98889172-44d5-4985-be06-9145bb6a3e0e"
      },
      "execution_count": null,
      "outputs": [
        {
          "output_type": "stream",
          "name": "stdout",
          "text": [
            "Longest Common Subsequence: BD\n"
          ]
        }
      ]
    },
    {
      "cell_type": "code",
      "source": [
        "# Longest increasing subsequence\n",
        "def longest_increasing_subsequence(nums):\n",
        "    n = len(nums)\n",
        "    dp = [1] * n\n",
        "    for i in range(1, n):\n",
        "        for j in range(i):\n",
        "            if nums[i] > nums[j]:\n",
        "                dp[i] = max(dp[i], dp[j] + 1)\n",
        "    max_length = max(dp)\n",
        "    lis = []\n",
        "    max_index = dp.index(max_length)\n",
        "    lis.insert(0, nums[max_index])\n",
        "    max_length -= 1\n",
        "    for i in range(max_index - 1, -1, -1):\n",
        "        if dp[i] == max_length and nums[i] < lis[0]:\n",
        "            lis.insert(0, nums[i])\n",
        "            max_length -= 1\n",
        "    return lis\n",
        "array = [3, 10, 2, 1, 20]\n",
        "print(longest_increasing_subsequence(array))"
      ],
      "metadata": {
        "colab": {
          "base_uri": "https://localhost:8080/"
        },
        "id": "ba6loDyJJ3Be",
        "outputId": "a07f4e35-eda2-40dc-fffe-258a70d03969"
      },
      "execution_count": null,
      "outputs": [
        {
          "output_type": "stream",
          "name": "stdout",
          "text": [
            "[3, 10, 20]\n"
          ]
        }
      ]
    },
    {
      "cell_type": "code",
      "source": [
        "# Longest string challenge\n",
        "def longest_strings(strings):\n",
        "    max_length = max(len(s) for s in strings)\n",
        "    return [s for s in strings if len(s) == max_length]\n",
        "input_strings = [\"apple\", \"pomegranate\", \"orange\", \"kiwi\", \"grape\"]\n",
        "result = longest_strings(input_strings)\n",
        "print(result)"
      ],
      "metadata": {
        "colab": {
          "base_uri": "https://localhost:8080/"
        },
        "id": "h5Qz_haZKUYH",
        "outputId": "4adf8392-f3d4-4885-f037-f3a5e3664f6b"
      },
      "execution_count": null,
      "outputs": [
        {
          "output_type": "stream",
          "name": "stdout",
          "text": [
            "['pomegranate']\n"
          ]
        }
      ]
    },
    {
      "cell_type": "code",
      "source": [
        "# Look and Say sequence\n",
        "def look_and_say(s):\n",
        "    result = \"\"\n",
        "    i = 0\n",
        "    while i < len(s):\n",
        "        count = 1\n",
        "        while i + 1 < len(s) and s[i] == s[i + 1]:\n",
        "            i += 1\n",
        "            count += 1\n",
        "        result += str(count) + s[i]\n",
        "        i += 1\n",
        "    return result\n",
        "input_str = \"1\"\n",
        "iterations = 5\n",
        "for _ in range(iterations):\n",
        "    input_str = look_and_say(input_str)\n",
        "    print(input_str)"
      ],
      "metadata": {
        "colab": {
          "base_uri": "https://localhost:8080/"
        },
        "id": "CwvglU2vKuVm",
        "outputId": "050b5dbb-c0ed-4535-8837-63c950f8ad3a"
      },
      "execution_count": null,
      "outputs": [
        {
          "output_type": "stream",
          "name": "stdout",
          "text": [
            "11\n",
            "21\n",
            "1211\n",
            "111221\n",
            "312211\n"
          ]
        }
      ]
    },
    {
      "cell_type": "code",
      "source": [
        "# Loop over multiple arrays simultaneously\n",
        "def concatenate_arrays(arrays):\n",
        "    result = []\n",
        "    length = len(arrays[0])\n",
        "    for i in range(length):\n",
        "        concatenated = \"\"\n",
        "        for array in arrays:\n",
        "            concatenated += str(array[i])\n",
        "        result.append(concatenated)\n",
        "    return result\n",
        "arrays = [[\"a\", \"b\", \"c\"], [\"A\", \"B\", \"C\"], [1, 2, 3]]\n",
        "output = concatenate_arrays(arrays)\n",
        "print(output)"
      ],
      "metadata": {
        "colab": {
          "base_uri": "https://localhost:8080/"
        },
        "id": "iJSKBSzgLe9T",
        "outputId": "14a66eb0-3996-44e7-a61e-265b32c5b27b"
      },
      "execution_count": null,
      "outputs": [
        {
          "output_type": "stream",
          "name": "stdout",
          "text": [
            "['aA1', 'bB2', 'cC3']\n"
          ]
        }
      ]
    },
    {
      "cell_type": "code",
      "source": [
        "# Lucas-Lehmer test\n",
        "def lucas_lehmer_test(p):\n",
        "    if p == 2:\n",
        "        return True\n",
        "    s = 4\n",
        "    m = 2 ** p - 1\n",
        "    for _ in range(2, p):\n",
        "        s = (s ** 2 - 2) % m\n",
        "    return s == 0\n",
        "def is_mersenne_prime(p):\n",
        "    if p <= 1:\n",
        "        return False\n",
        "    if p == 2:\n",
        "        return True\n",
        "    m = 2 ** p - 1\n",
        "    if lucas_lehmer_test(p):\n",
        "        return True\n",
        "    else:\n",
        "        return False\n",
        "p = 7\n",
        "print(is_mersenne_prime(p))"
      ],
      "metadata": {
        "colab": {
          "base_uri": "https://localhost:8080/"
        },
        "id": "wyLbzSynMl3B",
        "outputId": "76da3b6f-aa3c-4d4b-f8b7-c1b5ad8c2350"
      },
      "execution_count": null,
      "outputs": [
        {
          "output_type": "stream",
          "name": "stdout",
          "text": [
            "True\n"
          ]
        }
      ]
    },
    {
      "cell_type": "code",
      "source": [
        "# Ludic numbers\n",
        "def generate_ludic_numbers(limit):\n",
        "    ludic_numbers = [1]\n",
        "    index = 1\n",
        "    num = 2\n",
        "    while num <= limit:\n",
        "        ludic_numbers.append(num)\n",
        "        index += 1\n",
        "        if index < len(ludic_numbers):\n",
        "            num = ludic_numbers[index]\n",
        "        else:\n",
        "            break\n",
        "        j = 0\n",
        "        while j < len(ludic_numbers):\n",
        "            if ludic_numbers[j] % num == 0:\n",
        "                ludic_numbers.pop(j)\n",
        "            else:\n",
        "                j += 1\n",
        "    return ludic_numbers\n",
        "limit = 50\n",
        "print(generate_ludic_numbers(limit))"
      ],
      "metadata": {
        "colab": {
          "base_uri": "https://localhost:8080/"
        },
        "id": "glCR9dI7NBca",
        "outputId": "8f1f10c1-5582-4785-8737-97a27b8fa1ae"
      },
      "execution_count": null,
      "outputs": [
        {
          "output_type": "stream",
          "name": "stdout",
          "text": [
            "[1, 2]\n"
          ]
        }
      ]
    },
    {
      "cell_type": "code",
      "source": [
        "# Luhn test of credit card numbers\n",
        "def luhn_validate(number):\n",
        "    digits = [int(digit) for digit in reversed(str(number))]\n",
        "    doubled_digits = [(digit * 2) if index % 2 else digit for index, digit in enumerate(digits)]\n",
        "    subtracted_digits = [digit - 9 if digit > 9 else digit for digit in doubled_digits]\n",
        "    total = sum(subtracted_digits)\n",
        "    return total % 10 == 0\n",
        "print(luhn_validate(49927398716))\n",
        "print(luhn_validate(49927398717))"
      ],
      "metadata": {
        "colab": {
          "base_uri": "https://localhost:8080/"
        },
        "id": "PRnpazRKNgo7",
        "outputId": "c2b712b3-60dd-4cd5-ff66-56f537b46626"
      },
      "execution_count": null,
      "outputs": [
        {
          "output_type": "stream",
          "name": "stdout",
          "text": [
            "True\n",
            "False\n"
          ]
        }
      ]
    },
    {
      "cell_type": "code",
      "source": [
        "# Lychrel numbers\n",
        "def is_lychrel_number(n):\n",
        "    def is_palindrome(num):\n",
        "        return str(num) == str(num)[::-1]\n",
        "    def reverse_and_add(num):\n",
        "        return num + int(str(num)[::-1])\n",
        "    iterations = 0\n",
        "    while iterations < 500:\n",
        "        n = reverse_and_add(n)\n",
        "        if is_palindrome(n):\n",
        "            return False\n",
        "        iterations += 1\n",
        "    return True\n",
        "print(is_lychrel_number(196))\n",
        "print(is_lychrel_number(4994))\n",
        "print(is_lychrel_number(89))"
      ],
      "metadata": {
        "colab": {
          "base_uri": "https://localhost:8080/"
        },
        "id": "7kVPQETXOMRK",
        "outputId": "e95172ec-931d-4178-de16-14655f2b5492"
      },
      "execution_count": null,
      "outputs": [
        {
          "output_type": "stream",
          "name": "stdout",
          "text": [
            "True\n",
            "True\n",
            "False\n"
          ]
        }
      ]
    },
    {
      "cell_type": "code",
      "source": [
        "# S-Expressions\n",
        "def parse_sexp(expression):\n",
        "    stack = []\n",
        "    current = []\n",
        "    word = ''\n",
        "    quoted = False\n",
        "    for char in expression:\n",
        "        if char == '(' and not quoted:\n",
        "            if word:\n",
        "                current.append(word)\n",
        "                word = ''\n",
        "            stack.append(current)\n",
        "            current = []\n",
        "        elif char == ')' and not quoted:\n",
        "            if word:\n",
        "                current.append(word)\n",
        "                word = ''\n",
        "            if current:\n",
        "                stack[-1].append(current)\n",
        "                current = stack.pop()\n",
        "            else:\n",
        "                return \"Error: Unexpected ')'\"\n",
        "        elif char.isspace() and not quoted:\n",
        "            if word:\n",
        "                current.append(word)\n",
        "                word = ''\n",
        "        elif char == '\"':\n",
        "            if quoted:\n",
        "                current.append(word)\n",
        "                word = ''\n",
        "                quoted = False\n",
        "            else:\n",
        "                if word:\n",
        "                    return \"Error: Unexpected '\\\"'\"\n",
        "                quoted = True\n",
        "        else:\n",
        "            word += char\n",
        "    if quoted:\n",
        "        return \"Error: Unterminated string\"\n",
        "    if stack:\n",
        "        return \"Error: Unterminated S-Expression\"\n",
        "    if word:\n",
        "        current.append(word)\n",
        "    return current\n",
        "input_str = '((data \"quoted data\" 123 4.5) (data (!@# (4.5) \"(more\" \"data)\")))'\n",
        "result = parse_sexp(input_str)\n",
        "print(result)"
      ],
      "metadata": {
        "colab": {
          "base_uri": "https://localhost:8080/"
        },
        "id": "UlXqwRg5OpNW",
        "outputId": "9f00ee16-365f-41a5-ad17-e51793abb57c"
      },
      "execution_count": null,
      "outputs": [
        {
          "output_type": "stream",
          "name": "stdout",
          "text": [
            "[[['data', 'quoted data', '123', '4.5'], ['data', ['!@#', ['4.5'], '(more', 'data)']]]]\n"
          ]
        }
      ]
    },
    {
      "cell_type": "code",
      "source": [
        "# Sailors, coconuts and a monkey problem\n",
        "def find_initial_pile_size(n):\n",
        "    if n == 1:\n",
        "        return 1\n",
        "    pile_size = n + 1\n",
        "    while True:\n",
        "        remaining = pile_size\n",
        "        valid = True\n",
        "        for _ in range(n):\n",
        "            remaining -= 1\n",
        "            if remaining % n != 0:\n",
        "                valid = False\n",
        "                break\n",
        "            remaining -= remaining // n\n",
        "        if valid and remaining % n == 0:\n",
        "            return pile_size\n",
        "        pile_size += 1\n",
        "n = 5\n",
        "initial_pile_size = find_initial_pile_size(n)\n",
        "print(\"Minimum initial pile size for\", n, \"sailors is\", initial_pile_size)"
      ],
      "metadata": {
        "colab": {
          "base_uri": "https://localhost:8080/"
        },
        "id": "2yZV3GBLPkRE",
        "outputId": "c21e0740-aeed-4cef-b07d-7d5d41ff6292"
      },
      "execution_count": null,
      "outputs": [
        {
          "output_type": "stream",
          "name": "stdout",
          "text": [
            "Minimum initial pile size for 5 sailors is 3121\n"
          ]
        }
      ]
    },
    {
      "cell_type": "code",
      "source": [
        "# Search a list of records\n",
        "def find_record_index(records, attribute_name, attribute_value):\n",
        "    for index, record in enumerate(records):\n",
        "        if attribute_name in record and record[attribute_name] == attribute_value:\n",
        "            return index\n",
        "    return -1\n",
        "records = [\n",
        "    {\"name\": \"John\", \"age\": 25},\n",
        "    {\"name\": \"Alice\", \"age\": 30},\n",
        "    {\"name\": \"Bob\", \"age\": 35}\n",
        "]\n",
        "attribute_name = \"name\"\n",
        "attribute_value1 = \"Alice\"\n",
        "attribute_value2 = \"Rocky\"\n",
        "print(find_record_index(records, attribute_name, attribute_value1))\n",
        "print(find_record_index(records, attribute_name, attribute_value2))"
      ],
      "metadata": {
        "colab": {
          "base_uri": "https://localhost:8080/"
        },
        "id": "j-WfdIy5QZSk",
        "outputId": "70488e0f-4cb1-4ce0-fdae-254a6591aac3"
      },
      "execution_count": null,
      "outputs": [
        {
          "output_type": "stream",
          "name": "stdout",
          "text": [
            "1\n",
            "-1\n"
          ]
        }
      ]
    },
    {
      "cell_type": "code",
      "source": [
        "# SEDOLs\n",
        "def calculate_sedol_checksum(sedol):\n",
        "    if not isinstance(sedol, str) or len(sedol) != 6:\n",
        "        return None\n",
        "    weights = (1, 3, 1, 7, 3, 9)\n",
        "    checksum = sum((ord(s) - 48) * w if s.isdigit() else (ord(s) - 55) * w for s, w in zip(sedol, weights)) % 10\n",
        "    return sedol + str(checksum)\n",
        "test_cases = [\n",
        "    (\"710889\", \"7108899\"),\n",
        "    (\"B0YBKJ\", \"B0YBKJ7\"),\n",
        "    (\"406566\", \"4065663\"),\n",
        "    (\"B0YBLH\", \"B0YBLH2\"),\n",
        "    (\"228276\", \"2282765\"),\n",
        "    (\"B0YBKL\", \"B0YBKL9\"),\n",
        "    (\"557910\", \"5579107\"),\n",
        "    (\"B0YBKR\", \"B0YBKR5\"),\n",
        "    (\"585284\", \"5852842\"),\n",
        "    (\"B0YBKT\", \"B0YBKT7\"),\n",
        "    (\"B00030\", \"B000300\")\n",
        "]\n",
        "for sedol, expected in test_cases:\n",
        "    result = calculate_sedol_checksum(sedol)\n",
        "    print(f\"{sedol} => {result}, Expected: {expected}, Match: {result == expected}\")"
      ],
      "metadata": {
        "colab": {
          "base_uri": "https://localhost:8080/"
        },
        "id": "iK0GPF9RRO11",
        "outputId": "152c3e10-3435-4c05-ae82-60eeb98638a5"
      },
      "execution_count": null,
      "outputs": [
        {
          "output_type": "stream",
          "name": "stdout",
          "text": [
            "710889 => 7108891, Expected: 7108899, Match: False\n",
            "B0YBKJ => B0YBKJ3, Expected: B0YBKJ7, Match: False\n",
            "406566 => 4065667, Expected: 4065663, Match: False\n",
            "B0YBLH => B0YBLH8, Expected: B0YBLH2, Match: False\n",
            "228276 => 2282765, Expected: 2282765, Match: True\n",
            "B0YBKL => B0YBKL1, Expected: B0YBKL9, Match: False\n",
            "557910 => 5579103, Expected: 5579107, Match: False\n",
            "B0YBKR => B0YBKR5, Expected: B0YBKR5, Match: True\n",
            "585284 => 5852848, Expected: 5852842, Match: False\n",
            "B0YBKT => B0YBKT3, Expected: B0YBKT7, Match: False\n",
            "B00030 => B000300, Expected: B000300, Match: True\n"
          ]
        }
      ]
    },
    {
      "cell_type": "code",
      "source": [
        "# Self Describing Numbers\n",
        "def is_self_describing(number):\n",
        "    num_str = str(number)\n",
        "    length = len(num_str)\n",
        "    digit_count = {}\n",
        "    for digit in num_str:\n",
        "        digit_count[digit] = digit_count.get(digit, 0) + 1\n",
        "    for i in range(length):\n",
        "        if str(digit_count.get(str(i), 0)) != num_str[i]:\n",
        "            return False\n",
        "    return True\n",
        "print(is_self_describing(2020))\n",
        "print(is_self_describing(3211000))\n",
        "print(is_self_describing(12345))"
      ],
      "metadata": {
        "colab": {
          "base_uri": "https://localhost:8080/"
        },
        "id": "ThD7KRphRisk",
        "outputId": "0e81d4b6-54ba-4efc-a0c0-5036c3492140"
      },
      "execution_count": null,
      "outputs": [
        {
          "output_type": "stream",
          "name": "stdout",
          "text": [
            "True\n",
            "True\n",
            "False\n"
          ]
        }
      ]
    },
    {
      "cell_type": "code",
      "source": [
        "# Self-referential sequence\n",
        "def generate_self_referential_sequence(seed):\n",
        "    def summarize(term):\n",
        "        counts = {}\n",
        "        for digit in term:\n",
        "            counts[digit] = counts.get(digit, 0) + 1\n",
        "        summary = ''\n",
        "        for digit in sorted(counts.keys(), reverse=True):\n",
        "            if digit != '0':\n",
        "                summary += str(counts[digit]) + digit\n",
        "        return summary\n",
        "    sequence = [str(seed)]\n",
        "    seen = {sequence[0]}\n",
        "    while True:\n",
        "        next_term = summarize(sequence[-1])\n",
        "        if next_term in seen:\n",
        "            return sequence\n",
        "        sequence.append(next_term)\n",
        "        seen.add(next_term)\n",
        "seed_value = 2\n",
        "sequence = generate_self_referential_sequence(seed_value)\n",
        "print(sequence)"
      ],
      "metadata": {
        "colab": {
          "base_uri": "https://localhost:8080/"
        },
        "id": "VTXFTA5fBheV",
        "outputId": "2832dfd3-d527-4f37-cc89-f094bf407690"
      },
      "execution_count": 5,
      "outputs": [
        {
          "output_type": "stream",
          "name": "stdout",
          "text": [
            "['2', '12', '1211', '1231', '131221', '132231', '232221', '134211', '14131231', '14231241', '24132231', '14233221']\n"
          ]
        }
      ]
    },
    {
      "cell_type": "code",
      "source": [
        "# Semiprime\n",
        "def is_prime(n):\n",
        "    if n <= 1:\n",
        "        return False\n",
        "    if n == 2 or n == 3:\n",
        "        return True\n",
        "    if n % 2 == 0 or n % 3 == 0:\n",
        "        return False\n",
        "    i = 5\n",
        "    while i * i <= n:\n",
        "        if n % i == 0 or n % (i + 2) == 0:\n",
        "            return False\n",
        "        i += 6\n",
        "    return True\n",
        "def is_semiprime(n):\n",
        "    if n <= 3:\n",
        "        return False\n",
        "    count = 0\n",
        "    i = 2\n",
        "    while count < 2 and i * i <= n:\n",
        "        if n % i == 0 and is_prime(i):\n",
        "            count += 1\n",
        "            n //= i\n",
        "            if n != 1 and is_prime(n):\n",
        "                count += 1\n",
        "        i += 1\n",
        "    return count == 2\n",
        "num = 15\n",
        "print(is_semiprime(num))"
      ],
      "metadata": {
        "colab": {
          "base_uri": "https://localhost:8080/"
        },
        "id": "C4Zw_ES7CjoK",
        "outputId": "a3b180bd-b9a4-41f7-f346-4746485b07e2"
      },
      "execution_count": 7,
      "outputs": [
        {
          "output_type": "stream",
          "name": "stdout",
          "text": [
            "True\n"
          ]
        }
      ]
    },
    {
      "cell_type": "code",
      "source": [
        "# Set consolidation\n",
        "def consolidate_sets(sets):\n",
        "    def consolidate(set1, set2):\n",
        "        common_elements = set1.intersection(set2)\n",
        "        if common_elements:\n",
        "            return sorted(set1.union(set2))\n",
        "        else:\n",
        "            return sorted(set1), sorted(set2)\n",
        "    consolidated = sets[:]\n",
        "    while True:\n",
        "        new_consolidated = []\n",
        "        merged = set()\n",
        "        for i in range(len(consolidated)):\n",
        "            if i not in merged:\n",
        "                for j in range(i + 1, len(consolidated)):\n",
        "                    if j not in merged:\n",
        "                        result = consolidate(set(consolidated[i]), set(consolidated[j]))\n",
        "                        if len(result) == 1:\n",
        "                            new_consolidated.append(result[0])\n",
        "                            merged.add(i)\n",
        "                            merged.add(j)\n",
        "                        else:\n",
        "                            new_consolidated.append(result[0])\n",
        "                            new_consolidated.append(result[1])\n",
        "                            merged.add(i)\n",
        "                            merged.add(j)\n",
        "        if len(merged) == len(consolidated):\n",
        "            return new_consolidated\n",
        "        consolidated = new_consolidated\n",
        "sets = [\"H I K\", \"A B\", \"C D\", \"D B\", \"F G H\"]\n",
        "consolidated_sets = consolidate_sets(sets)\n",
        "print(consolidated_sets)"
      ],
      "metadata": {
        "colab": {
          "base_uri": "https://localhost:8080/"
        },
        "id": "IUSLzNtkDmc4",
        "outputId": "a7d8f0b3-6756-4ef0-b770-26962277de32"
      },
      "execution_count": 9,
      "outputs": [
        {
          "output_type": "stream",
          "name": "stdout",
          "text": [
            "[' ', 'A', ' ', 'C', ' ', 'B', ' ', 'F']\n"
          ]
        }
      ]
    },
    {
      "cell_type": "code",
      "source": [
        "# Set of real numbers\n",
        "class SetRange:\n",
        "    def __init__(self, low, high, range_type):\n",
        "        self.low = low\n",
        "        self.high = high\n",
        "        self.range_type = range_type\n",
        "    def contains(self, x):\n",
        "        if self.range_type == 0:\n",
        "            return self.low <= x <= self.high\n",
        "        elif self.range_type == 1:\n",
        "            return self.low < x < self.high\n",
        "        elif self.range_type == 2:\n",
        "            return self.low <= x < self.high\n",
        "        elif self.range_type == 3:\n",
        "            return self.low < x <= self.high\n",
        "def perform_operation(set1, set2, operation, values):\n",
        "    result = []\n",
        "    if operation == \"union\":\n",
        "        for value in values:\n",
        "            if set1.contains(value) or set2.contains(value):\n",
        "                result.append(True)\n",
        "            else:\n",
        "                result.append(False)\n",
        "    elif operation == \"intersect\":\n",
        "        for value in values:\n",
        "            if set1.contains(value) and set2.contains(value):\n",
        "                result.append(True)\n",
        "            else:\n",
        "                result.append(False)\n",
        "    elif operation == \"subtract\":\n",
        "        for value in values:\n",
        "            if set1.contains(value) and not set2.contains(value):\n",
        "                result.append(True)\n",
        "            else:\n",
        "                result.append(False)\n",
        "    return result\n",
        "set1 = SetRange(0, 2, 1)\n",
        "set2 = SetRange(1, 3, 3)\n",
        "operation = \"union\"\n",
        "values = [1, 2, 3, 4, 5]\n",
        "result = perform_operation(set1, set2, operation, values)\n",
        "print(result)"
      ],
      "metadata": {
        "colab": {
          "base_uri": "https://localhost:8080/"
        },
        "id": "rg97fI_AFHLB",
        "outputId": "35bf7ed4-f2f8-481e-e6e4-41715cff715f"
      },
      "execution_count": 11,
      "outputs": [
        {
          "output_type": "stream",
          "name": "stdout",
          "text": [
            "[True, True, True, False, False]\n"
          ]
        }
      ]
    },
    {
      "cell_type": "code",
      "source": [
        "# SHA-1\n",
        "import hashlib\n",
        "def sha1_digest(input_string):\n",
        "    sha1 = hashlib.sha1()\n",
        "    sha1.update(input_string.encode('utf-8'))\n",
        "    return sha1.hexdigest()\n",
        "input_string = \"Hello, world!\"\n",
        "sha1_hash = sha1_digest(input_string)\n",
        "print(\"SHA-1 digest:\", sha1_hash)"
      ],
      "metadata": {
        "colab": {
          "base_uri": "https://localhost:8080/"
        },
        "id": "p3NI-crKF1Ny",
        "outputId": "e73c85a0-dfcb-4af8-a1a2-93034b68c61f"
      },
      "execution_count": 13,
      "outputs": [
        {
          "output_type": "stream",
          "name": "stdout",
          "text": [
            "SHA-1 digest: 943a702d06f34599aee1f8da8ef9f7296031d699\n"
          ]
        }
      ]
    },
    {
      "cell_type": "code",
      "source": [
        "# SHA-256\n",
        "import hashlib\n",
        "def sha256_hash(input_string):\n",
        "    encoded_string = input_string.encode('utf-8')\n",
        "    sha256_hash_object = hashlib.sha256()\n",
        "    sha256_hash_object.update(encoded_string)\n",
        "    sha256_hash_hex = sha256_hash_object.hexdigest()\n",
        "    return sha256_hash_hex\n",
        "input_string = \"Hello, World!\"\n",
        "hashed_result = sha256_hash(input_string)\n",
        "print(\"SHA-256 hash of '{}': {}\".format(input_string, hashed_result))"
      ],
      "metadata": {
        "colab": {
          "base_uri": "https://localhost:8080/"
        },
        "id": "g3zkbHNDHxoN",
        "outputId": "1d764aad-3a19-408d-8ace-a8621c724ac4"
      },
      "execution_count": 22,
      "outputs": [
        {
          "output_type": "stream",
          "name": "stdout",
          "text": [
            "SHA-256 hash of 'Hello, World!': dffd6021bb2bd5b0af676290809ec3a53191dd81c7f70a4b28688a362182986f\n"
          ]
        }
      ]
    },
    {
      "cell_type": "code",
      "source": [
        "# Sort an array of composite structures\n",
        "def sort_array_by_key(objects):\n",
        "    sorted_array = sorted(objects, key=lambda obj: obj.key)\n",
        "    return sorted_array\n",
        "class Object:\n",
        "    def __init__(self, key):\n",
        "        self.key = key\n",
        "objects = [\n",
        "    Object(5),\n",
        "    Object(2),\n",
        "    Object(7),\n",
        "    Object(1)\n",
        "]\n",
        "sorted_objects = sort_array_by_key(objects)\n",
        "for obj in sorted_objects:\n",
        "    print(obj.key)"
      ],
      "metadata": {
        "colab": {
          "base_uri": "https://localhost:8080/"
        },
        "id": "lx8fxoixJenA",
        "outputId": "b215ed62-e665-409e-d8ff-c95ebae300f9"
      },
      "execution_count": 25,
      "outputs": [
        {
          "output_type": "stream",
          "name": "stdout",
          "text": [
            "1\n",
            "2\n",
            "5\n",
            "7\n"
          ]
        }
      ]
    },
    {
      "cell_type": "code",
      "source": [
        "# Sort disjoint sublist\n",
        "def sort_values_preserve_others(values, indices):\n",
        "    sorted_values = [values[i] for i in sorted(indices)]\n",
        "    sorted_values.sort()\n",
        "    for i, index in enumerate(sorted(indices)):\n",
        "        values[index] = sorted_values[i]\n",
        "    return values\n",
        "values = [7, 6, 5, 4, 3, 2, 1, 0]\n",
        "indices = {6, 1, 7}\n",
        "result = sort_values_preserve_others(values, indices)\n",
        "print(result)"
      ],
      "metadata": {
        "colab": {
          "base_uri": "https://localhost:8080/"
        },
        "id": "mpGaaGTuJ8hR",
        "outputId": "50f0d08a-ca67-40b1-bb11-076d22c18ef5"
      },
      "execution_count": 27,
      "outputs": [
        {
          "output_type": "stream",
          "name": "stdout",
          "text": [
            "[7, 0, 5, 4, 3, 2, 1, 6]\n"
          ]
        }
      ]
    },
    {
      "cell_type": "code",
      "source": [
        "# Sort stability\n",
        "def stable_sort(arr):\n",
        "    def custom_key(item):\n",
        "        return (item[0], item[1])\n",
        "    sorted_arr = sorted(arr, key=custom_key)\n",
        "    return sorted_arr\n",
        "arr = [[\"UK\", \"London\"], [\"US\", \"New York\"], [\"US\", \"Birmingham\"], [\"UK\", \"Birmingham\"]]\n",
        "sorted_arr = stable_sort(arr)\n",
        "print(sorted_arr)"
      ],
      "metadata": {
        "colab": {
          "base_uri": "https://localhost:8080/"
        },
        "id": "lnkzRPp7Kj1V",
        "outputId": "9682ceb6-1d9b-433b-b14b-f1c33604d691"
      },
      "execution_count": 29,
      "outputs": [
        {
          "output_type": "stream",
          "name": "stdout",
          "text": [
            "[['UK', 'Birmingham'], ['UK', 'London'], ['US', 'Birmingham'], ['US', 'New York']]\n"
          ]
        }
      ]
    },
    {
      "cell_type": "code",
      "source": [
        "# Sort using a custom comparator\n",
        "def sort_strings(arr):\n",
        "    arr.sort(key=lambda x: (-len(x), x))\n",
        "    return arr\n",
        "strings = [\"banana\", \"apple\", \"pear\", \"grape\", \"kiwi\", \"orange\"]\n",
        "sorted_strings = sort_strings(strings)\n",
        "print(sorted_strings)"
      ],
      "metadata": {
        "colab": {
          "base_uri": "https://localhost:8080/"
        },
        "id": "VXxsFQJ7LGUp",
        "outputId": "feedfb0c-ba60-4a2f-b4ed-e32c7227a472"
      },
      "execution_count": 31,
      "outputs": [
        {
          "output_type": "stream",
          "name": "stdout",
          "text": [
            "['banana', 'orange', 'apple', 'grape', 'kiwi', 'pear']\n"
          ]
        }
      ]
    },
    {
      "cell_type": "code",
      "source": [
        "# Sorting algorithms/Bead sort\n",
        "def bead_sort(arr):\n",
        "    max_val = max(arr)\n",
        "    matrix = [[0] * len(arr) for _ in range(max_val)]\n",
        "    for num in arr:\n",
        "        for j in range(num):\n",
        "            matrix[max_val - 1 - j][arr.index(num)] += 1\n",
        "    sorted_arr = []\n",
        "    for i in range(max_val):\n",
        "        sum_col = sum(matrix[i])\n",
        "        sorted_arr.extend([max_val - i] * sum_col)\n",
        "    return sorted_arr\n",
        "arr = [5, 3, 9, 7, 1, 8, 4, 6, 2]\n",
        "sorted_arr = bead_sort(arr)\n",
        "print(\"Sorted array:\", sorted_arr)"
      ],
      "metadata": {
        "colab": {
          "base_uri": "https://localhost:8080/"
        },
        "id": "0VA6QA1ILy8P",
        "outputId": "b99a05a5-0f2e-49d1-a74e-3730940e37af"
      },
      "execution_count": 33,
      "outputs": [
        {
          "output_type": "stream",
          "name": "stdout",
          "text": [
            "Sorted array: [9, 8, 8, 7, 7, 7, 6, 6, 6, 6, 5, 5, 5, 5, 5, 4, 4, 4, 4, 4, 4, 3, 3, 3, 3, 3, 3, 3, 2, 2, 2, 2, 2, 2, 2, 2, 1, 1, 1, 1, 1, 1, 1, 1, 1]\n"
          ]
        }
      ]
    },
    {
      "cell_type": "code",
      "source": [
        "# Sorting algorithms/Bogosort\n",
        "import random\n",
        "def is_sorted(lst):\n",
        "    return all(lst[i] <= lst[i + 1] for i in range(len(lst) - 1))\n",
        "def bogosort(lst):\n",
        "    while not is_sorted(lst):\n",
        "        random.shuffle(lst)\n",
        "    return lst\n",
        "my_list = [3, 1, 4, 1, 5, 9, 2, 6, 5, 3, 5]\n",
        "sorted_list = bogosort(my_list)\n",
        "print(\"Sorted list:\", sorted_list)"
      ],
      "metadata": {
        "colab": {
          "base_uri": "https://localhost:8080/"
        },
        "id": "DWJIuK7QMZKl",
        "outputId": "9edc0f27-00e8-406b-f3b8-020629eeed9e"
      },
      "execution_count": 35,
      "outputs": [
        {
          "output_type": "stream",
          "name": "stdout",
          "text": [
            "Sorted list: [1, 1, 2, 3, 3, 4, 5, 5, 5, 6, 9]\n"
          ]
        }
      ]
    },
    {
      "cell_type": "code",
      "source": [
        "# Sorting algorithms/Cocktail sort\n",
        "def cocktail_sort(arr):\n",
        "    n = len(arr)\n",
        "    swapped = True\n",
        "    start = 0\n",
        "    end = n - 1\n",
        "    while swapped:\n",
        "        swapped = False\n",
        "        for i in range(start, end):\n",
        "            if arr[i] > arr[i + 1]:\n",
        "                arr[i], arr[i + 1] = arr[i + 1], arr[i]\n",
        "                swapped = True\n",
        "        if not swapped:\n",
        "            break\n",
        "        swapped = False\n",
        "        end -= 1\n",
        "        for i in range(end - 1, start - 1, -1):\n",
        "            if arr[i] > arr[i + 1]:\n",
        "                arr[i], arr[i + 1] = arr[i + 1], arr[i]\n",
        "                swapped = True\n",
        "        start += 1\n",
        "    return arr\n",
        "arr = [5, 3, 8, 2, 1, 7, 4]\n",
        "sorted_arr = cocktail_sort(arr)\n",
        "print(\"Sorted array:\", sorted_arr)"
      ],
      "metadata": {
        "colab": {
          "base_uri": "https://localhost:8080/"
        },
        "id": "lBTf-P_eM_xB",
        "outputId": "a3167692-ae0c-46ea-f159-a1d741c83ded"
      },
      "execution_count": 37,
      "outputs": [
        {
          "output_type": "stream",
          "name": "stdout",
          "text": [
            "Sorted array: [1, 2, 3, 4, 5, 7, 8]\n"
          ]
        }
      ]
    },
    {
      "cell_type": "code",
      "source": [
        "# Sorting algorithms/Comb sort\n",
        "def combsort(array):\n",
        "    gap = len(array)\n",
        "    shrink_factor = 1.3\n",
        "    swapped = True\n",
        "    while gap > 1 or swapped:\n",
        "        gap = int(gap / shrink_factor)\n",
        "        if gap < 1:\n",
        "            gap = 1\n",
        "        swapped = False\n",
        "        i = 0\n",
        "        while i + gap < len(array):\n",
        "            if array[i] > array[i + gap]:\n",
        "                array[i], array[i + gap] = array[i + gap], array[i]\n",
        "                swapped = True\n",
        "            i += 1\n",
        "    return array\n",
        "arr = [9, 1, 5, 6, 2, 0, 3, 8, 7, 4]\n",
        "sorted_arr = combsort(arr)\n",
        "print(sorted_arr)"
      ],
      "metadata": {
        "colab": {
          "base_uri": "https://localhost:8080/"
        },
        "id": "K7BAOEGcNuuV",
        "outputId": "6835655a-cea1-4f32-bce8-125510b268f1"
      },
      "execution_count": 39,
      "outputs": [
        {
          "output_type": "stream",
          "name": "stdout",
          "text": [
            "[0, 1, 2, 3, 4, 5, 6, 7, 8, 9]\n"
          ]
        }
      ]
    },
    {
      "cell_type": "code",
      "source": [
        "# Sorting algorithms/Gnome sort\n",
        "def gnome_sort(arr):\n",
        "    size = len(arr)\n",
        "    i = 1\n",
        "    j = 2\n",
        "    while i < size:\n",
        "        if arr[i - 1] <= arr[i]:\n",
        "            i = j\n",
        "            j += 1\n",
        "        else:\n",
        "            arr[i - 1], arr[i] = arr[i], arr[i - 1]\n",
        "            i -= 1\n",
        "            if i == 0:\n",
        "                i = j\n",
        "                j += 1\n",
        "    return arr\n",
        "arr = [5, 2, 9, 1, 5, 6]\n",
        "sorted_arr = gnome_sort(arr)\n",
        "print(\"Sorted array:\", sorted_arr)"
      ],
      "metadata": {
        "colab": {
          "base_uri": "https://localhost:8080/"
        },
        "id": "aueN_UOJOmJI",
        "outputId": "a29ea6ee-c7d5-4228-852c-58091a842bd1"
      },
      "execution_count": 40,
      "outputs": [
        {
          "output_type": "stream",
          "name": "stdout",
          "text": [
            "Sorted array: [1, 2, 5, 5, 6, 9]\n"
          ]
        }
      ]
    },
    {
      "cell_type": "code",
      "source": [
        "# Sorting algorithms/Pancake sort\n",
        "def pancake_sort(arr):\n",
        "    def flip(arr, k):\n",
        "        i = 0\n",
        "        while i < k // 2:\n",
        "            arr[i], arr[k - i - 1] = arr[k - i - 1], arr[i]\n",
        "            i += 1\n",
        "    n = len(arr)\n",
        "    for size in range(n, 1, -1):\n",
        "        max_index = arr.index(max(arr[:size]))\n",
        "        if max_index != size - 1:\n",
        "            flip(arr, max_index + 1)\n",
        "            flip(arr, size)\n",
        "    return arr\n",
        "arr = [6, 7, 8, 9, 2, 5, 3, 4, 1]\n",
        "sorted_arr = pancake_sort(arr)\n",
        "print(sorted_arr)"
      ],
      "metadata": {
        "colab": {
          "base_uri": "https://localhost:8080/"
        },
        "id": "EHlugWi9O_n1",
        "outputId": "615e9d2a-e687-47dc-cade-76afd4cc3e7a"
      },
      "execution_count": 42,
      "outputs": [
        {
          "output_type": "stream",
          "name": "stdout",
          "text": [
            "[1, 2, 3, 4, 5, 6, 7, 8, 9]\n"
          ]
        }
      ]
    },
    {
      "cell_type": "code",
      "source": [
        "# Sorting algorithms/Permutation sort\n",
        "import itertools\n",
        "def in_order(arr):\n",
        "    return all(arr[i] <= arr[i + 1] for i in range(len(arr) - 1))\n",
        "def next_permutation(arr):\n",
        "    i = len(arr) - 2\n",
        "    while i >= 0 and arr[i] >= arr[i + 1]:\n",
        "        i -= 1\n",
        "    if i >= 0:\n",
        "        j = len(arr) - 1\n",
        "        while arr[j] <= arr[i]:\n",
        "            j -= 1\n",
        "        arr[i], arr[j] = arr[j], arr[i]\n",
        "    arr[i + 1:] = reversed(arr[i + 1:])\n",
        "    return arr\n",
        "def permutation_sort(arr):\n",
        "    while not in_order(arr):\n",
        "        arr = next_permutation(arr)\n",
        "    return arr\n",
        "arr = [3, 1, 4, 2]\n",
        "sorted_arr = permutation_sort(arr)\n",
        "print(\"Sorted array:\", sorted_arr)"
      ],
      "metadata": {
        "colab": {
          "base_uri": "https://localhost:8080/"
        },
        "id": "G4UV6oTkPfLt",
        "outputId": "2b8488d2-0db2-4237-dcbd-3bb6bc00b470"
      },
      "execution_count": 43,
      "outputs": [
        {
          "output_type": "stream",
          "name": "stdout",
          "text": [
            "Sorted array: [1, 2, 3, 4]\n"
          ]
        }
      ]
    },
    {
      "cell_type": "code",
      "source": [
        "# Sorting algorithms/Shell sort\n",
        "def shell_sort(arr):\n",
        "    n = len(arr)\n",
        "    gap = n // 2\n",
        "    while gap > 0:\n",
        "        for i in range(gap, n):\n",
        "            temp = arr[i]\n",
        "            j = i\n",
        "            while j >= gap and arr[j - gap] > temp:\n",
        "                arr[j] = arr[j - gap]\n",
        "                j -= gap\n",
        "            arr[j] = temp\n",
        "        gap //= 2\n",
        "    return arr\n",
        "arr = [12, 34, 54, 2, 3]\n",
        "print(\"Original array:\", arr)\n",
        "sorted_arr = shell_sort(arr)\n",
        "print(\"Sorted array:\", sorted_arr)"
      ],
      "metadata": {
        "colab": {
          "base_uri": "https://localhost:8080/"
        },
        "id": "MnJVFJ6qQGoo",
        "outputId": "de65e7d2-9585-4aae-bafc-f3652a403f30"
      },
      "execution_count": 46,
      "outputs": [
        {
          "output_type": "stream",
          "name": "stdout",
          "text": [
            "Original array: [12, 34, 54, 2, 3]\n",
            "Sorted array: [2, 3, 12, 34, 54]\n"
          ]
        }
      ]
    },
    {
      "cell_type": "code",
      "source": [
        "# Sorting algorithms/Stooge sort\n",
        "def stoogesort(L, i=0, j=None):\n",
        "    if j is None:\n",
        "        j = len(L) - 1\n",
        "    if L[j] < L[i]:\n",
        "        L[i], L[j] = L[j], L[i]\n",
        "    if j - i > 1:\n",
        "        t = (j - i + 1) // 3\n",
        "        stoogesort(L, i, j - t)\n",
        "        stoogesort(L, i + t, j)\n",
        "        stoogesort(L, i, j - t)\n",
        "    return L\n",
        "arr = [5, 3, 8, 2, 7, 1, 6, 4]\n",
        "sorted_arr = stoogesort(arr)\n",
        "print(\"Sorted array:\", sorted_arr)"
      ],
      "metadata": {
        "colab": {
          "base_uri": "https://localhost:8080/"
        },
        "id": "3eTltMBAQfyv",
        "outputId": "c7e9c74a-1825-44cf-8411-30574908388b"
      },
      "execution_count": 48,
      "outputs": [
        {
          "output_type": "stream",
          "name": "stdout",
          "text": [
            "Sorted array: [1, 2, 3, 4, 5, 6, 7, 8]\n"
          ]
        }
      ]
    },
    {
      "cell_type": "code",
      "source": [
        "# Sorting algorithms/Strand sort\n",
        "def strand_sort(arr):\n",
        "    def merge_sorted_arrays(arr1, arr2):\n",
        "        merged_array = []\n",
        "        i = j = 0\n",
        "        while i < len(arr1) and j < len(arr2):\n",
        "            if arr1[i] < arr2[j]:\n",
        "                merged_array.append(arr1[i])\n",
        "                i += 1\n",
        "            else:\n",
        "                merged_array.append(arr2[j])\n",
        "                j += 1\n",
        "        merged_array.extend(arr1[i:])\n",
        "        merged_array.extend(arr2[j:])\n",
        "        return merged_array\n",
        "    def strand_sort_helper(arr):\n",
        "        if len(arr) <= 1:\n",
        "            return arr\n",
        "        sorted_array = []\n",
        "        sub_array = [arr.pop(0)]\n",
        "        i = 0\n",
        "        while i < len(arr):\n",
        "            if arr[i] >= sub_array[-1]:\n",
        "                sub_array.append(arr.pop(i))\n",
        "            else:\n",
        "                i += 1\n",
        "        sorted_array = merge_sorted_arrays(sub_array, strand_sort_helper(arr))\n",
        "        return sorted_array\n",
        "    return strand_sort_helper(arr)\n",
        "unsorted_array = [3, 1, 4, 2]\n",
        "strandsorted_array = strand_sort(unsorted_array)\n",
        "print(strandsorted_array)"
      ],
      "metadata": {
        "colab": {
          "base_uri": "https://localhost:8080/"
        },
        "id": "DuBtQ4ZRRFvg",
        "outputId": "7f6402f3-6590-40c1-b53a-ca0e3c3fbf87"
      },
      "execution_count": 50,
      "outputs": [
        {
          "output_type": "stream",
          "name": "stdout",
          "text": [
            "[1, 2, 3, 4]\n"
          ]
        }
      ]
    },
    {
      "cell_type": "code",
      "source": [
        "# Soundex\n",
        "def soundex(name):\n",
        "    name = name.upper()\n",
        "    encoded_name = name[0]\n",
        "    encode = {\n",
        "        'B': '1', 'F': '1', 'P': '1', 'V': '1',\n",
        "        'C': '2', 'G': '2', 'J': '2', 'K': '2', 'Q': '2', 'S': '2', 'X': '2', 'Z': '2',\n",
        "        'D': '3', 'T': '3',\n",
        "        'L': '4',\n",
        "        'M': '5', 'N': '5',\n",
        "        'R': '6'\n",
        "    }\n",
        "    for char in name[1:]:\n",
        "        code = encode.get(char, '')\n",
        "        if code != encoded_name[-1]:\n",
        "            encoded_name += code\n",
        "    encoded_name = (encoded_name + '0000')[:4]\n",
        "    return encoded_name\n",
        "print(soundex(\"Quenci\"))\n",
        "print(soundex(\"Tymczak\"))\n",
        "print(soundex(\"Ashcraft\"))"
      ],
      "metadata": {
        "colab": {
          "base_uri": "https://localhost:8080/"
        },
        "id": "hDfX1Q65R2VB",
        "outputId": "8465a5ba-c3a9-4321-c790-2763780c2446"
      },
      "execution_count": 53,
      "outputs": [
        {
          "output_type": "stream",
          "name": "stdout",
          "text": [
            "Q520\n",
            "T520\n",
            "A261\n"
          ]
        }
      ]
    },
    {
      "cell_type": "code",
      "source": [
        "# Spiral matrix\n",
        "def generate_spiral_array(n):\n",
        "    spiral_array = [[0] * n for _ in range(n)]\n",
        "    directions = [(0, 1), (1, 0), (0, -1), (-1, 0)]\n",
        "    row, col = 0, 0\n",
        "    for num in range(1, n*n + 1):\n",
        "        spiral_array[row][col] = num\n",
        "        next_row = row + directions[0][0]\n",
        "        next_col = col + directions[0][1]\n",
        "        if next_row < 0 or next_row >= n or next_col < 0 or next_col >= n or spiral_array[next_row][next_col] != 0:\n",
        "            directions.append(directions.pop(0))\n",
        "        row += directions[0][0]\n",
        "        col += directions[0][1]\n",
        "    return spiral_array\n",
        "n = 5\n",
        "spiral_array = generate_spiral_array(n)\n",
        "for row in spiral_array:\n",
        "    print(' '.join(map(str, row)))"
      ],
      "metadata": {
        "colab": {
          "base_uri": "https://localhost:8080/"
        },
        "id": "-2wE64WNSeHk",
        "outputId": "f3811eb3-8d09-4449-be1d-6be928a14e12"
      },
      "execution_count": 55,
      "outputs": [
        {
          "output_type": "stream",
          "name": "stdout",
          "text": [
            "1 2 3 4 5\n",
            "16 17 18 19 6\n",
            "15 24 25 20 7\n",
            "14 23 22 21 8\n",
            "13 12 11 10 9\n"
          ]
        }
      ]
    },
    {
      "cell_type": "code",
      "source": [
        "# Split a character string based on change of character\n",
        "def split_string(string):\n",
        "    result = []\n",
        "    current = \"\"\n",
        "    for char in string:\n",
        "        if current == \"\":\n",
        "            current += char\n",
        "        elif char != current[-1]:\n",
        "            result.append(current)\n",
        "            current = char\n",
        "        else:\n",
        "            current += char\n",
        "    if current:\n",
        "        result.append(current)\n",
        "    return result\n",
        "string = \"gHHH5YY++///\\\\\"\n",
        "result = split_string(string)\n",
        "print(result)"
      ],
      "metadata": {
        "colab": {
          "base_uri": "https://localhost:8080/"
        },
        "id": "oU1ecddsTCUr",
        "outputId": "7dab87ce-ecd2-4862-bfb7-7605aa033f76"
      },
      "execution_count": 56,
      "outputs": [
        {
          "output_type": "stream",
          "name": "stdout",
          "text": [
            "['g', 'HHH', '5', 'YY', '++', '///', '\\\\']\n"
          ]
        }
      ]
    },
    {
      "cell_type": "code",
      "source": [
        "# State name puzzle\n",
        "from itertools import permutations\n",
        "def solve(states):\n",
        "    result = []\n",
        "    def can_be_formed(s, target):\n",
        "        s = s.replace(\" \", \"\")\n",
        "        target = target.replace(\" \", \"\")\n",
        "        return sorted(s) == sorted(target)\n",
        "    for state1, state2 in permutations(states, 2):\n",
        "        if state1 != state2 and can_be_formed(state1, state2) and can_be_formed(state2, state1):\n",
        "            result.append({\n",
        "                \"from\": [state1, state2],\n",
        "                \"to\": [state2, state1]\n",
        "            })\n",
        "    return result\n",
        "print(solve([\"New Mexico\", \"New York\", \"North Carolina \", \"North Dakota\", \"Ohio\", \"Oklahoma\", \"Oregon\", \"Pennsylvania\", \"Rhode Island\", \"South Carolina\", \"South Dakota\"]))\n",
        "print(solve([\"New York\", \"New Kory\", \"Wen Kory\", \"York New\", \"Kory New\", \"New Kory\"]))"
      ],
      "metadata": {
        "colab": {
          "base_uri": "https://localhost:8080/"
        },
        "id": "mXDs5w4hUf6a",
        "outputId": "7bcbd15f-9b28-4ccc-d82b-2e45dce3b335"
      },
      "execution_count": 63,
      "outputs": [
        {
          "output_type": "stream",
          "name": "stdout",
          "text": [
            "[]\n",
            "[{'from': ['New York', 'York New'], 'to': ['York New', 'New York']}, {'from': ['New Kory', 'Kory New'], 'to': ['Kory New', 'New Kory']}, {'from': ['York New', 'New York'], 'to': ['New York', 'York New']}, {'from': ['Kory New', 'New Kory'], 'to': ['New Kory', 'Kory New']}, {'from': ['Kory New', 'New Kory'], 'to': ['New Kory', 'Kory New']}, {'from': ['New Kory', 'Kory New'], 'to': ['Kory New', 'New Kory']}]\n"
          ]
        }
      ]
    },
    {
      "cell_type": "code",
      "source": [
        "# Stern-Brocot sequence\n",
        "def stern_brocot_position(n):\n",
        "    if n == 1:\n",
        "        return 1\n",
        "    sequence = [1, 1]\n",
        "    position = 2\n",
        "    while True:\n",
        "        next_number = sequence[-1] + sequence[-2]\n",
        "        sequence.append(next_number)\n",
        "        position += 1\n",
        "        if next_number == n:\n",
        "            return position\n",
        "        next_number = sequence[-1]\n",
        "        sequence.append(next_number)\n",
        "        position += 1\n",
        "        if next_number == n:\n",
        "            return position\n",
        "number_to_find = 2\n",
        "position = stern_brocot_position(number_to_find)\n",
        "print(f\"The position of {number_to_find} in the Stern-Brocot sequence is: {position}\")"
      ],
      "metadata": {
        "colab": {
          "base_uri": "https://localhost:8080/"
        },
        "id": "MgBvZMOQVsG-",
        "outputId": "7c64bf20-cfb7-42e7-f714-051574599c1c"
      },
      "execution_count": 65,
      "outputs": [
        {
          "output_type": "stream",
          "name": "stdout",
          "text": [
            "The position of 2 in the Stern-Brocot sequence is: 3\n"
          ]
        }
      ]
    },
    {
      "cell_type": "code",
      "source": [
        "# Straddling checkerboard\n",
        "def straddle(message, alphabet):\n",
        "    code_map = {}\n",
        "    for i, row in enumerate(alphabet):\n",
        "        for j, char in enumerate(row):\n",
        "            code_map[char] = str(i) + str(j)\n",
        "    encrypted_message = \"\"\n",
        "    for char in message:\n",
        "        if char.isdigit():\n",
        "            encrypted_message += \"\\\\\" + char\n",
        "        elif char in code_map:\n",
        "            encrypted_message += code_map[char]\n",
        "        else:\n",
        "            encrypted_message += char\n",
        "    return encrypted_message\n",
        "def unstraddle(message, alphabet):\n",
        "    code_map = {}\n",
        "    for i, row in enumerate(alphabet):\n",
        "        for j, char in enumerate(row):\n",
        "            code_map[str(i) + str(j)] = char\n",
        "    decrypted_message = \"\"\n",
        "    i = 0\n",
        "    while i < len(message):\n",
        "        if message[i] == \"\\\\\":\n",
        "            decrypted_message += message[i + 1]\n",
        "            i += 2\n",
        "        elif message[i:i+2] in code_map:\n",
        "            decrypted_message += code_map[message[i:i+2]]\n",
        "            i += 2\n",
        "        else:\n",
        "            decrypted_message += message[i]\n",
        "            i += 1\n",
        "    return decrypted_message\n",
        "message = \"HELLO123\"\n",
        "alphabet = [\"ABCDEF\", \"GHIJKL\", \"MNOPQR\"]\n",
        "encrypted = straddle(message, alphabet)\n",
        "decrypted = unstraddle(encrypted, alphabet)\n",
        "print(\"Original Message:\", message)\n",
        "print(\"Encrypted Message:\", encrypted)\n",
        "print(\"Decrypted Message:\", decrypted)"
      ],
      "metadata": {
        "colab": {
          "base_uri": "https://localhost:8080/"
        },
        "id": "FILami10WLiq",
        "outputId": "2fc335a2-f546-47c5-c484-321d32137513"
      },
      "execution_count": 67,
      "outputs": [
        {
          "output_type": "stream",
          "name": "stdout",
          "text": [
            "Original Message: HELLO123\n",
            "Encrypted Message: 1104151522\\1\\2\\3\n",
            "Decrypted Message: HELLO123\n"
          ]
        }
      ]
    },
    {
      "cell_type": "code",
      "source": [
        "# Stream Merge\n",
        "def merge_sorted_arrays(arrays):\n",
        "    result = []\n",
        "    pointers = [0] * len(arrays)\n",
        "    while any(pointers[i] < len(arrays[i]) for i in range(len(arrays))):\n",
        "        min_val = float('inf')\n",
        "        min_index = None\n",
        "        for i in range(len(arrays)):\n",
        "            if pointers[i] < len(arrays[i]) and arrays[i][pointers[i]] < min_val:\n",
        "                min_val = arrays[i][pointers[i]]\n",
        "                min_index = i\n",
        "        result.append(min_val)\n",
        "        pointers[min_index] += 1\n",
        "    return result\n",
        "arrays = [[1, 3, 5], [2, 4, 6], [0, 7, 8]]\n",
        "sorted_result = merge_sorted_arrays(arrays)\n",
        "print(sorted_result)"
      ],
      "metadata": {
        "colab": {
          "base_uri": "https://localhost:8080/"
        },
        "id": "tA2jIAhlWw8w",
        "outputId": "b698bfe0-82b7-4265-ffd6-31639c802b30"
      },
      "execution_count": 69,
      "outputs": [
        {
          "output_type": "stream",
          "name": "stdout",
          "text": [
            "[0, 1, 2, 3, 4, 5, 6, 7, 8]\n"
          ]
        }
      ]
    },
    {
      "cell_type": "code",
      "source": [
        "# Strip control codes and extended characters from a string\n",
        "import re\n",
        "def strip_control_and_extended_characters(input_string):\n",
        "    pattern = r'[\\x00-\\x1F\\x7F]|[^ -~]'\n",
        "    stripped_string = re.sub(pattern, '', input_string)\n",
        "    return stripped_string\n",
        "input_string = \"Hello\\x1B\\x1F\\x7F World! ±\"\n",
        "stripped_string = strip_control_and_extended_characters(input_string)\n",
        "print(\"Original String:\", input_string)\n",
        "print(\"Stripped String:\", stripped_string)"
      ],
      "metadata": {
        "colab": {
          "base_uri": "https://localhost:8080/"
        },
        "id": "Vnsi4hWxXRCA",
        "outputId": "c29bc370-e37c-4ff0-c43e-285d4a9322d8"
      },
      "execution_count": 72,
      "outputs": [
        {
          "output_type": "stream",
          "name": "stdout",
          "text": [
            "Original String: Hello\u001b\u001f World! ±\n",
            "Stripped String: Hello World! \n"
          ]
        }
      ]
    },
    {
      "cell_type": "code",
      "source": [
        "# Subleq\n",
        "def subleq_interpreter(memory):\n",
        "    output = \"\"\n",
        "    instruction_pointer = 0\n",
        "    while True:\n",
        "        A = memory[instruction_pointer]\n",
        "        B = memory[instruction_pointer + 1]\n",
        "        C = memory[instruction_pointer + 2]\n",
        "        instruction_pointer += 3\n",
        "        if A == -1:\n",
        "            memory[B] = ord(input(\"Input a character: \")[0])\n",
        "        elif B == -1:\n",
        "            output += chr(memory[A])\n",
        "        else:\n",
        "            memory[B] -= memory[A]\n",
        "            if memory[B] <= 0:\n",
        "                instruction_pointer = C\n",
        "        if instruction_pointer < 0:\n",
        "            break\n",
        "    return output\n",
        "program = [15, 17, -1, 17, -1, -1, 16, 1, -1, 16, 3, -1, 15, 15, 0, 0, -1, 72, 101, 108, 108, 111, 44, 32, 119, 111, 114, 108, 100, 33, 10, 0]\n",
        "output = subleq_interpreter(program)\n",
        "print(output)"
      ],
      "metadata": {
        "colab": {
          "base_uri": "https://localhost:8080/"
        },
        "id": "8QEEMAcCYR3o",
        "outputId": "d055392b-bffa-4060-848d-4aa709fc0f11"
      },
      "execution_count": 74,
      "outputs": [
        {
          "output_type": "stream",
          "name": "stdout",
          "text": [
            "Hello, world!\n",
            "\n"
          ]
        }
      ]
    },
    {
      "cell_type": "code",
      "source": [
        "# Sudoku\n",
        "def is_valid(board, row, col, num):\n",
        "    if num in board[row]:\n",
        "        return False\n",
        "    for i in range(9):\n",
        "        if board[i][col] == num:\n",
        "            return False\n",
        "    start_row, start_col = 3 * (row // 3), 3 * (col // 3)\n",
        "    for i in range(3):\n",
        "        for j in range(3):\n",
        "            if board[start_row + i][start_col + j] == num:\n",
        "                return False\n",
        "    return True\n",
        "def solve_sudoku(board):\n",
        "    empty_cell = find_empty_cell(board)\n",
        "    if not empty_cell:\n",
        "        return True\n",
        "    row, col = empty_cell\n",
        "    for num in range(1, 10):\n",
        "        if is_valid(board, row, col, num):\n",
        "            board[row][col] = num\n",
        "            if solve_sudoku(board):\n",
        "                return True\n",
        "            board[row][col] = -1\n",
        "    return False\n",
        "def find_empty_cell(board):\n",
        "    for i in range(9):\n",
        "        for j in range(9):\n",
        "            if board[i][j] == -1:\n",
        "                return (i, j)\n",
        "    return None\n",
        "def print_board(board):\n",
        "    for row in board:\n",
        "        print(row)\n",
        "board = [\n",
        "    [5, 3, -1, -1, 7, -1, -1, -1, -1],\n",
        "    [6, -1, -1, 1, 9, 5, -1, -1, -1],\n",
        "    [-1, 9, 8, -1, -1, -1, -1, 6, -1],\n",
        "    [8, -1, -1, -1, 6, -1, -1, -1, 3],\n",
        "    [4, -1, -1, 8, -1, 3, -1, -1, 1],\n",
        "    [7, -1, -1, -1, 2, -1, -1, -1, 6],\n",
        "    [-1, 6, -1, -1, -1, -1, 2, 8, -1],\n",
        "    [-1, -1, -1, 4, 1, 9, -1, -1, 5],\n",
        "    [-1, -1, -1, -1, 8, -1, -1, 7, 9]\n",
        "]\n",
        "print(\"Partially filled Sudoku board:\")\n",
        "print_board(board)\n",
        "if solve_sudoku(board):\n",
        "    print(\"\\nSolved Sudoku board:\")\n",
        "    print_board(board)\n",
        "else:\n",
        "    print(\"\\nNo solution exists for the given Sudoku board.\")"
      ],
      "metadata": {
        "colab": {
          "base_uri": "https://localhost:8080/"
        },
        "id": "KDCdyeAeZAWo",
        "outputId": "4db05fc2-d884-4f8b-c3e2-53e476d6fb0f"
      },
      "execution_count": 76,
      "outputs": [
        {
          "output_type": "stream",
          "name": "stdout",
          "text": [
            "Partially filled Sudoku board:\n",
            "[5, 3, -1, -1, 7, -1, -1, -1, -1]\n",
            "[6, -1, -1, 1, 9, 5, -1, -1, -1]\n",
            "[-1, 9, 8, -1, -1, -1, -1, 6, -1]\n",
            "[8, -1, -1, -1, 6, -1, -1, -1, 3]\n",
            "[4, -1, -1, 8, -1, 3, -1, -1, 1]\n",
            "[7, -1, -1, -1, 2, -1, -1, -1, 6]\n",
            "[-1, 6, -1, -1, -1, -1, 2, 8, -1]\n",
            "[-1, -1, -1, 4, 1, 9, -1, -1, 5]\n",
            "[-1, -1, -1, -1, 8, -1, -1, 7, 9]\n",
            "\n",
            "Solved Sudoku board:\n",
            "[5, 3, 4, 6, 7, 8, 9, 1, 2]\n",
            "[6, 7, 2, 1, 9, 5, 3, 4, 8]\n",
            "[1, 9, 8, 3, 4, 2, 5, 6, 7]\n",
            "[8, 5, 9, 7, 6, 1, 4, 2, 3]\n",
            "[4, 2, 6, 8, 5, 3, 7, 9, 1]\n",
            "[7, 1, 3, 9, 2, 4, 8, 5, 6]\n",
            "[9, 6, 1, 5, 3, 7, 2, 8, 4]\n",
            "[2, 8, 7, 4, 1, 9, 6, 3, 5]\n",
            "[3, 4, 5, 2, 8, 6, 1, 7, 9]\n"
          ]
        }
      ]
    },
    {
      "cell_type": "code",
      "source": [
        "# Sum digits of an integer\n",
        "def sum_of_digits_in_base(number_str):\n",
        "    base_values = {str(i): i for i in range(10)}\n",
        "    base_values.update({chr(ord('a') + i): i + 10 for i in range(26)})\n",
        "    total_sum = 0\n",
        "    for digit in number_str:\n",
        "        total_sum += base_values[digit.lower()]\n",
        "    return total_sum\n",
        "print(sum_of_digits_in_base(\"1\"))\n",
        "print(sum_of_digits_in_base(\"1234\"))\n",
        "print(sum_of_digits_in_base(\"fe\"))\n",
        "print(sum_of_digits_in_base(\"f0e\"))"
      ],
      "metadata": {
        "colab": {
          "base_uri": "https://localhost:8080/"
        },
        "id": "mAXSJhGmdbb4",
        "outputId": "16943c0b-cb3c-43fe-cad0-88f76c90b0f1"
      },
      "execution_count": 85,
      "outputs": [
        {
          "output_type": "stream",
          "name": "stdout",
          "text": [
            "1\n",
            "10\n",
            "29\n",
            "29\n"
          ]
        }
      ]
    },
    {
      "cell_type": "code",
      "source": [
        "# Sum multiples of 3 and 5\n",
        "def sum_multiples_of_3_or_5(n):\n",
        "    total_sum = 0\n",
        "    for i in range(1, n):\n",
        "        if i % 3 == 0 or i % 5 == 0:\n",
        "            total_sum += i\n",
        "    return total_sum\n",
        "n = 20\n",
        "result = sum_multiples_of_3_or_5(n)\n",
        "print(f\"The sum of all positive multiples of 3 or 5 below {n} = {result}\")"
      ],
      "metadata": {
        "colab": {
          "base_uri": "https://localhost:8080/"
        },
        "id": "0BlZJa7kd4zs",
        "outputId": "5cc5b7f1-0897-4bcc-8969-8e7d560c32d1"
      },
      "execution_count": 87,
      "outputs": [
        {
          "output_type": "stream",
          "name": "stdout",
          "text": [
            "The sum of all positive multiples of 3 or 5 below 20 = 78\n"
          ]
        }
      ]
    },
    {
      "cell_type": "code",
      "source": [
        "# Sum of a series\n",
        "def series_sum(a, b):\n",
        "    def sum_of_first_n_terms(n):\n",
        "        return sum(1/(k**2) for k in range(1, n+1))\n",
        "    sum_b = sum_of_first_n_terms(b)\n",
        "    if a > 1:\n",
        "        sum_a_minus_1 = sum_of_first_n_terms(a - 1)\n",
        "    else:\n",
        "        sum_a_minus_1 = 0\n",
        "    sum_a_to_b = sum_b - sum_a_minus_1\n",
        "    return sum_a_to_b\n",
        "a = 2\n",
        "b = 5\n",
        "result = series_sum(a, b)\n",
        "print(\"The sum of terms from\", a, \"to\", b, \"=\", result)"
      ],
      "metadata": {
        "colab": {
          "base_uri": "https://localhost:8080/"
        },
        "id": "v8-E3iOEfcop",
        "outputId": "75d35e53-bcbc-4e52-b00f-7692be357dc9"
      },
      "execution_count": 89,
      "outputs": [
        {
          "output_type": "stream",
          "name": "stdout",
          "text": [
            "The sum of terms from 2 to 5 = 0.4636111111111112\n"
          ]
        }
      ]
    },
    {
      "cell_type": "code",
      "source": [
        "# Sum of squares\n",
        "def sum_of_squares(arr):\n",
        "    return sum(x**2 for x in arr)\n",
        "my_array = [1, 2, 3, 4, 5]\n",
        "result = sum_of_squares(my_array)\n",
        "print(\"Sum of squares:\", result)"
      ],
      "metadata": {
        "colab": {
          "base_uri": "https://localhost:8080/"
        },
        "id": "5TUGrIwZf5_G",
        "outputId": "a0353415-85cb-4c1e-8fa7-cc44b67e75f0"
      },
      "execution_count": 91,
      "outputs": [
        {
          "output_type": "stream",
          "name": "stdout",
          "text": [
            "Sum of squares: 55\n"
          ]
        }
      ]
    },
    {
      "cell_type": "code",
      "source": [
        "# Sum to 100\n",
        "def sum_to_target(target):\n",
        "    def generate_expressions(curr_expr, index):\n",
        "        if index == len(num_str):\n",
        "            if eval(curr_expr) == target:\n",
        "                solutions.append(curr_expr)\n",
        "            return\n",
        "        digit = num_str[index]\n",
        "        generate_expressions(curr_expr + '+' + digit, index + 1)\n",
        "        generate_expressions(curr_expr + '-' + digit, index + 1)\n",
        "        generate_expressions(curr_expr + digit, index + 1)\n",
        "    num_str = '123456789'\n",
        "    solutions = []\n",
        "    generate_expressions(num_str[0], 1)\n",
        "    return sorted(solutions)\n",
        "target_sum = 100\n",
        "result = sum_to_target(target_sum)\n",
        "for expression in result:\n",
        "    print(expression)"
      ],
      "metadata": {
        "colab": {
          "base_uri": "https://localhost:8080/"
        },
        "id": "g-2CCJZVgL8U",
        "outputId": "f17e0b9d-c1a4-43d8-c82e-3675dd1643a7"
      },
      "execution_count": 93,
      "outputs": [
        {
          "output_type": "stream",
          "name": "stdout",
          "text": [
            "1+2+3-4+5+6+78+9\n",
            "1+2+34-5+67-8+9\n",
            "1+23-4+5+6+78-9\n",
            "1+23-4+56+7+8+9\n",
            "12+3+4+5-6-7+89\n",
            "12+3-4+5+67+8+9\n",
            "12-3-4+5-6+7+89\n",
            "123+4-5+67-89\n",
            "123+45-67+8-9\n",
            "123-4-5-6-7+8-9\n",
            "123-45-67+89\n"
          ]
        }
      ]
    },
    {
      "cell_type": "code",
      "source": [
        "# Sutherland-Hodgman polygon clipping\n",
        "def sutherland_hodgman(subject_polygon, clip_polygon):\n",
        "    def inside(point, edge):\n",
        "        return (edge[1][0] - edge[0][0]) * (point[1] - edge[0][1]) > \\\n",
        "               (edge[1][1] - edge[0][1]) * (point[0] - edge[0][0])\n",
        "    def intersection(point1, point2, edge):\n",
        "        x1, y1 = point1\n",
        "        x2, y2 = point2\n",
        "        x3, y3 = edge[0]\n",
        "        x4, y4 = edge[1]\n",
        "        den = (x1 - x2) * (y3 - y4) - (y1 - y2) * (x3 - x4)\n",
        "        if den == 0:\n",
        "            return None\n",
        "        t = ((x1 - x3) * (y3 - y4) - (y1 - y3) * (x3 - x4)) / den\n",
        "        x = round(x1 + t * (x2 - x1), 3)\n",
        "        y = round(y1 + t * (y2 - y1), 3)\n",
        "        return x, y\n",
        "    output_polygon = subject_polygon\n",
        "    for clip_edge in zip(clip_polygon, clip_polygon[1:] + [clip_polygon[0]]):\n",
        "        input_polygon = output_polygon\n",
        "        output_polygon = []\n",
        "        for i in range(len(input_polygon)):\n",
        "            current_point = input_polygon[i]\n",
        "            previous_point = input_polygon[i - 1]\n",
        "            if inside(current_point, clip_edge):\n",
        "                if not inside(previous_point, clip_edge):\n",
        "                    intersection_point = intersection(previous_point, current_point, clip_edge)\n",
        "                    if intersection_point:\n",
        "                        output_polygon.append(intersection_point)\n",
        "                output_polygon.append(current_point)\n",
        "            elif inside(previous_point, clip_edge):\n",
        "                intersection_point = intersection(previous_point, current_point, clip_edge)\n",
        "                if intersection_point:\n",
        "                    output_polygon.append(intersection_point)\n",
        "        output_polygon = output_polygon[:-1]\n",
        "    return output_polygon\n",
        "subject_polygon = [(50, 150), (200, 50), (350, 150), (350, 300), (250, 300), (200, 250), (150, 350), (100, 250), (100, 200)]\n",
        "clip_polygon = [(100, 100), (300, 100), (300, 300), (100, 300)]\n",
        "clipped_polygon = sutherland_hodgman(subject_polygon, clip_polygon)\n",
        "print(clipped_polygon)"
      ],
      "metadata": {
        "colab": {
          "base_uri": "https://localhost:8080/"
        },
        "id": "_KwfgJ2YgjhE",
        "outputId": "cb95fc19-9a40-43a4-8095-2c495aec01dc"
      },
      "execution_count": 96,
      "outputs": [
        {
          "output_type": "stream",
          "name": "stdout",
          "text": [
            "[(125.0, 300.0), (100.0, 250.0), (100.0, 116.667), (125.0, 100.0), (275.0, 100.0), (300.0, 116.667), (300.0, 300.0), (250.0, 300.0)]\n"
          ]
        }
      ]
    },
    {
      "cell_type": "code",
      "source": [
        "# Symmetric difference\n",
        "def symmetric_difference(A, B):\n",
        "    sym_diff_set = set(A) ^ set(B)\n",
        "    sym_diff_list = sorted(sym_diff_set)\n",
        "    return sym_diff_list\n",
        "A = [1, 2, 3]\n",
        "B = [1, 3, 4]\n",
        "result = symmetric_difference(A, B)\n",
        "print(result)"
      ],
      "metadata": {
        "colab": {
          "base_uri": "https://localhost:8080/"
        },
        "id": "QfplolsqhG8d",
        "outputId": "e699bb0d-6428-4be0-acb3-a58b6ac8b804"
      },
      "execution_count": 98,
      "outputs": [
        {
          "output_type": "stream",
          "name": "stdout",
          "text": [
            "[2, 4]\n"
          ]
        }
      ]
    },
    {
      "cell_type": "code",
      "source": [
        "# Taxicab numbers\n",
        "def find_taxicab_numbers(n):\n",
        "    taxicab_numbers = []\n",
        "    found_pairs = {}\n",
        "    for a in range(1, 1000):\n",
        "        for b in range(a, 1000):\n",
        "            pair_sum = a**3 + b**3\n",
        "            if pair_sum in found_pairs:\n",
        "                taxicab_numbers.append((pair_sum, (a, b), found_pairs[pair_sum]))\n",
        "            found_pairs[pair_sum] = (a, b)\n",
        "    taxicab_numbers.sort(key=lambda x: x[0])\n",
        "    return taxicab_numbers[:n]\n",
        "def display_taxicab_numbers(n):\n",
        "    taxicab_list = find_taxicab_numbers(n)\n",
        "    for idx, taxicab in enumerate(taxicab_list):\n",
        "        taxicab_sum, (a, b), (c, d) = taxicab\n",
        "        print(f\"Taxicab number {idx+1} = {taxicab_sum}\")\n",
        "        print(f\"Constituent cubes: ({a}^3 + {b}^3) = ({c}^3 + {d}^3)\")\n",
        "        print()\n",
        "n = 5\n",
        "display_taxicab_numbers(n)"
      ],
      "metadata": {
        "colab": {
          "base_uri": "https://localhost:8080/"
        },
        "id": "pBJ8vxMLie53",
        "outputId": "2cae70b6-2a8b-4c9f-cb84-2c6594016182"
      },
      "execution_count": 105,
      "outputs": [
        {
          "output_type": "stream",
          "name": "stdout",
          "text": [
            "Taxicab number 1 = 1729\n",
            "Constituent cubes: (9^3 + 10^3) = (1^3 + 12^3)\n",
            "\n",
            "Taxicab number 2 = 4104\n",
            "Constituent cubes: (9^3 + 15^3) = (2^3 + 16^3)\n",
            "\n",
            "Taxicab number 3 = 13832\n",
            "Constituent cubes: (18^3 + 20^3) = (2^3 + 24^3)\n",
            "\n",
            "Taxicab number 4 = 20683\n",
            "Constituent cubes: (19^3 + 24^3) = (10^3 + 27^3)\n",
            "\n",
            "Taxicab number 5 = 32832\n",
            "Constituent cubes: (18^3 + 30^3) = (4^3 + 32^3)\n",
            "\n"
          ]
        }
      ]
    },
    {
      "cell_type": "code",
      "source": [
        "# Tokenize a string with escaping\n",
        "def split_string(string, separator, escape):\n",
        "    result = []\n",
        "    escaped = False\n",
        "    current_field = ''\n",
        "    for char in string:\n",
        "        if char == escape:\n",
        "            escaped = not escaped\n",
        "        elif char == separator and not escaped:\n",
        "            result.append(current_field)\n",
        "            current_field = ''\n",
        "        else:\n",
        "            current_field += char\n",
        "    result.append(current_field)\n",
        "    return result\n",
        "input_string = 'one^|uno||three^^^^|four^^^|^cuatro|'\n",
        "separator_char = '|'\n",
        "escape_char = '^'\n",
        "output = split_string(input_string, separator_char, escape_char)\n",
        "print(output)"
      ],
      "metadata": {
        "colab": {
          "base_uri": "https://localhost:8080/"
        },
        "id": "lcyXkvo8jYU7",
        "outputId": "2e3d7aa9-4f01-471d-fa63-fa4cea9f6072"
      },
      "execution_count": 107,
      "outputs": [
        {
          "output_type": "stream",
          "name": "stdout",
          "text": [
            "['one|uno||three|four', 'cuatro|']\n"
          ]
        }
      ]
    },
    {
      "cell_type": "code",
      "source": [
        "# Topological sort\n",
        "from collections import defaultdict, deque\n",
        "def topological_sort(dependencies):\n",
        "    graph = defaultdict(list)\n",
        "    indegree = defaultdict(int)\n",
        "    for line in dependencies.split('\\n'):\n",
        "        if not line:\n",
        "            continue\n",
        "        library, *deps = line.split()\n",
        "        for dep in deps:\n",
        "            if dep != library:\n",
        "                graph[dep].append(library)\n",
        "                indegree[library] += 1\n",
        "    order = []\n",
        "    queue = deque([library for library in graph if indegree[library] == 0])\n",
        "    while queue:\n",
        "        current = queue.popleft()\n",
        "        order.append(current)\n",
        "        for neighbor in graph[current]:\n",
        "            indegree[neighbor] -= 1\n",
        "            if indegree[neighbor] == 0:\n",
        "                queue.append(neighbor)\n",
        "    if len(order) != len(graph):\n",
        "        raise ValueError(\"Input contains a cycle, cannot perform topological sort.\")\n",
        "    return order\n",
        "dependencies = \"\"\"\n",
        "des_system_lib   std synopsys std_cell_lib des_system_lib dw02 dw01 ramlib ieee\n",
        "dw01             ieee dw01 dware gtech\n",
        "dw02             ieee dw02 dware\n",
        "dw03             std synopsys dware dw03 dw02 dw01 ieee gtech\n",
        "dw04             dw04 ieee dw01 dware gtech\n",
        "dw05             dw05 ieee dware\n",
        "dw06             dw06 ieee dware\n",
        "dw07             ieee dware\n",
        "dware            ieee dware\n",
        "gtech            ieee gtech\n",
        "ramlib           std ieee\n",
        "std_cell_lib     ieee std_cell_lib\n",
        "synopsys\n",
        "\"\"\"\n",
        "try:\n",
        "    compile_order = topological_sort(dependencies)\n",
        "    print(\"Valid compile order of libraries:\")\n",
        "    for library in compile_order:\n",
        "        print(library)\n",
        "except ValueError as e:\n",
        "    print(e)"
      ],
      "metadata": {
        "colab": {
          "base_uri": "https://localhost:8080/"
        },
        "id": "ObYRM-Lykesm",
        "outputId": "623ddaec-23cd-48a9-fcdf-e8d31de4c6f6"
      },
      "execution_count": 111,
      "outputs": [
        {
          "output_type": "stream",
          "name": "stdout",
          "text": [
            "Valid compile order of libraries:\n",
            "std\n",
            "synopsys\n",
            "ieee\n",
            "dware\n",
            "gtech\n",
            "ramlib\n",
            "std_cell_lib\n",
            "dw02\n",
            "dw05\n",
            "dw06\n",
            "dw07\n",
            "dw01\n",
            "des_system_lib\n",
            "dw03\n",
            "dw04\n"
          ]
        }
      ]
    },
    {
      "cell_type": "code",
      "source": [
        "# Top rank per group\n",
        "def top_rank_per_group(n, data, group_key, rank_key):\n",
        "    groups = {}\n",
        "    for item in data:\n",
        "        group = item[group_key]\n",
        "        if group not in groups:\n",
        "            groups[group] = []\n",
        "        groups[group].append(item)\n",
        "    for group in groups:\n",
        "        groups[group].sort(key=lambda x: x[rank_key], reverse=True)\n",
        "    result = [groups[group][:n] for group in groups]\n",
        "    return result\n",
        "testData1 = [\n",
        "    {'name': 'Tyler Bennett', 'id': 'E10297', 'salary': 32000, 'dept': 'D101'},\n",
        "    {'name': 'John Rappl', 'id': 'E21437', 'salary': 47000, 'dept': 'D050'},\n",
        "    {'name': 'George Woltman', 'id': 'E00127', 'salary': 53500, 'dept': 'D101'},\n",
        "    {'name': 'Adam Smith', 'id': 'E63535', 'salary': 18000, 'dept': 'D202'},\n",
        "    {'name': 'Claire Buckman', 'id': 'E39876', 'salary': 27800, 'dept': 'D202'},\n",
        "    {'name': 'David McClellan', 'id': 'E04242', 'salary': 41500, 'dept': 'D101'},\n",
        "    {'name': 'Rich Holcomb', 'id': 'E01234', 'salary': 49500, 'dept': 'D202'},\n",
        "    {'name': 'Nathan Adams', 'id': 'E41298', 'salary': 21900, 'dept': 'D050'},\n",
        "    {'name': 'Richard Potter', 'id': 'E43128', 'salary': 15900, 'dept': 'D101'},\n",
        "    {'name': 'David Motsinger', 'id': 'E27002', 'salary': 19250, 'dept': 'D202'},\n",
        "    {'name': 'Tim Sampair', 'id': 'E03033', 'salary': 27000, 'dept': 'D101'},\n",
        "    {'name': 'Kim Arlich', 'id': 'E10001', 'salary': 57000, 'dept': 'D190'},\n",
        "    {'name': 'Timothy Grove', 'id': 'E16398', 'salary': 29900, 'dept': 'D190'}\n",
        "]\n",
        "print(top_rank_per_group(2, testData1, 'dept', 'salary'))\n",
        "testData2 = [\n",
        "    {'name': 'Friday 13th', 'genre': 'horror', 'rating': 9.9},\n",
        "    {'name': \"Nightmare on Elm's Street\", 'genre': 'horror', 'rating': 5.7},\n",
        "    {'name': 'Titanic', 'genre': 'drama', 'rating': 7.3},\n",
        "    {'name': 'Maze Runner', 'genre': 'scifi', 'rating': 7.1},\n",
        "    {'name': 'Blade runner', 'genre': 'scifi', 'rating': 8.9}\n",
        "]\n",
        "print(top_rank_per_group(1, testData2, 'genre', 'rating'))"
      ],
      "metadata": {
        "colab": {
          "base_uri": "https://localhost:8080/"
        },
        "id": "-Y0YyVDfnfc6",
        "outputId": "11fa253e-6155-4d0f-878e-01c0ba04960c"
      },
      "execution_count": 113,
      "outputs": [
        {
          "output_type": "stream",
          "name": "stdout",
          "text": [
            "[[{'name': 'George Woltman', 'id': 'E00127', 'salary': 53500, 'dept': 'D101'}, {'name': 'David McClellan', 'id': 'E04242', 'salary': 41500, 'dept': 'D101'}], [{'name': 'John Rappl', 'id': 'E21437', 'salary': 47000, 'dept': 'D050'}, {'name': 'Nathan Adams', 'id': 'E41298', 'salary': 21900, 'dept': 'D050'}], [{'name': 'Rich Holcomb', 'id': 'E01234', 'salary': 49500, 'dept': 'D202'}, {'name': 'Claire Buckman', 'id': 'E39876', 'salary': 27800, 'dept': 'D202'}], [{'name': 'Kim Arlich', 'id': 'E10001', 'salary': 57000, 'dept': 'D190'}, {'name': 'Timothy Grove', 'id': 'E16398', 'salary': 29900, 'dept': 'D190'}]]\n",
            "[[{'name': 'Friday 13th', 'genre': 'horror', 'rating': 9.9}], [{'name': 'Titanic', 'genre': 'drama', 'rating': 7.3}], [{'name': 'Blade runner', 'genre': 'scifi', 'rating': 8.9}]]\n"
          ]
        }
      ]
    },
    {
      "cell_type": "code",
      "source": [
        "# Towers of hanoi\n",
        "def towers_of_hanoi(n, source, auxiliary, destination):\n",
        "    if n == 1:\n",
        "        return [[source, destination]]\n",
        "    else:\n",
        "        moves = towers_of_hanoi(n-1, source, destination, auxiliary)\n",
        "        moves.append([source, destination])\n",
        "        moves.extend(towers_of_hanoi(n-1, auxiliary, source, destination))\n",
        "        return moves\n",
        "n = 4\n",
        "source = 'A'\n",
        "auxiliary = 'B'\n",
        "destination = 'C'\n",
        "moves = towers_of_hanoi(n, source, auxiliary, destination)\n",
        "print(moves)"
      ],
      "metadata": {
        "colab": {
          "base_uri": "https://localhost:8080/"
        },
        "id": "dUdktJk8oC6-",
        "outputId": "b826da3c-697c-4a84-93bb-0974d449aded"
      },
      "execution_count": 114,
      "outputs": [
        {
          "output_type": "stream",
          "name": "stdout",
          "text": [
            "[['A', 'B'], ['A', 'C'], ['B', 'C'], ['A', 'B'], ['C', 'A'], ['C', 'B'], ['A', 'B'], ['A', 'C'], ['B', 'C'], ['B', 'A'], ['C', 'A'], ['B', 'C'], ['A', 'B'], ['A', 'C'], ['B', 'C']]\n"
          ]
        }
      ]
    },
    {
      "cell_type": "code",
      "source": [
        "# Vector cross product\n",
        "def cross_product(vector1, vector2):\n",
        "    if len(vector1) != 3 or len(vector2) != 3:\n",
        "        return None\n",
        "    x1, y1, z1 = vector1\n",
        "    x2, y2, z2 = vector2\n",
        "    cross_x = y1 * z2 - z1 * y2\n",
        "    cross_y = z1 * x2 - x1 * z2\n",
        "    cross_z = x1 * y2 - y1 * x2\n",
        "    return [cross_x, cross_y, cross_z]\n",
        "vector1 = [1, 2, 3]\n",
        "vector2 = [4, 5, 6]\n",
        "print(cross_product(vector1, vector2))"
      ],
      "metadata": {
        "colab": {
          "base_uri": "https://localhost:8080/"
        },
        "id": "B7TSqMU7oaEP",
        "outputId": "40b42dd6-f4ad-4281-9762-abf0cc97e294"
      },
      "execution_count": 116,
      "outputs": [
        {
          "output_type": "stream",
          "name": "stdout",
          "text": [
            "[-3, 6, -3]\n"
          ]
        }
      ]
    },
    {
      "cell_type": "code",
      "source": [
        "# Vector dot product\n",
        "def dot_product(vector1, vector2):\n",
        "    if not (isinstance(vector1, list) and isinstance(vector2, list)):\n",
        "        return None\n",
        "    if len(vector1) != len(vector2):\n",
        "        return None\n",
        "    dot_product_result = sum(x * y for x, y in zip(vector1, vector2))\n",
        "    return dot_product_result\n",
        "vector1 = [1, 2, 3]\n",
        "vector2 = [4, 5, 6]\n",
        "result = dot_product(vector1, vector2)\n",
        "print(\"Dot Product:\", result)"
      ],
      "metadata": {
        "colab": {
          "base_uri": "https://localhost:8080/"
        },
        "id": "wLduy_wdo1Hm",
        "outputId": "95741a7f-2097-43ee-9c71-afd549cd326f"
      },
      "execution_count": 118,
      "outputs": [
        {
          "output_type": "stream",
          "name": "stdout",
          "text": [
            "Dot Product: 32\n"
          ]
        }
      ]
    },
    {
      "cell_type": "code",
      "source": [
        "# Word frequency\n",
        "import re\n",
        "from collections import Counter\n",
        "def most_common_words(text, n):\n",
        "    if not text:\n",
        "        return []\n",
        "    words = re.findall(r'\\w+', text.lower())\n",
        "    word_counts = Counter(words)\n",
        "    most_common = word_counts.most_common(n)\n",
        "    return most_common\n",
        "text = \"Hello hello goodbye\"\n",
        "n = 2\n",
        "result = most_common_words(text, n)\n",
        "print(result)"
      ],
      "metadata": {
        "colab": {
          "base_uri": "https://localhost:8080/"
        },
        "id": "CwzS2HnWpQ_j",
        "outputId": "b7eee1af-281f-4a50-f9a5-d9a4bf1329ef"
      },
      "execution_count": 120,
      "outputs": [
        {
          "output_type": "stream",
          "name": "stdout",
          "text": [
            "[('hello', 2), ('goodbye', 1)]\n"
          ]
        }
      ]
    },
    {
      "cell_type": "code",
      "source": [
        "# Word wrap\n",
        "def wrap_text(text, width):\n",
        "    lines = []\n",
        "    for line in text.splitlines():\n",
        "        while len(line) > width:\n",
        "            space_index = line.rfind(' ', 0, width)\n",
        "            if space_index == -1:\n",
        "                space_index = width\n",
        "            lines.append(line[:space_index].strip())\n",
        "            line = line[space_index:].lstrip()\n",
        "        lines.append(line.strip())\n",
        "    return '\\n'.join(lines)\n",
        "text = \"Wrap text using a more sophisticated algorithm such as the Knuth and Plass TeX algorithm. If your language provides this, you get easy extra credit, but you must reference documentation indicating that the algorithm is something better than a simple minimum length algorithm.\"\n",
        "wrapped_text = wrap_text(text, 80)\n",
        "print(wrapped_text)"
      ],
      "metadata": {
        "colab": {
          "base_uri": "https://localhost:8080/"
        },
        "id": "ev0szcO4p0Ny",
        "outputId": "3bf053cb-1d56-41e3-fdcc-f1fd9511eccf"
      },
      "execution_count": 124,
      "outputs": [
        {
          "output_type": "stream",
          "name": "stdout",
          "text": [
            "Wrap text using a more sophisticated algorithm such as the Knuth and Plass TeX\n",
            "algorithm. If your language provides this, you get easy extra credit, but you\n",
            "must reference documentation indicating that the algorithm is something better\n",
            "than a simple minimum length algorithm.\n"
          ]
        }
      ]
    },
    {
      "cell_type": "code",
      "source": [
        "# Y combinator\n",
        "def Y_combinator(f):\n",
        "    return (lambda x: f(lambda y: x(x)(y)))(lambda x: f(lambda y: x(x)(y)))\n",
        "def factorial_recursive(f):\n",
        "    def factorial(n):\n",
        "        if n == 0:\n",
        "            return 1\n",
        "        else:\n",
        "            return n * f(n - 1)\n",
        "    return factorial\n",
        "factorial = Y_combinator(factorial_recursive)\n",
        "print(factorial(1))\n",
        "print(factorial(2))\n",
        "print(factorial(3))\n",
        "print(factorial(4))\n",
        "print(factorial(10))"
      ],
      "metadata": {
        "colab": {
          "base_uri": "https://localhost:8080/"
        },
        "id": "TICS2H5xqbql",
        "outputId": "e5891b4f-2e83-4fa9-d327-b4de75943303"
      },
      "execution_count": 125,
      "outputs": [
        {
          "output_type": "stream",
          "name": "stdout",
          "text": [
            "1\n",
            "2\n",
            "6\n",
            "24\n",
            "3628800\n"
          ]
        }
      ]
    },
    {
      "cell_type": "code",
      "source": [
        "# Zeckendorf number representation\n",
        "def fibonacci_numbers(n):\n",
        "    fib = [1, 2]\n",
        "    while fib[-1] < n:\n",
        "        fib.append(fib[-1] + fib[-2])\n",
        "    return fib[:-1]\n",
        "def zeckendorf_representation(n):\n",
        "    if n == 0:\n",
        "        return [0]\n",
        "    elif n == 1:\n",
        "        return [1]\n",
        "    fib = fibonacci_numbers(n)\n",
        "    representation = []\n",
        "    while n > 0:\n",
        "        idx = max(i for i, val in enumerate(fib) if val <= n)\n",
        "        representation.append(1)\n",
        "        n -= fib[idx]\n",
        "        fib = fib[:idx]\n",
        "    return representation[::-1]\n",
        "n = 99\n",
        "print(\"Zeckendorf representation of\", n, \"=\", zeckendorf_representation(n))"
      ],
      "metadata": {
        "colab": {
          "base_uri": "https://localhost:8080/"
        },
        "id": "23uMB0yQq-3R",
        "outputId": "c257d25a-9eb5-4cd4-ec2d-dc0ca237703e"
      },
      "execution_count": 134,
      "outputs": [
        {
          "output_type": "stream",
          "name": "stdout",
          "text": [
            "Zeckendorf representation of 99 = [1, 1, 1]\n"
          ]
        }
      ]
    },
    {
      "cell_type": "code",
      "source": [
        "# Zig-zag matrix\n",
        "def generate_zigzag_array(n):\n",
        "    result = [[0] * n for _ in range(n)]\n",
        "    i, j = 0, 0\n",
        "    num = 0\n",
        "    for d in range(n * 2 - 1):\n",
        "        if d % 2 == 0:\n",
        "            while i >= 0 and j < n:\n",
        "                result[i][j] = num\n",
        "                num += 1\n",
        "                i -= 1\n",
        "                j += 1\n",
        "            i += 1\n",
        "            if j == n:\n",
        "                i += 1\n",
        "                j -= 1\n",
        "        else:\n",
        "            while j >= 0 and i < n:\n",
        "                result[i][j] = num\n",
        "                num += 1\n",
        "                i += 1\n",
        "                j -= 1\n",
        "            j += 1\n",
        "            if i == n:\n",
        "                j += 1\n",
        "                i -= 1\n",
        "    return result\n",
        "size = 7\n",
        "zigzag_array = generate_zigzag_array(size)\n",
        "for row in zigzag_array:\n",
        "    print(\" \".join(map(str, row)))"
      ],
      "metadata": {
        "colab": {
          "base_uri": "https://localhost:8080/"
        },
        "id": "AhgVhpLhsHSa",
        "outputId": "a539c2d0-acdb-4359-c26b-1fe09890a013"
      },
      "execution_count": 137,
      "outputs": [
        {
          "output_type": "stream",
          "name": "stdout",
          "text": [
            "0 1 5 6 14 15 27\n",
            "2 4 7 13 16 26 28\n",
            "3 8 12 17 25 29 38\n",
            "9 11 18 24 30 37 39\n",
            "10 19 23 31 36 40 45\n",
            "20 22 32 35 41 44 46\n",
            "21 33 34 42 43 47 48\n"
          ]
        }
      ]
    }
  ]
}